{
 "cells": [
  {
   "cell_type": "markdown",
   "metadata": {
    "pycharm": {
     "name": "#%% md\n"
    }
   },
   "source": [
    "# Bootcamp: Cientista de Dados - Trabalho Prático\n",
    "\n",
    "- Data: maio de 2022.\n",
    "\n",
    "## Autor\n",
    "\n",
    "Feito com :heart: por [Alexsander Lopes Camargos](https://github.com/alexcamargos) :wave: Entre em contato!\n",
    "\n",
    "[![GitHub](https://img.shields.io/badge/-AlexCamargos-1ca0f1?style=flat-square&labelColor=1ca0f1&logo=github&logoColor=white&link=https://github.com/alexcamargos)](https://github.com/alexcamargos)\n",
    "[![Twitter Badge](https://img.shields.io/badge/-@alcamargos-1ca0f1?style=flat-square&labelColor=1ca0f1&logo=twitter&logoColor=white&link=https://twitter.com/alcamargos)](https://twitter.com/alcamargos)\n",
    "[![Linkedin Badge](https://img.shields.io/badge/-alexcamargos-1ca0f1?style=flat-square&logo=Linkedin&logoColor=white&link=https://www.linkedin.com/in/alexcamargos/)](https://www.linkedin.com/in/alexcamargos/)\n",
    "[![Gmail Badge](https://img.shields.io/badge/-alcamargos@vivaldi.net-1ca0f1?style=flat-square&labelColor=1ca0f1&logo=Gmail&logoColor=white&link=mailto:alcamargos@vivaldi.net)](mailto:alcamargos@vivaldi.net)\n",
    "\n",
    "## Licença\n",
    "\n",
    "[MIT License](https://choosealicense.com/licenses/mit/)\n",
    "\n",
    "# Módulo 1 - Análise Estatística de Dados\n",
    "\n",
    "## Objetivos\n",
    "\n",
    "Exercitar os seguintes conceitos trabalhados no Módulo:\n",
    "\n",
    "- Análise exploratória\n",
    "- Teste de hipóteses\n",
    "- Correlação\n",
    "- Regressão\n",
    "\n",
    "## Enunciado\n",
    "\n",
    "O _Trabalho Prático_ é constituído de um problema de negócio contendo quinze questões, que serão resolvidas utilizando o _R_. Será disponibilizado código R completo para execução de cada questão, a fim de que o aluno possa direcionar seus esforços no entendimento dos métodos estatísticos e interpretações. Mas àquele interessado em aprender o R, é uma excelente oportunidade e pode contar com apoio do professor.\n",
    "\n",
    "## Atividades\n",
    "\n",
    "Uma empresa que trabalha com aluguel de veículos deseja estudar algumas variáveis que eles suspeitam que influenciam no preço do aluguel do veículo. Para confirmar essas suspeitas, foi reunido em um conjunto dados um histórico contendo vinte locações que foram exportadas aleatoriamente do banco de dados, ou seja, temos vinte observações.\n",
    "\n",
    "Foram selecionadas sete variáveis para este estudo:\n",
    "\n",
    "- _Preço_ (variável contínua medida em reais) – É a variável resposta, nos diz qual foi o preço daquela locação.\n",
    "- _Portas_ (variável categórica com dois níveis) – Nos informa se o veículo alugado era de duas portas ou quatro portas.\n",
    "- _Ar Condicionado_ (variável categórica com dois níveis) – Nos informa se o veículo alugado tinha ar-condicionado ou não.\n",
    "- _Quadrimestre_ (variável categórica com três níveis) – Informa se aquela locação ocorreu no primeiro, segundo ou terceiro quadrimestre do ano.\n",
    "- _Idade do Locatário_ (variável discreta medida em anos) – Nos informa qual a idade do indivíduo que realizou a locação.\n",
    "- _Quilometragem_ (variável contínua medida em quilómetros) – Nos informa quantos quilómetros rodados o veículo tinha no ato da locação.\n",
    "- _Dólar_ (variável contínua medida em dólares) – Nos informa qual a cotação do dólar no dia da locação.\n"
   ]
  },
  {
   "cell_type": "code",
   "execution_count": 1,
   "metadata": {
    "pycharm": {
     "name": "#%%\n"
    }
   },
   "outputs": [
    {
     "name": "stdout",
     "output_type": "stream",
     "text": [
      "Versão da linguagem Python utilizada neste Jupyter Notebook: 3.10.4\n"
     ]
    }
   ],
   "source": [
    "# Versão da Linguagem Python\n",
    "from platform import python_version as py_version\n",
    "\n",
    "print(f'Versão da linguagem Python utilizada neste Jupyter Notebook: {py_version()}')\n"
   ]
  },
  {
   "cell_type": "code",
   "execution_count": 2,
   "metadata": {
    "pycharm": {
     "name": "#%%\n"
    }
   },
   "outputs": [],
   "source": [
    "# matplotlib - Biblioteca para plotagem de gráficos\n",
    "import matplotlib.pyplot as plt\n",
    "\n",
    "# numpy - Biblioteca para operações matemáticas\n",
    "import numpy as np\n",
    "\n",
    "# pandas - Biblioteca para manipulação de dados\n",
    "import pandas as pd\n",
    "\n",
    "# scipy - Biblioteca para cálculos matemáticos\n",
    "import scipy.stats as st\n",
    "\n",
    "# seaborn - Biblioteca para visualização de dados\n",
    "import seaborn as sns\n",
    "\n",
    "# pearson_test - Teste de Pearson para verificar a correlação entre duas variáveis\n",
    "from scipy.stats import pearsonr as pearson_test\n",
    "\n",
    "# shapiro_test - Teste de Shapiro-Wilk para verificar a normalidade dos dados\n",
    "from scipy.stats import shapiro as shapiro_test\n",
    "\n",
    "# LinearRegression - Cálculo de regressão linear\n",
    "from sklearn.linear_model import LinearRegression\n",
    "\n",
    "# statsmodels - Biblioteca para cálculos estatísticos\n",
    "from statsmodels import api as sm\n",
    "\n",
    "# ols - Cálculo de regressão linear\n",
    "from statsmodels.formula.api import ols"
   ]
  },
  {
   "cell_type": "code",
   "execution_count": 3,
   "metadata": {
    "pycharm": {
     "name": "#%%\n"
    }
   },
   "outputs": [],
   "source": [
    "# Salvando os gráficos junto (inline) com o notebook.\n",
    "%matplotlib inline"
   ]
  },
  {
   "cell_type": "code",
   "execution_count": 4,
   "metadata": {
    "pycharm": {
     "name": "#%%\n"
    }
   },
   "outputs": [],
   "source": [
    "# Configurando a exibição dos gráficos para o notebook.\n",
    "sns.set_theme(style='whitegrid', context='notebook')\n",
    "\n",
    "# Tamanho padrão dos gráficos.\n",
    "sns.set(rc={'figure.figsize': (12, 6)})"
   ]
  },
  {
   "cell_type": "code",
   "execution_count": 5,
   "metadata": {
    "pycharm": {
     "name": "#%%\n"
    }
   },
   "outputs": [
    {
     "data": {
      "text/html": [
       "<div>\n",
       "<style scoped>\n",
       "    .dataframe tbody tr th:only-of-type {\n",
       "        vertical-align: middle;\n",
       "    }\n",
       "\n",
       "    .dataframe tbody tr th {\n",
       "        vertical-align: top;\n",
       "    }\n",
       "\n",
       "    .dataframe thead th {\n",
       "        text-align: right;\n",
       "    }\n",
       "</style>\n",
       "<table border=\"1\" class=\"dataframe\">\n",
       "  <thead>\n",
       "    <tr style=\"text-align: right;\">\n",
       "      <th></th>\n",
       "      <th>Preco</th>\n",
       "      <th>Portas</th>\n",
       "      <th>Ar_Condicionado</th>\n",
       "      <th>Quadrimestre</th>\n",
       "      <th>Idade_Locatario</th>\n",
       "      <th>Quilometragem</th>\n",
       "      <th>Dolar</th>\n",
       "    </tr>\n",
       "    <tr>\n",
       "      <th>id</th>\n",
       "      <th></th>\n",
       "      <th></th>\n",
       "      <th></th>\n",
       "      <th></th>\n",
       "      <th></th>\n",
       "      <th></th>\n",
       "      <th></th>\n",
       "    </tr>\n",
       "  </thead>\n",
       "  <tbody>\n",
       "    <tr>\n",
       "      <th>1</th>\n",
       "      <td>368.384515</td>\n",
       "      <td>duas_portas</td>\n",
       "      <td>sem_ar_condicionado</td>\n",
       "      <td>segundo_quadrimestre</td>\n",
       "      <td>23</td>\n",
       "      <td>957.442781</td>\n",
       "      <td>4.411479</td>\n",
       "    </tr>\n",
       "    <tr>\n",
       "      <th>2</th>\n",
       "      <td>446.850187</td>\n",
       "      <td>quatro_portas</td>\n",
       "      <td>com_ar_condicionado</td>\n",
       "      <td>segundo_quadrimestre</td>\n",
       "      <td>18</td>\n",
       "      <td>829.533278</td>\n",
       "      <td>5.630144</td>\n",
       "    </tr>\n",
       "    <tr>\n",
       "      <th>3</th>\n",
       "      <td>414.727657</td>\n",
       "      <td>duas_portas</td>\n",
       "      <td>com_ar_condicionado</td>\n",
       "      <td>segundo_quadrimestre</td>\n",
       "      <td>28</td>\n",
       "      <td>923.300216</td>\n",
       "      <td>8.805579</td>\n",
       "    </tr>\n",
       "    <tr>\n",
       "      <th>4</th>\n",
       "      <td>434.291091</td>\n",
       "      <td>quatro_portas</td>\n",
       "      <td>com_ar_condicionado</td>\n",
       "      <td>segundo_quadrimestre</td>\n",
       "      <td>21</td>\n",
       "      <td>871.519117</td>\n",
       "      <td>4.260591</td>\n",
       "    </tr>\n",
       "    <tr>\n",
       "      <th>5</th>\n",
       "      <td>436.652687</td>\n",
       "      <td>quatro_portas</td>\n",
       "      <td>com_ar_condicionado</td>\n",
       "      <td>segundo_quadrimestre</td>\n",
       "      <td>18</td>\n",
       "      <td>930.704106</td>\n",
       "      <td>6.934163</td>\n",
       "    </tr>\n",
       "    <tr>\n",
       "      <th>6</th>\n",
       "      <td>457.657973</td>\n",
       "      <td>duas_portas</td>\n",
       "      <td>com_ar_condicionado</td>\n",
       "      <td>terceiro_quadrimestre</td>\n",
       "      <td>21</td>\n",
       "      <td>554.696696</td>\n",
       "      <td>1.611307</td>\n",
       "    </tr>\n",
       "    <tr>\n",
       "      <th>7</th>\n",
       "      <td>490.694347</td>\n",
       "      <td>quatro_portas</td>\n",
       "      <td>com_ar_condicionado</td>\n",
       "      <td>primeiro_quadrimestre</td>\n",
       "      <td>18</td>\n",
       "      <td>501.941060</td>\n",
       "      <td>2.578132</td>\n",
       "    </tr>\n",
       "    <tr>\n",
       "      <th>8</th>\n",
       "      <td>474.881781</td>\n",
       "      <td>duas_portas</td>\n",
       "      <td>com_ar_condicionado</td>\n",
       "      <td>primeiro_quadrimestre</td>\n",
       "      <td>20</td>\n",
       "      <td>665.435075</td>\n",
       "      <td>4.666667</td>\n",
       "    </tr>\n",
       "    <tr>\n",
       "      <th>9</th>\n",
       "      <td>458.462396</td>\n",
       "      <td>quatro_portas</td>\n",
       "      <td>com_ar_condicionado</td>\n",
       "      <td>terceiro_quadrimestre</td>\n",
       "      <td>25</td>\n",
       "      <td>568.240795</td>\n",
       "      <td>1.684607</td>\n",
       "    </tr>\n",
       "    <tr>\n",
       "      <th>10</th>\n",
       "      <td>412.719413</td>\n",
       "      <td>duas_portas</td>\n",
       "      <td>com_ar_condicionado</td>\n",
       "      <td>segundo_quadrimestre</td>\n",
       "      <td>29</td>\n",
       "      <td>930.704106</td>\n",
       "      <td>7.338724</td>\n",
       "    </tr>\n",
       "    <tr>\n",
       "      <th>11</th>\n",
       "      <td>448.799032</td>\n",
       "      <td>quatro_portas</td>\n",
       "      <td>com_ar_condicionado</td>\n",
       "      <td>terceiro_quadrimestre</td>\n",
       "      <td>18</td>\n",
       "      <td>554.696696</td>\n",
       "      <td>4.523008</td>\n",
       "    </tr>\n",
       "    <tr>\n",
       "      <th>12</th>\n",
       "      <td>352.040747</td>\n",
       "      <td>quatro_portas</td>\n",
       "      <td>sem_ar_condicionado</td>\n",
       "      <td>segundo_quadrimestre</td>\n",
       "      <td>33</td>\n",
       "      <td>829.533278</td>\n",
       "      <td>2.966898</td>\n",
       "    </tr>\n",
       "    <tr>\n",
       "      <th>13</th>\n",
       "      <td>449.461858</td>\n",
       "      <td>duas_portas</td>\n",
       "      <td>com_ar_condicionado</td>\n",
       "      <td>terceiro_quadrimestre</td>\n",
       "      <td>20</td>\n",
       "      <td>665.435075</td>\n",
       "      <td>9.914482</td>\n",
       "    </tr>\n",
       "    <tr>\n",
       "      <th>14</th>\n",
       "      <td>416.150954</td>\n",
       "      <td>quatro_portas</td>\n",
       "      <td>com_ar_condicionado</td>\n",
       "      <td>segundo_quadrimestre</td>\n",
       "      <td>21</td>\n",
       "      <td>871.519117</td>\n",
       "      <td>8.555778</td>\n",
       "    </tr>\n",
       "    <tr>\n",
       "      <th>15</th>\n",
       "      <td>416.499427</td>\n",
       "      <td>duas_portas</td>\n",
       "      <td>com_ar_condicionado</td>\n",
       "      <td>segundo_quadrimestre</td>\n",
       "      <td>18</td>\n",
       "      <td>930.704106</td>\n",
       "      <td>5.934249</td>\n",
       "    </tr>\n",
       "    <tr>\n",
       "      <th>16</th>\n",
       "      <td>551.315803</td>\n",
       "      <td>quatro_portas</td>\n",
       "      <td>com_ar_condicionado</td>\n",
       "      <td>primeiro_quadrimestre</td>\n",
       "      <td>21</td>\n",
       "      <td>351.547138</td>\n",
       "      <td>5.557754</td>\n",
       "    </tr>\n",
       "    <tr>\n",
       "      <th>17</th>\n",
       "      <td>462.126789</td>\n",
       "      <td>quatro_portas</td>\n",
       "      <td>com_ar_condicionado</td>\n",
       "      <td>terceiro_quadrimestre</td>\n",
       "      <td>18</td>\n",
       "      <td>501.941060</td>\n",
       "      <td>6.944755</td>\n",
       "    </tr>\n",
       "    <tr>\n",
       "      <th>18</th>\n",
       "      <td>515.957335</td>\n",
       "      <td>duas_portas</td>\n",
       "      <td>com_ar_condicionado</td>\n",
       "      <td>primeiro_quadrimestre</td>\n",
       "      <td>20</td>\n",
       "      <td>447.872006</td>\n",
       "      <td>4.743303</td>\n",
       "    </tr>\n",
       "    <tr>\n",
       "      <th>19</th>\n",
       "      <td>467.598697</td>\n",
       "      <td>quatro_portas</td>\n",
       "      <td>com_ar_condicionado</td>\n",
       "      <td>primeiro_quadrimestre</td>\n",
       "      <td>25</td>\n",
       "      <td>568.240795</td>\n",
       "      <td>4.723307</td>\n",
       "    </tr>\n",
       "    <tr>\n",
       "      <th>20</th>\n",
       "      <td>339.548470</td>\n",
       "      <td>quatro_portas</td>\n",
       "      <td>sem_ar_condicionado</td>\n",
       "      <td>segundo_quadrimestre</td>\n",
       "      <td>29</td>\n",
       "      <td>930.704106</td>\n",
       "      <td>4.701089</td>\n",
       "    </tr>\n",
       "  </tbody>\n",
       "</table>\n",
       "</div>"
      ],
      "text/plain": [
       "         Preco         Portas      Ar_Condicionado           Quadrimestre  \\\n",
       "id                                                                          \n",
       "1   368.384515    duas_portas  sem_ar_condicionado   segundo_quadrimestre   \n",
       "2   446.850187  quatro_portas  com_ar_condicionado   segundo_quadrimestre   \n",
       "3   414.727657    duas_portas  com_ar_condicionado   segundo_quadrimestre   \n",
       "4   434.291091  quatro_portas  com_ar_condicionado   segundo_quadrimestre   \n",
       "5   436.652687  quatro_portas  com_ar_condicionado   segundo_quadrimestre   \n",
       "6   457.657973    duas_portas  com_ar_condicionado  terceiro_quadrimestre   \n",
       "7   490.694347  quatro_portas  com_ar_condicionado  primeiro_quadrimestre   \n",
       "8   474.881781    duas_portas  com_ar_condicionado  primeiro_quadrimestre   \n",
       "9   458.462396  quatro_portas  com_ar_condicionado  terceiro_quadrimestre   \n",
       "10  412.719413    duas_portas  com_ar_condicionado   segundo_quadrimestre   \n",
       "11  448.799032  quatro_portas  com_ar_condicionado  terceiro_quadrimestre   \n",
       "12  352.040747  quatro_portas  sem_ar_condicionado   segundo_quadrimestre   \n",
       "13  449.461858    duas_portas  com_ar_condicionado  terceiro_quadrimestre   \n",
       "14  416.150954  quatro_portas  com_ar_condicionado   segundo_quadrimestre   \n",
       "15  416.499427    duas_portas  com_ar_condicionado   segundo_quadrimestre   \n",
       "16  551.315803  quatro_portas  com_ar_condicionado  primeiro_quadrimestre   \n",
       "17  462.126789  quatro_portas  com_ar_condicionado  terceiro_quadrimestre   \n",
       "18  515.957335    duas_portas  com_ar_condicionado  primeiro_quadrimestre   \n",
       "19  467.598697  quatro_portas  com_ar_condicionado  primeiro_quadrimestre   \n",
       "20  339.548470  quatro_portas  sem_ar_condicionado   segundo_quadrimestre   \n",
       "\n",
       "    Idade_Locatario  Quilometragem     Dolar  \n",
       "id                                            \n",
       "1                23     957.442781  4.411479  \n",
       "2                18     829.533278  5.630144  \n",
       "3                28     923.300216  8.805579  \n",
       "4                21     871.519117  4.260591  \n",
       "5                18     930.704106  6.934163  \n",
       "6                21     554.696696  1.611307  \n",
       "7                18     501.941060  2.578132  \n",
       "8                20     665.435075  4.666667  \n",
       "9                25     568.240795  1.684607  \n",
       "10               29     930.704106  7.338724  \n",
       "11               18     554.696696  4.523008  \n",
       "12               33     829.533278  2.966898  \n",
       "13               20     665.435075  9.914482  \n",
       "14               21     871.519117  8.555778  \n",
       "15               18     930.704106  5.934249  \n",
       "16               21     351.547138  5.557754  \n",
       "17               18     501.941060  6.944755  \n",
       "18               20     447.872006  4.743303  \n",
       "19               25     568.240795  4.723307  \n",
       "20               29     930.704106  4.701089  "
      ]
     },
     "execution_count": 5,
     "metadata": {},
     "output_type": "execute_result"
    }
   ],
   "source": [
    "# Carregando a base de dados de dados.\n",
    "dados = pd.read_csv('dados.csv')\n",
    "\n",
    "# Transformando a coluna id em índice.\n",
    "dados.set_index('id', inplace=True)\n",
    "\n",
    "dados"
   ]
  },
  {
   "cell_type": "code",
   "execution_count": 6,
   "metadata": {
    "pycharm": {
     "name": "#%%\n"
    }
   },
   "outputs": [
    {
     "data": {
      "text/html": [
       "<div>\n",
       "<style scoped>\n",
       "    .dataframe tbody tr th:only-of-type {\n",
       "        vertical-align: middle;\n",
       "    }\n",
       "\n",
       "    .dataframe tbody tr th {\n",
       "        vertical-align: top;\n",
       "    }\n",
       "\n",
       "    .dataframe thead th {\n",
       "        text-align: right;\n",
       "    }\n",
       "</style>\n",
       "<table border=\"1\" class=\"dataframe\">\n",
       "  <thead>\n",
       "    <tr style=\"text-align: right;\">\n",
       "      <th></th>\n",
       "      <th>Preco</th>\n",
       "      <th>Portas</th>\n",
       "      <th>Ar_Condicionado</th>\n",
       "      <th>Quadrimestre</th>\n",
       "      <th>Idade_Locatario</th>\n",
       "      <th>Quilometragem</th>\n",
       "      <th>Dolar</th>\n",
       "    </tr>\n",
       "    <tr>\n",
       "      <th>id</th>\n",
       "      <th></th>\n",
       "      <th></th>\n",
       "      <th></th>\n",
       "      <th></th>\n",
       "      <th></th>\n",
       "      <th></th>\n",
       "      <th></th>\n",
       "    </tr>\n",
       "  </thead>\n",
       "  <tbody>\n",
       "    <tr>\n",
       "      <th>1</th>\n",
       "      <td>368.384515</td>\n",
       "      <td>1</td>\n",
       "      <td>1</td>\n",
       "      <td>2</td>\n",
       "      <td>23</td>\n",
       "      <td>957.442781</td>\n",
       "      <td>4.411479</td>\n",
       "    </tr>\n",
       "    <tr>\n",
       "      <th>2</th>\n",
       "      <td>446.850187</td>\n",
       "      <td>2</td>\n",
       "      <td>2</td>\n",
       "      <td>2</td>\n",
       "      <td>18</td>\n",
       "      <td>829.533278</td>\n",
       "      <td>5.630144</td>\n",
       "    </tr>\n",
       "    <tr>\n",
       "      <th>3</th>\n",
       "      <td>414.727657</td>\n",
       "      <td>1</td>\n",
       "      <td>2</td>\n",
       "      <td>2</td>\n",
       "      <td>28</td>\n",
       "      <td>923.300216</td>\n",
       "      <td>8.805579</td>\n",
       "    </tr>\n",
       "    <tr>\n",
       "      <th>4</th>\n",
       "      <td>434.291091</td>\n",
       "      <td>2</td>\n",
       "      <td>2</td>\n",
       "      <td>2</td>\n",
       "      <td>21</td>\n",
       "      <td>871.519117</td>\n",
       "      <td>4.260591</td>\n",
       "    </tr>\n",
       "    <tr>\n",
       "      <th>5</th>\n",
       "      <td>436.652687</td>\n",
       "      <td>2</td>\n",
       "      <td>2</td>\n",
       "      <td>2</td>\n",
       "      <td>18</td>\n",
       "      <td>930.704106</td>\n",
       "      <td>6.934163</td>\n",
       "    </tr>\n",
       "    <tr>\n",
       "      <th>6</th>\n",
       "      <td>457.657973</td>\n",
       "      <td>1</td>\n",
       "      <td>2</td>\n",
       "      <td>3</td>\n",
       "      <td>21</td>\n",
       "      <td>554.696696</td>\n",
       "      <td>1.611307</td>\n",
       "    </tr>\n",
       "    <tr>\n",
       "      <th>7</th>\n",
       "      <td>490.694347</td>\n",
       "      <td>2</td>\n",
       "      <td>2</td>\n",
       "      <td>1</td>\n",
       "      <td>18</td>\n",
       "      <td>501.941060</td>\n",
       "      <td>2.578132</td>\n",
       "    </tr>\n",
       "    <tr>\n",
       "      <th>8</th>\n",
       "      <td>474.881781</td>\n",
       "      <td>1</td>\n",
       "      <td>2</td>\n",
       "      <td>1</td>\n",
       "      <td>20</td>\n",
       "      <td>665.435075</td>\n",
       "      <td>4.666667</td>\n",
       "    </tr>\n",
       "    <tr>\n",
       "      <th>9</th>\n",
       "      <td>458.462396</td>\n",
       "      <td>2</td>\n",
       "      <td>2</td>\n",
       "      <td>3</td>\n",
       "      <td>25</td>\n",
       "      <td>568.240795</td>\n",
       "      <td>1.684607</td>\n",
       "    </tr>\n",
       "    <tr>\n",
       "      <th>10</th>\n",
       "      <td>412.719413</td>\n",
       "      <td>1</td>\n",
       "      <td>2</td>\n",
       "      <td>2</td>\n",
       "      <td>29</td>\n",
       "      <td>930.704106</td>\n",
       "      <td>7.338724</td>\n",
       "    </tr>\n",
       "    <tr>\n",
       "      <th>11</th>\n",
       "      <td>448.799032</td>\n",
       "      <td>2</td>\n",
       "      <td>2</td>\n",
       "      <td>3</td>\n",
       "      <td>18</td>\n",
       "      <td>554.696696</td>\n",
       "      <td>4.523008</td>\n",
       "    </tr>\n",
       "    <tr>\n",
       "      <th>12</th>\n",
       "      <td>352.040747</td>\n",
       "      <td>2</td>\n",
       "      <td>1</td>\n",
       "      <td>2</td>\n",
       "      <td>33</td>\n",
       "      <td>829.533278</td>\n",
       "      <td>2.966898</td>\n",
       "    </tr>\n",
       "    <tr>\n",
       "      <th>13</th>\n",
       "      <td>449.461858</td>\n",
       "      <td>1</td>\n",
       "      <td>2</td>\n",
       "      <td>3</td>\n",
       "      <td>20</td>\n",
       "      <td>665.435075</td>\n",
       "      <td>9.914482</td>\n",
       "    </tr>\n",
       "    <tr>\n",
       "      <th>14</th>\n",
       "      <td>416.150954</td>\n",
       "      <td>2</td>\n",
       "      <td>2</td>\n",
       "      <td>2</td>\n",
       "      <td>21</td>\n",
       "      <td>871.519117</td>\n",
       "      <td>8.555778</td>\n",
       "    </tr>\n",
       "    <tr>\n",
       "      <th>15</th>\n",
       "      <td>416.499427</td>\n",
       "      <td>1</td>\n",
       "      <td>2</td>\n",
       "      <td>2</td>\n",
       "      <td>18</td>\n",
       "      <td>930.704106</td>\n",
       "      <td>5.934249</td>\n",
       "    </tr>\n",
       "    <tr>\n",
       "      <th>16</th>\n",
       "      <td>551.315803</td>\n",
       "      <td>2</td>\n",
       "      <td>2</td>\n",
       "      <td>1</td>\n",
       "      <td>21</td>\n",
       "      <td>351.547138</td>\n",
       "      <td>5.557754</td>\n",
       "    </tr>\n",
       "    <tr>\n",
       "      <th>17</th>\n",
       "      <td>462.126789</td>\n",
       "      <td>2</td>\n",
       "      <td>2</td>\n",
       "      <td>3</td>\n",
       "      <td>18</td>\n",
       "      <td>501.941060</td>\n",
       "      <td>6.944755</td>\n",
       "    </tr>\n",
       "    <tr>\n",
       "      <th>18</th>\n",
       "      <td>515.957335</td>\n",
       "      <td>1</td>\n",
       "      <td>2</td>\n",
       "      <td>1</td>\n",
       "      <td>20</td>\n",
       "      <td>447.872006</td>\n",
       "      <td>4.743303</td>\n",
       "    </tr>\n",
       "    <tr>\n",
       "      <th>19</th>\n",
       "      <td>467.598697</td>\n",
       "      <td>2</td>\n",
       "      <td>2</td>\n",
       "      <td>1</td>\n",
       "      <td>25</td>\n",
       "      <td>568.240795</td>\n",
       "      <td>4.723307</td>\n",
       "    </tr>\n",
       "    <tr>\n",
       "      <th>20</th>\n",
       "      <td>339.548470</td>\n",
       "      <td>2</td>\n",
       "      <td>1</td>\n",
       "      <td>2</td>\n",
       "      <td>29</td>\n",
       "      <td>930.704106</td>\n",
       "      <td>4.701089</td>\n",
       "    </tr>\n",
       "  </tbody>\n",
       "</table>\n",
       "</div>"
      ],
      "text/plain": [
       "         Preco  Portas  Ar_Condicionado  Quadrimestre  Idade_Locatario  \\\n",
       "id                                                                       \n",
       "1   368.384515       1                1             2               23   \n",
       "2   446.850187       2                2             2               18   \n",
       "3   414.727657       1                2             2               28   \n",
       "4   434.291091       2                2             2               21   \n",
       "5   436.652687       2                2             2               18   \n",
       "6   457.657973       1                2             3               21   \n",
       "7   490.694347       2                2             1               18   \n",
       "8   474.881781       1                2             1               20   \n",
       "9   458.462396       2                2             3               25   \n",
       "10  412.719413       1                2             2               29   \n",
       "11  448.799032       2                2             3               18   \n",
       "12  352.040747       2                1             2               33   \n",
       "13  449.461858       1                2             3               20   \n",
       "14  416.150954       2                2             2               21   \n",
       "15  416.499427       1                2             2               18   \n",
       "16  551.315803       2                2             1               21   \n",
       "17  462.126789       2                2             3               18   \n",
       "18  515.957335       1                2             1               20   \n",
       "19  467.598697       2                2             1               25   \n",
       "20  339.548470       2                1             2               29   \n",
       "\n",
       "    Quilometragem     Dolar  \n",
       "id                           \n",
       "1      957.442781  4.411479  \n",
       "2      829.533278  5.630144  \n",
       "3      923.300216  8.805579  \n",
       "4      871.519117  4.260591  \n",
       "5      930.704106  6.934163  \n",
       "6      554.696696  1.611307  \n",
       "7      501.941060  2.578132  \n",
       "8      665.435075  4.666667  \n",
       "9      568.240795  1.684607  \n",
       "10     930.704106  7.338724  \n",
       "11     554.696696  4.523008  \n",
       "12     829.533278  2.966898  \n",
       "13     665.435075  9.914482  \n",
       "14     871.519117  8.555778  \n",
       "15     930.704106  5.934249  \n",
       "16     351.547138  5.557754  \n",
       "17     501.941060  6.944755  \n",
       "18     447.872006  4.743303  \n",
       "19     568.240795  4.723307  \n",
       "20     930.704106  4.701089  "
      ]
     },
     "execution_count": 6,
     "metadata": {},
     "output_type": "execute_result"
    }
   ],
   "source": [
    "# Realizando transofmração de variáveis categóricas para variáveis numéricas.\n",
    "dados_transformados = dados.copy()\n",
    "\n",
    "# 1 - duas_portas | 2 - quatro_portas\n",
    "dados_transformados.loc[dados_transformados['Portas'] == 'duas_portas', ['Portas']] = 1\n",
    "dados_transformados.loc[dados_transformados['Portas'] == 'quatro_portas', ['Portas']] = 2\n",
    "dados_transformados.loc[:,'Portas'] = dados_transformados['Portas'].astype(int)\n",
    "\n",
    "# 1 - sem_ar_condicionado | 2 - com_ar_condicionado\n",
    "dados_transformados.loc[dados_transformados['Ar_Condicionado'] == 'sem_ar_condicionado', ['Ar_Condicionado']] = 1\n",
    "dados_transformados.loc[dados_transformados['Ar_Condicionado'] == 'com_ar_condicionado', ['Ar_Condicionado']] = 2\n",
    "dados_transformados.loc[:, 'Ar_Condicionado'] = dados_transformados['Ar_Condicionado'].astype(int)\n",
    "\n",
    "# 1 - primeiro_quadrimestre | 2 - segundo_quadrimestre | 3 - terceiro_quadrimestre\n",
    "dados_transformados.loc[dados_transformados['Quadrimestre'] == 'primeiro_quadrimestre', ['Quadrimestre']] = 1\n",
    "dados_transformados.loc[dados_transformados['Quadrimestre'] == 'segundo_quadrimestre', ['Quadrimestre']] = 2\n",
    "dados_transformados.loc[dados_transformados['Quadrimestre'] == 'terceiro_quadrimestre', ['Quadrimestre']] = 3\n",
    "dados_transformados.loc[:, 'Quadrimestre'] = dados_transformados['Quadrimestre'].astype(int)\n",
    "\n",
    "dados_transformados"
   ]
  },
  {
   "cell_type": "code",
   "execution_count": 7,
   "metadata": {
    "pycharm": {
     "name": "#%%\n"
    }
   },
   "outputs": [
    {
     "data": {
      "image/png": "[encoded data removed]",
      "text/plain": [
       "<Figure size 864x432 with 2 Axes>"
      ]
     },
     "metadata": {},
     "output_type": "display_data"
    }
   ],
   "source": [
    "# Correlação entre as colunas que contem informações numéricas.\n",
    "# https://www.tylervigen.com/spurious-correlations\n",
    "heatmap = sns.heatmap(dados_transformados.corr(),\n",
    "                      vmin=-1,\n",
    "                      vmax=1,\n",
    "                      annot=True,\n",
    "                      cmap='BrBG',\n",
    "                      center=0)\n",
    "heatmap.set_xticklabels(heatmap.get_xticklabels(), rotation=45, ha='right');\n"
   ]
  },
  {
   "cell_type": "markdown",
   "metadata": {
    "pycharm": {
     "name": "#%% md\n"
    }
   },
   "source": [
    "# Pergunta 1\n",
    "\n",
    "*Explore a variável resposta, que é o Preço, e responda:*\n",
    "\n",
    "_Pelo histograma, você diria que a variável Preço segue uma distribuição normal?_\n",
    "\n",
    "*Obs.*: Para verificar a normalidade dde uma dada distribuição podemos utilizar três ferramentas: _o teste Shapiro-Wilk_, o _histograma_ e o _QQ-plot_.\n"
   ]
  },
  {
   "cell_type": "code",
   "execution_count": 8,
   "metadata": {
    "pycharm": {
     "name": "#%%\n"
    }
   },
   "outputs": [
    {
     "data": {
      "image/png": "[encoded data removed]",
      "text/plain": [
       "<Figure size 864x432 with 1 Axes>"
      ]
     },
     "metadata": {},
     "output_type": "display_data"
    }
   ],
   "source": [
    "# Histograma da variável preço.\n",
    "preco_hist = dados_transformados['Preco'].plot.hist(bins=5, figsize=(12, 6))\n",
    "preco_hist.set_xlabel('Preço')\n",
    "preco_hist.set_ylabel('Frequência')\n",
    "preco_hist.set_title('Distribuição de Frequência do Preço');"
   ]
  },
  {
   "cell_type": "code",
   "execution_count": 9,
   "metadata": {
    "pycharm": {
     "name": "#%%\n"
    }
   },
   "outputs": [
    {
     "data": {
      "image/png": "[encoded data removed]",
      "text/plain": [
       "<Figure size 360x360 with 1 Axes>"
      ]
     },
     "metadata": {},
     "output_type": "display_data"
    }
   ],
   "source": [
    "# Histograma da variável preço usando o Seaborn.\n",
    "sns.displot(dados_transformados['Preco'], kde=True, bins=5, color='darkblue');"
   ]
  },
  {
   "cell_type": "code",
   "execution_count": 10,
   "metadata": {
    "pycharm": {
     "name": "#%%\n"
    }
   },
   "outputs": [
    {
     "data": {
      "image/png": "[encoded data removed]",
      "text/plain": [
       "<Figure size 864x432 with 1 Axes>"
      ]
     },
     "metadata": {},
     "output_type": "display_data"
    }
   ],
   "source": [
    "# Visualizando a distribuição da variável Preço utilizando Q-Q plot (quantile plot).\n",
    "sm.qqplot(dados_transformados['Preco'], line='r', fit=True);"
   ]
  },
  {
   "cell_type": "code",
   "execution_count": 11,
   "metadata": {
    "pycharm": {
     "name": "#%%\n"
    }
   },
   "outputs": [
    {
     "name": "stdout",
     "output_type": "stream",
     "text": [
      "Teste de normalidade via Shapiro-Wilk - Estatística W: 0.9656\n",
      "Teste de normalidade via Shapiro-Wilk - P Valor: 0.6604\n"
     ]
    }
   ],
   "source": [
    "# Teste de normalidade via Shapiro-Wilk.\n",
    "statistic_w, p_value = shapiro_test(dados_transformados['Preco'])\n",
    "print(f'Teste de normalidade via Shapiro-Wilk - Estatística W: {statistic_w:.4f}')\n",
    "print(f'Teste de normalidade via Shapiro-Wilk - P Valor: {p_value:.4f}')"
   ]
  },
  {
   "cell_type": "markdown",
   "metadata": {
    "pycharm": {
     "name": "#%% md\n"
    }
   },
   "source": [
    "# Pergunta 2\n",
    "\n",
    "*Explore a variável resposta, que é o Preço, e responda:*\n",
    "\n",
    "Pelo boxplot do Preço, você consegue visualizar algum outlier?"
   ]
  },
  {
   "cell_type": "code",
   "execution_count": 12,
   "metadata": {
    "pycharm": {
     "name": "#%%\n"
    }
   },
   "outputs": [
    {
     "data": {
      "image/png": "[encoded data removed]",
      "text/plain": [
       "<Figure size 864x432 with 1 Axes>"
      ]
     },
     "metadata": {},
     "output_type": "display_data"
    }
   ],
   "source": [
    "# boxplot da variável preço.\n",
    "preco_box = dados_transformados['Preco'].plot.box(figsize=(12, 6))\n",
    "preco_box.set_title('Boxplot de Preços dos Carros');"
   ]
  },
  {
   "cell_type": "code",
   "execution_count": 13,
   "metadata": {
    "pycharm": {
     "name": "#%%\n"
    }
   },
   "outputs": [
    {
     "data": {
      "text/html": [
       "<div>\n",
       "<style scoped>\n",
       "    .dataframe tbody tr th:only-of-type {\n",
       "        vertical-align: middle;\n",
       "    }\n",
       "\n",
       "    .dataframe tbody tr th {\n",
       "        vertical-align: top;\n",
       "    }\n",
       "\n",
       "    .dataframe thead th {\n",
       "        text-align: right;\n",
       "    }\n",
       "</style>\n",
       "<table border=\"1\" class=\"dataframe\">\n",
       "  <thead>\n",
       "    <tr style=\"text-align: right;\">\n",
       "      <th></th>\n",
       "      <th>Preco</th>\n",
       "      <th>Portas</th>\n",
       "      <th>Ar_Condicionado</th>\n",
       "      <th>Quadrimestre</th>\n",
       "      <th>Idade_Locatario</th>\n",
       "      <th>Quilometragem</th>\n",
       "      <th>Dolar</th>\n",
       "    </tr>\n",
       "    <tr>\n",
       "      <th>id</th>\n",
       "      <th></th>\n",
       "      <th></th>\n",
       "      <th></th>\n",
       "      <th></th>\n",
       "      <th></th>\n",
       "      <th></th>\n",
       "      <th></th>\n",
       "    </tr>\n",
       "  </thead>\n",
       "  <tbody>\n",
       "    <tr>\n",
       "      <th>20</th>\n",
       "      <td>339.548470</td>\n",
       "      <td>2</td>\n",
       "      <td>1</td>\n",
       "      <td>2</td>\n",
       "      <td>29</td>\n",
       "      <td>930.704106</td>\n",
       "      <td>4.701089</td>\n",
       "    </tr>\n",
       "    <tr>\n",
       "      <th>16</th>\n",
       "      <td>551.315803</td>\n",
       "      <td>2</td>\n",
       "      <td>2</td>\n",
       "      <td>1</td>\n",
       "      <td>21</td>\n",
       "      <td>351.547138</td>\n",
       "      <td>5.557754</td>\n",
       "    </tr>\n",
       "  </tbody>\n",
       "</table>\n",
       "</div>"
      ],
      "text/plain": [
       "         Preco  Portas  Ar_Condicionado  Quadrimestre  Idade_Locatario  \\\n",
       "id                                                                       \n",
       "20  339.548470       2                1             2               29   \n",
       "16  551.315803       2                2             1               21   \n",
       "\n",
       "    Quilometragem     Dolar  \n",
       "id                           \n",
       "20     930.704106  4.701089  \n",
       "16     351.547138  5.557754  "
      ]
     },
     "execution_count": 13,
     "metadata": {},
     "output_type": "execute_result"
    }
   ],
   "source": [
    "# Mostrando quem são os outliers para a variável preço.\n",
    "# Apenas os dados que esteja apos 2 sigma da média serão exibidos.\n",
    "dados_transformados[np.abs(st.zscore(dados_transformados['Preco'])) > 2].sort_values(by='Preco')"
   ]
  },
  {
   "cell_type": "markdown",
   "metadata": {
    "pycharm": {
     "name": "#%% md\n"
    }
   },
   "source": [
    "# Pergunta 3\n",
    "\n",
    "*Explore a variável resposta, que é o Preço, e responda:*\n",
    "\n",
    "_Qual é o valor mediano do Preço e qual a sua interpretação CORRETA?_\n"
   ]
  },
  {
   "cell_type": "code",
   "execution_count": 14,
   "metadata": {
    "pycharm": {
     "name": "#%%\n"
    }
   },
   "outputs": [
    {
     "data": {
      "text/plain": [
       "count     20.000000\n",
       "mean     440.741058\n",
       "std       51.071729\n",
       "min      339.548470\n",
       "25%      415.795130\n",
       "50%      447.824609\n",
       "75%      463.494766\n",
       "max      551.315803\n",
       "Name: Preco, dtype: float64"
      ]
     },
     "execution_count": 14,
     "metadata": {},
     "output_type": "execute_result"
    }
   ],
   "source": [
    "# Estatísticas descritivas da variável preço.\n",
    "dados_transformados['Preco'].describe()"
   ]
  },
  {
   "cell_type": "code",
   "execution_count": 15,
   "metadata": {
    "pycharm": {
     "name": "#%%\n"
    }
   },
   "outputs": [
    {
     "name": "stdout",
     "output_type": "stream",
     "text": [
      "Valor mediano da variável Preço: R$447.82\n"
     ]
    }
   ],
   "source": [
    "print(f'Valor mediano da variável Preço: R${dados_transformados[\"Preco\"].median():.2f}')"
   ]
  },
  {
   "cell_type": "markdown",
   "metadata": {
    "pycharm": {
     "name": "#%% md\n"
    }
   },
   "source": [
    "# Pergunta 4\n",
    "\n",
    "Explore a relação entre as variáveis Preço e Quadrimestre, e responda:\n",
    "\n",
    "_Através do boxplot, como o Preço se comporta em relação a cada Quadrimestre?_\n"
   ]
  },
  {
   "cell_type": "code",
   "execution_count": 16,
   "metadata": {
    "pycharm": {
     "name": "#%%\n"
    }
   },
   "outputs": [
    {
     "data": {
      "image/png": "[encoded data removed]",
      "text/plain": [
       "<Figure size 864x432 with 1 Axes>"
      ]
     },
     "metadata": {},
     "output_type": "display_data"
    }
   ],
   "source": [
    "# Explorando a relação entre as variáveis Preço e Quadrimestre.\n",
    "dados_transformados.plot.box(column='Preco',\n",
    "                             by='Quadrimestre',\n",
    "                             figsize=(12, 6))\n",
    "plt.title('Boxplot de Preços dos Carros por Quadrimestre');"
   ]
  },
  {
   "cell_type": "code",
   "execution_count": 17,
   "metadata": {
    "pycharm": {
     "name": "#%%\n"
    }
   },
   "outputs": [
    {
     "data": {
      "image/png": "[encoded data removed]",
      "text/plain": [
       "<Figure size 864x432 with 1 Axes>"
      ]
     },
     "metadata": {},
     "output_type": "display_data"
    },
    {
     "data": {
      "image/png": "[encoded data removed]",
      "text/plain": [
       "<Figure size 864x432 with 1 Axes>"
      ]
     },
     "metadata": {},
     "output_type": "display_data"
    },
    {
     "data": {
      "image/png": "[encoded data removed]",
      "text/plain": [
       "<Figure size 864x432 with 1 Axes>"
      ]
     },
     "metadata": {},
     "output_type": "display_data"
    }
   ],
   "source": [
    "quand_01_fig, quand_02_fig, quand_03_fig = dados_transformados.groupby('Quadrimestre').plot.box(column='Preco',\n",
    "                                                                                                figsize=(12, 6))\n",
    "quand_01_fig.set_title('Boxplot de Preços dos Carros no 1º Quadrimestre')\n",
    "quand_02_fig.set_title('Boxplot de Preços dos Carros no 2º Quadrimestre')\n",
    "quand_03_fig.set_title('Boxplot de Preços dos Carros no 3º Quadrimestre');"
   ]
  },
  {
   "cell_type": "code",
   "execution_count": 18,
   "metadata": {
    "pycharm": {
     "name": "#%%\n"
    }
   },
   "outputs": [
    {
     "name": "stdout",
     "output_type": "stream",
     "text": [
      "Média da variável Preço no 1º Quadrimestre: R$500.09\n",
      "Média da variável Preço no 2º Quadrimestre: R$403.79\n",
      "Média da variável Preço no 3º Quadrimestre: R$455.30\n"
     ]
    }
   ],
   "source": [
    "preco_medio_quadrimeste = dados_transformados.groupby('Quadrimestre')['Preco'].mean()\n",
    "print(f'Média da variável Preço no 1º Quadrimestre: R${preco_medio_quadrimeste[1]:.2f}')\n",
    "print(f'Média da variável Preço no 2º Quadrimestre: R${preco_medio_quadrimeste[2]:.2f}')\n",
    "print(f'Média da variável Preço no 3º Quadrimestre: R${preco_medio_quadrimeste[3]:.2f}')"
   ]
  },
  {
   "cell_type": "markdown",
   "metadata": {
    "pycharm": {
     "name": "#%% md\n"
    }
   },
   "source": [
    "# Pergunta 5\n",
    "\n",
    "*Explore a relação entre as variáveis Preço e Quadrimestre, e responda:*\n",
    "\n",
    "_Através de uma ANOVA, existe diferença significativa entre o Preço médio de pelo menos um Quadrimestre em relação aos outros? Como chegou a essa conclusão? Adote 95% de confiança na sua interpretação._\n"
   ]
  },
  {
   "cell_type": "code",
   "execution_count": 19,
   "metadata": {
    "pycharm": {
     "name": "#%%\n"
    }
   },
   "outputs": [
    {
     "name": "stdout",
     "output_type": "stream",
     "text": [
      "P-value: 0.00012590\n"
     ]
    },
    {
     "data": {
      "text/html": [
       "<div>\n",
       "<style scoped>\n",
       "    .dataframe tbody tr th:only-of-type {\n",
       "        vertical-align: middle;\n",
       "    }\n",
       "\n",
       "    .dataframe tbody tr th {\n",
       "        vertical-align: top;\n",
       "    }\n",
       "\n",
       "    .dataframe thead th {\n",
       "        text-align: right;\n",
       "    }\n",
       "</style>\n",
       "<table border=\"1\" class=\"dataframe\">\n",
       "  <thead>\n",
       "    <tr style=\"text-align: right;\">\n",
       "      <th></th>\n",
       "      <th>sum_sq</th>\n",
       "      <th>df</th>\n",
       "      <th>F</th>\n",
       "      <th>PR(&gt;F)</th>\n",
       "    </tr>\n",
       "  </thead>\n",
       "  <tbody>\n",
       "    <tr>\n",
       "      <th>C(Quadrimestre)</th>\n",
       "      <td>32327.673951</td>\n",
       "      <td>2.0</td>\n",
       "      <td>15.947667</td>\n",
       "      <td>0.000126</td>\n",
       "    </tr>\n",
       "    <tr>\n",
       "      <th>Residual</th>\n",
       "      <td>17230.434326</td>\n",
       "      <td>17.0</td>\n",
       "      <td>NaN</td>\n",
       "      <td>NaN</td>\n",
       "    </tr>\n",
       "  </tbody>\n",
       "</table>\n",
       "</div>"
      ],
      "text/plain": [
       "                       sum_sq    df          F    PR(>F)\n",
       "C(Quadrimestre)  32327.673951   2.0  15.947667  0.000126\n",
       "Residual         17230.434326  17.0        NaN       NaN"
      ]
     },
     "execution_count": 19,
     "metadata": {},
     "output_type": "execute_result"
    }
   ],
   "source": [
    "# Ordinary Least Squares (OLS) model\n",
    "model = ols('Preco ~ C(Quadrimestre)', data=dados_transformados).fit()\n",
    "anova_table = sm.stats.anova_lm(model, typ=2)\n",
    "# output (ANOVA F and p value) like R.\n",
    "print(f'P-value: {anova_table[\"PR(>F)\"][\"C(Quadrimestre)\"]:.8f}')\n",
    "anova_table"
   ]
  },
  {
   "cell_type": "markdown",
   "metadata": {
    "pycharm": {
     "name": "#%% md\n"
    }
   },
   "source": [
    "# Pergunta 6\n",
    "\n",
    "*Explore a relação entre as variáveis Preço e Portas, e responda:*\n",
    "\n",
    "_Através de um teste t de Student para amostras independentes, existe diferença significativa entre o preço médio do aluguel do veículo com duas portas quando comparado com o preço médio do veículo de quatro portas? Adote *95%* de confiança ao realizar na sua interpretação._\n"
   ]
  },
  {
   "cell_type": "code",
   "execution_count": 20,
   "metadata": {
    "pycharm": {
     "name": "#%%\n"
    }
   },
   "outputs": [
    {
     "data": {
      "image/png": "[encoded data removed]",
      "text/plain": [
       "<Figure size 864x432 with 1 Axes>"
      ]
     },
     "metadata": {},
     "output_type": "display_data"
    }
   ],
   "source": [
    "# Explorando a relação entre a variável Preço e a variável Portas.\n",
    "dados_transformados.plot.box(column='Preco', by='Portas', figsize=(12, 6))\n",
    "plt.title('Boxplot de Preços dos Carros por Portas');"
   ]
  },
  {
   "cell_type": "code",
   "execution_count": 21,
   "metadata": {
    "pycharm": {
     "name": "#%%\n"
    }
   },
   "outputs": [
    {
     "data": {
      "image/png": "[encoded data removed]",
      "text/plain": [
       "<Figure size 864x432 with 1 Axes>"
      ]
     },
     "metadata": {},
     "output_type": "display_data"
    },
    {
     "data": {
      "image/png": "[encoded data removed]",
      "text/plain": [
       "<Figure size 864x432 with 1 Axes>"
      ]
     },
     "metadata": {},
     "output_type": "display_data"
    }
   ],
   "source": [
    "portas_01_fig, portas_02_fig = dados_transformados.groupby('Portas').plot.box(column='Preco',\n",
    "                                                                              figsize=(12, 6))\n",
    "portas_01_fig.set_title('Boxplot de Preços dos Carros com Duas Portas')\n",
    "portas_02_fig.set_title('Boxplot de Preços dos Carros com Quatro Portas');"
   ]
  },
  {
   "cell_type": "code",
   "execution_count": 22,
   "metadata": {
    "pycharm": {
     "name": "#%%\n"
    }
   },
   "outputs": [
    {
     "name": "stdout",
     "output_type": "stream",
     "text": [
      "Teste de normalidade via T-Test - Estatística T: 38.45\n",
      "Teste de normalidade via T-Test - P Valor: 4.943723456010529e-32\n"
     ]
    }
   ],
   "source": [
    "statistic_t, p_value = st.ttest_ind(dados_transformados['Preco'],\n",
    "                                    dados_transformados['Portas'])\n",
    "print(f'Teste de normalidade via T-Test - Estatística T: {statistic_t:.2f}')\n",
    "print(f'Teste de normalidade via T-Test - P Valor: {p_value}')"
   ]
  },
  {
   "cell_type": "code",
   "execution_count": 23,
   "metadata": {
    "pycharm": {
     "name": "#%%\n"
    }
   },
   "outputs": [
    {
     "name": "stdout",
     "output_type": "stream",
     "text": [
      "Média da variável Preço com duas portas: R$438.7862\n",
      "Média da variável Preço com quatro portas: R$442.0443\n"
     ]
    }
   ],
   "source": [
    "media_preco_portas = dados_transformados.groupby('Portas')['Preco'].mean()\n",
    "print(f'Média da variável Preço com duas portas: R${media_preco_portas[1]:.4f}')\n",
    "print(f'Média da variável Preço com quatro portas: R${media_preco_portas[2]:.4f}')"
   ]
  },
  {
   "cell_type": "markdown",
   "metadata": {
    "pycharm": {
     "name": "#%% md\n"
    }
   },
   "source": [
    "# Pergunta 7\n",
    "\n",
    "*Explore a relação entre as variáveis Preço e Quilometragem, e responda:*\n",
    "\n",
    "_Pelo gráfico de dispersão, você identifica que existe relação linear entre o Preço e a Quilometragem? Se sim, a relação é positiva ou negativa?_\n"
   ]
  },
  {
   "cell_type": "code",
   "execution_count": 24,
   "metadata": {
    "pycharm": {
     "name": "#%%\n"
    }
   },
   "outputs": [
    {
     "data": {
      "image/png": "[encoded data removed]",
      "text/plain": [
       "<Figure size 864x432 with 1 Axes>"
      ]
     },
     "metadata": {},
     "output_type": "display_data"
    }
   ],
   "source": [
    "# Explorando a relação entre as variáveis Preço e Quilometragem.\n",
    "sns.regplot(data=dados_transformados, x='Preco', y='Quilometragem');"
   ]
  },
  {
   "cell_type": "markdown",
   "metadata": {
    "pycharm": {
     "name": "#%% md\n"
    }
   },
   "source": [
    "# Pergunta 8\n",
    "\n",
    "*Explore a relação entre as variáveis Preço e Quilometragem, e responda:*\n",
    "\n",
    "_Obtenha o valor do coeficiente de correlação linear de Pearson entre o Preço e a Quilometragem. Qual a interpretação CORRETA?_\n"
   ]
  },
  {
   "cell_type": "code",
   "execution_count": 25,
   "metadata": {
    "pycharm": {
     "name": "#%%\n"
    }
   },
   "outputs": [
    {
     "name": "stdout",
     "output_type": "stream",
     "text": [
      "Coefficient of correlation: -0.82.\n",
      "p-value: 0.00000829.\n"
     ]
    }
   ],
   "source": [
    "# Coeficiente de correlação de Pearson entre Preço e Quilometragem.\n",
    "corr_quilometragem, p_value = pearson_test(dados_transformados['Preco'],\n",
    "                                           dados_transformados['Quilometragem'])\n",
    "print(f'Coefficient of correlation: {corr_quilometragem:.2f}.')\n",
    "print(f'p-value: {p_value:.8f}.')"
   ]
  },
  {
   "cell_type": "markdown",
   "metadata": {
    "pycharm": {
     "name": "#%% md\n"
    }
   },
   "source": [
    "# Pergunta 9\n",
    "\n",
    "*Explore a relação entre as variáveis Preço e Quilometragem, e responda:*\n",
    "\n",
    "_Se tentarmos utilizar somente a Quilometragem para prever o valor do Preço, o quanto da variação do Preço a variável Quilometragem consegue explicar? Em outras palavras, interprete o R2 da regressão linear do Preço em função da Quilometragem._\n"
   ]
  },
  {
   "cell_type": "code",
   "execution_count": 26,
   "metadata": {
    "pycharm": {
     "name": "#%%\n"
    }
   },
   "outputs": [
    {
     "name": "stdout",
     "output_type": "stream",
     "text": [
      "Slope: -0.2106\n",
      "Intercept: 592.2569\n",
      "R-squared: 67.76%\n",
      "P: 0.00000829\n",
      "Standard Error: 0.0342\n"
     ]
    }
   ],
   "source": [
    "X = dados_transformados['Quilometragem']\n",
    "Y = dados_transformados['Preco']\n",
    "slope, intercept, r_value, p_value, std_err = st.linregress(X, Y)\n",
    "\n",
    "print(f'Slope: {slope:.4f}')\n",
    "print(f'Intercept: {intercept:.4f}')\n",
    "print(f'R-squared: {pow(r_value, 2) * 100:.2f}%')\n",
    "print(f'P: {p_value:.8f}')\n",
    "print(f'Standard Error: {std_err:.4f}')"
   ]
  },
  {
   "cell_type": "markdown",
   "metadata": {
    "pycharm": {
     "name": "#%% md\n"
    }
   },
   "source": [
    "# Pergunta 10\n",
    "\n",
    "*Explore a variável Quilometragem, e responda:*\n",
    "\n",
    "_Qual o valor do primeiro quartil e qual a sua interpretação CORRETA?_\n"
   ]
  },
  {
   "cell_type": "code",
   "execution_count": 27,
   "metadata": {
    "pycharm": {
     "name": "#%%\n"
    }
   },
   "outputs": [
    {
     "data": {
      "image/png": "[encoded data removed]",
      "text/plain": [
       "<Figure size 864x432 with 1 Axes>"
      ]
     },
     "metadata": {},
     "output_type": "display_data"
    }
   ],
   "source": [
    "dados_transformados['Quilometragem'].plot.box(figsize=(12, 6));"
   ]
  },
  {
   "cell_type": "code",
   "execution_count": 28,
   "metadata": {
    "pycharm": {
     "name": "#%%\n"
    }
   },
   "outputs": [
    {
     "data": {
      "text/plain": [
       "count     20.000000\n",
       "mean     719.285530\n",
       "std      199.574967\n",
       "min      351.547138\n",
       "25%      554.696696\n",
       "50%      747.484177\n",
       "75%      925.151188\n",
       "max      957.442781\n",
       "Name: Quilometragem, dtype: float64"
      ]
     },
     "execution_count": 28,
     "metadata": {},
     "output_type": "execute_result"
    }
   ],
   "source": [
    "dados_transformados['Quilometragem'].describe()"
   ]
  },
  {
   "cell_type": "code",
   "execution_count": 29,
   "metadata": {
    "pycharm": {
     "name": "#%%\n"
    }
   },
   "outputs": [
    {
     "data": {
      "text/plain": [
       "0.25    554.696696\n",
       "0.50    747.484177\n",
       "0.75    925.151188\n",
       "Name: Quilometragem, dtype: float64"
      ]
     },
     "execution_count": 29,
     "metadata": {},
     "output_type": "execute_result"
    }
   ],
   "source": [
    "dados_transformados['Quilometragem'].quantile([0.25, 0.5, 0.75])"
   ]
  },
  {
   "cell_type": "code",
   "execution_count": 30,
   "metadata": {
    "pycharm": {
     "name": "#%%\n"
    }
   },
   "outputs": [
    {
     "name": "stdout",
     "output_type": "stream",
     "text": [
      "Primeiro Quartil: 554.7\n"
     ]
    }
   ],
   "source": [
    "frist_quartile = dados_transformados['Quilometragem'].quantile(0.25)\n",
    "print(f'Primeiro Quartil: {frist_quartile:.1f}')"
   ]
  },
  {
   "cell_type": "markdown",
   "metadata": {
    "pycharm": {
     "name": "#%% md\n"
    }
   },
   "source": [
    "# Pergunta 11\n",
    "\n",
    "*Explore a variável Quilometragem, e responda:*\n",
    "\n",
    "_Qual o valor do terceiro quartil e qual a sua interpretação CORRETA?_\n"
   ]
  },
  {
   "cell_type": "code",
   "execution_count": 31,
   "metadata": {
    "pycharm": {
     "name": "#%%\n"
    }
   },
   "outputs": [
    {
     "name": "stdout",
     "output_type": "stream",
     "text": [
      "Primeiro Quartil: 925.2\n"
     ]
    }
   ],
   "source": [
    "thrid_quartile = dados_transformados['Quilometragem'].quantile(0.75)\n",
    "print(f'Primeiro Quartil: {thrid_quartile:.1f}')"
   ]
  },
  {
   "cell_type": "markdown",
   "metadata": {
    "pycharm": {
     "name": "#%% md\n"
    }
   },
   "source": [
    "# Pergunta 12\n",
    "\n",
    "*Explore a variável Quilometragem e responda:*\n",
    "\n",
    "_Qual é o valor do coeficiente de variação e qual a sua interpretação CORRETA?_\n"
   ]
  },
  {
   "cell_type": "code",
   "execution_count": 32,
   "metadata": {
    "pycharm": {
     "name": "#%%\n"
    }
   },
   "outputs": [
    {
     "name": "stdout",
     "output_type": "stream",
     "text": [
      "Coeficiente de Variação: 27.75%\n"
     ]
    }
   ],
   "source": [
    "# Calculo do coeficiente de variação de forma manual.\n",
    "coeficiente_variacao_quilometragem = (dados_transformados['Quilometragem'].std() / dados_transformados['Quilometragem'].mean()) * 100\n",
    "print(f'Coeficiente de Variação: {coeficiente_variacao_quilometragem:.2f}%')"
   ]
  },
  {
   "cell_type": "code",
   "execution_count": 33,
   "metadata": {
    "pycharm": {
     "name": "#%%\n"
    }
   },
   "outputs": [
    {
     "name": "stdout",
     "output_type": "stream",
     "text": [
      "Coeficiente de Variação: 27.04%\n"
     ]
    }
   ],
   "source": [
    "# Calculo do coeficiente de variação de forma automática.\n",
    "variation_quilometragem = st.variation(dados_transformados['Quilometragem']) * 100\n",
    "print(f'Coeficiente de Variação: {variation_quilometragem:.2f}%')"
   ]
  }
 ],
 "metadata": {
  "interpreter": {
   "hash": "369f2c481f4da34e4445cda3fffd2e751bd1c4d706f27375911949ba6bb62e1c"
  },
  "kernelspec": {
   "display_name": "Python 3.10.4 64-bit",
   "language": "python",
   "name": "python3"
  },
  "language_info": {
   "codemirror_mode": {
    "name": "ipython",
    "version": 3
   },
   "file_extension": ".py",
   "mimetype": "text/x-python",
   "name": "python",
   "nbconvert_exporter": "python",
   "pygments_lexer": "ipython3",
   "version": "3.10.4"
  },
  "orig_nbformat": 4
 },
 "nbformat": 4,
 "nbformat_minor": 2
}