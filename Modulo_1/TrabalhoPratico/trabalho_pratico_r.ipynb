{
 "cells": [
  {
   "cell_type": "markdown",
   "metadata": {
    "pycharm": {
     "name": "#%% md\n"
    }
   },
   "source": [
    "# Bootcamp: Cientista de Dados - Trabalho Prático\n",
    "\n",
    "- Data: maio de 2022.\n",
    "\n",
    "## Autor\n",
    "\n",
    "Feito com :heart: por [Alexsander Lopes Camargos](https://github.com/alexcamargos) :wave: Entre em contato!\n",
    "\n",
    "[![GitHub](https://img.shields.io/badge/-AlexCamargos-1ca0f1?style=flat-square&labelColor=1ca0f1&logo=github&logoColor=white&link=https://github.com/alexcamargos)](https://github.com/alexcamargos)\n",
    "[![Twitter Badge](https://img.shields.io/badge/-@alcamargos-1ca0f1?style=flat-square&labelColor=1ca0f1&logo=twitter&logoColor=white&link=https://twitter.com/alcamargos)](https://twitter.com/alcamargos)\n",
    "[![Linkedin Badge](https://img.shields.io/badge/-alexcamargos-1ca0f1?style=flat-square&logo=Linkedin&logoColor=white&link=https://www.linkedin.com/in/alexcamargos/)](https://www.linkedin.com/in/alexcamargos/)\n",
    "[![Gmail Badge](https://img.shields.io/badge/-alcamargos@vivaldi.net-1ca0f1?style=flat-square&labelColor=1ca0f1&logo=Gmail&logoColor=white&link=mailto:alcamargos@vivaldi.net)](mailto:alcamargos@vivaldi.net)\n",
    "\n",
    "## Licença\n",
    "\n",
    "[MIT License](https://choosealicense.com/licenses/mit/)\n",
    "\n",
    "# Módulo 1 - Análise Estatística de Dados\n",
    "\n",
    "## Objetivos\n",
    "\n",
    "Exercitar os seguintes conceitos trabalhados no Módulo:\n",
    "\n",
    "- Análise exploratória\n",
    "- Teste de hipóteses\n",
    "- Correlação\n",
    "- Regressão\n",
    "\n",
    "## Enunciado\n",
    "\n",
    "O _Trabalho Prático_ é constituído de um problema de negócio contendo quinze questões, que serão resolvidas utilizando o _R_. Será disponibilizado código R completo para execução de cada questão, a fim de que o aluno possa direcionar seus esforços no entendimento dos métodos estatísticos e interpretações. Mas àquele interessado em aprender o R, é uma excelente oportunidade e pode contar com apoio do professor.\n",
    "\n",
    "## Atividades\n",
    "\n",
    "Uma empresa que trabalha com aluguel de veículos deseja estudar algumas variáveis que eles suspeitam que influenciam no preço do aluguel do veículo. Para confirmar essas suspeitas, foi reunido em um conjunto dados um histórico contendo vinte locações que foram exportadas aleatoriamente do banco de dados, ou seja, temos vinte observações.\n",
    "\n",
    "Foram selecionadas sete variáveis para este estudo:\n",
    "\n",
    "- _Preço_ (variável contínua medida em reais) – É a variável resposta, nos diz qual foi o preço daquela locação.\n",
    "- _Portas_ (variável categórica com dois níveis) – Nos informa se o veículo alugado era de duas portas ou quatro portas.\n",
    "- _Ar Condicionado_ (variável categórica com dois níveis) – Nos informa se o veículo alugado tinha ar-condicionado ou não.\n",
    "- _Quadrimestre_ (variável categórica com três níveis) – Informa se aquela locação ocorreu no primeiro, segundo ou terceiro quadrimestre do ano.\n",
    "- _Idade do Locatário_ (variável discreta medida em anos) – Nos informa qual a idade do indivíduo que realizou a locação.\n",
    "- _Quilometragem_ (variável contínua medida em quilómetros) – Nos informa quantos quilómetros rodados o veículo tinha no ato da locação.\n",
    "- _Dólar_ (variável contínua medida em dólares) – Nos informa qual a cotação do dólar no dia da locação.\n"
   ]
  },
  {
   "cell_type": "code",
   "execution_count": 23,
   "metadata": {
    "vscode": {
     "languageId": "r"
    },
    "pycharm": {
     "name": "#%%\n"
    }
   },
   "outputs": [
    {
     "name": "stdout",
     "output_type": "stream",
     "text": [
      "[1] \"R version 4.2.0 (2022-04-22 ucrt)\"\n"
     ]
    }
   ],
   "source": [
    "# Versão da Linguagem R\n",
    "print(version$version.string)"
   ]
  },
  {
   "cell_type": "markdown",
   "metadata": {
    "pycharm": {
     "name": "#%% md\n"
    }
   },
   "source": [
    "Forma o conjunto de dados historico contendo vinte locacoes sorteadas aleatoriamente do banco de dados e a armazena em um data frame chamado dados."
   ]
  },
  {
   "cell_type": "code",
   "execution_count": 24,
   "metadata": {
    "vscode": {
     "languageId": "r"
    },
    "pycharm": {
     "name": "#%%\n"
    }
   },
   "outputs": [],
   "source": [
    "dados <- data.frame(Preco = c(368.384514890573, 446.850186825816, 414.72765691978, 434.291090918223,\n",
    "                              436.652686535348, 457.65797344255, 490.694346597566, 474.881781399868,\n",
    "                              458.462395897205, 412.719412673294, 448.799032112411, 352.040747235864,\n",
    "                              449.461858221104, 416.150953927119, 416.499426750268, 551.315803331779,\n",
    "                              462.126789471159, 515.957335395508, 467.598697162974, 339.548470369391),\n",
    "\n",
    "                    Portas = c(\"duas_portas\", \"quatro_portas\", \"duas_portas\", \"quatro_portas\",\n",
    "                                \"quatro_portas\", \"duas_portas\", \"quatro_portas\", \"duas_portas\",\n",
    "                                \"quatro_portas\",\"duas_portas\", \"quatro_portas\", \"quatro_portas\",\n",
    "                                \"duas_portas\", \"quatro_portas\",\"duas_portas\", \"quatro_portas\",\n",
    "                                \"quatro_portas\", \"duas_portas\", \"quatro_portas\", \"quatro_portas\"),\n",
    "\n",
    "                    Ar_Condicionado = c(\"sem_ar_condicionado\", \"com_ar_condicionado\",\n",
    "                                        \"com_ar_condicionado\", \"com_ar_condicionado\",\n",
    "                                        \"com_ar_condicionado\",\"com_ar_condicionado\",\n",
    "                                        \"com_ar_condicionado\", \"com_ar_condicionado\",\n",
    "                                        \"com_ar_condicionado\", \"com_ar_condicionado\",\n",
    "                                        \"com_ar_condicionado\", \"sem_ar_condicionado\",\n",
    "                                        \"com_ar_condicionado\", \"com_ar_condicionado\",\n",
    "                                        \"com_ar_condicionado\", \"com_ar_condicionado\",\n",
    "                                        \"com_ar_condicionado\", \"com_ar_condicionado\",\n",
    "                                        \"com_ar_condicionado\", \"sem_ar_condicionado\"),\n",
    "\n",
    "                    Quadrimestre = c(\"segundo_quadrimestre\",\"segundo_quadrimestre\",\n",
    "                                     \"segundo_quadrimestre\", \"segundo_quadrimestre\",\n",
    "                                     \"segundo_quadrimestre\", \"terceiro_quadrimestre\",\n",
    "                                     \"primeiro_quadrimestre\", \"primeiro_quadrimestre\",\n",
    "                                     \"terceiro_quadrimestre\", \"segundo_quadrimestre\",\n",
    "                                     \"terceiro_quadrimestre\", \"segundo_quadrimestre\",\n",
    "                                     \"terceiro_quadrimestre\", \"segundo_quadrimestre\",\n",
    "                                     \"segundo_quadrimestre\", \"primeiro_quadrimestre\", \n",
    "                                     \"terceiro_quadrimestre\", \"primeiro_quadrimestre\",\n",
    "                                     \"primeiro_quadrimestre\", \"segundo_quadrimestre\"),\n",
    "\n",
    "                    Idade_Locatario = c(23, 18, 28, 21, 18, 21, 18, 20, 25, 29,\n",
    "                                        18, 33, 20, 21, 18, 21, 18, 20, 25, 29),\n",
    "\n",
    "                    Quilometragem = c(957.442780544097, 829.533278217768, 923.300215829467,\n",
    "                                      871.519116905113, 930.704105677958, 554.696695914233,\n",
    "                                      501.941059782271, 665.435074822519, 568.24079543466,\n",
    "                                      930.704105677958, 554.696695914233, 829.533278217768,\n",
    "                                      665.435074822519, 871.519116905113, 930.704105677958,\n",
    "                                      351.547138218644, 501.941059782271, 447.872006186523,\n",
    "                                      568.24079543466, 930.704105677958),\n",
    "\n",
    "                    Dolar = c(4.41147933990862, 5.63014407874318, 8.80557934010615,\n",
    "                              4.260591319988649, 6.93416279643155, 1.61130694543154,\n",
    "                              2.57813244655973, 4.66666728709914, 1.6846066723224,\n",
    "                              7.33872353619711, 4.52300814589177, 2.96689816205009,\n",
    "                              9.91448182957733, 8.55577847959413, 5.93424935955983,\n",
    "                              5.55775429484673, 6.94475470863839, 4.74330294976712,\n",
    "                              4.723306965757987, 4.7010894862212))"
   ]
  },
  {
   "cell_type": "code",
   "execution_count": 25,
   "metadata": {
    "vscode": {
     "languageId": "r"
    },
    "pycharm": {
     "name": "#%%\n"
    }
   },
   "outputs": [
    {
     "data": {
      "text/html": [
       "<table class=\"dataframe\">\n",
       "<caption>A data.frame: 20 × 7</caption>\n",
       "<thead>\n",
       "\t<tr><th scope=col>Preco</th><th scope=col>Portas</th><th scope=col>Ar_Condicionado</th><th scope=col>Quadrimestre</th><th scope=col>Idade_Locatario</th><th scope=col>Quilometragem</th><th scope=col>Dolar</th></tr>\n",
       "\t<tr><th scope=col>&lt;dbl&gt;</th><th scope=col>&lt;chr&gt;</th><th scope=col>&lt;chr&gt;</th><th scope=col>&lt;chr&gt;</th><th scope=col>&lt;dbl&gt;</th><th scope=col>&lt;dbl&gt;</th><th scope=col>&lt;dbl&gt;</th></tr>\n",
       "</thead>\n",
       "<tbody>\n",
       "\t<tr><td>368.3845</td><td>duas_portas  </td><td>sem_ar_condicionado</td><td>segundo_quadrimestre </td><td>23</td><td>957.4428</td><td>4.411479</td></tr>\n",
       "\t<tr><td>446.8502</td><td>quatro_portas</td><td>com_ar_condicionado</td><td>segundo_quadrimestre </td><td>18</td><td>829.5333</td><td>5.630144</td></tr>\n",
       "\t<tr><td>414.7277</td><td>duas_portas  </td><td>com_ar_condicionado</td><td>segundo_quadrimestre </td><td>28</td><td>923.3002</td><td>8.805579</td></tr>\n",
       "\t<tr><td>434.2911</td><td>quatro_portas</td><td>com_ar_condicionado</td><td>segundo_quadrimestre </td><td>21</td><td>871.5191</td><td>4.260591</td></tr>\n",
       "\t<tr><td>436.6527</td><td>quatro_portas</td><td>com_ar_condicionado</td><td>segundo_quadrimestre </td><td>18</td><td>930.7041</td><td>6.934163</td></tr>\n",
       "\t<tr><td>457.6580</td><td>duas_portas  </td><td>com_ar_condicionado</td><td>terceiro_quadrimestre</td><td>21</td><td>554.6967</td><td>1.611307</td></tr>\n",
       "\t<tr><td>490.6943</td><td>quatro_portas</td><td>com_ar_condicionado</td><td>primeiro_quadrimestre</td><td>18</td><td>501.9411</td><td>2.578132</td></tr>\n",
       "\t<tr><td>474.8818</td><td>duas_portas  </td><td>com_ar_condicionado</td><td>primeiro_quadrimestre</td><td>20</td><td>665.4351</td><td>4.666667</td></tr>\n",
       "\t<tr><td>458.4624</td><td>quatro_portas</td><td>com_ar_condicionado</td><td>terceiro_quadrimestre</td><td>25</td><td>568.2408</td><td>1.684607</td></tr>\n",
       "\t<tr><td>412.7194</td><td>duas_portas  </td><td>com_ar_condicionado</td><td>segundo_quadrimestre </td><td>29</td><td>930.7041</td><td>7.338724</td></tr>\n",
       "\t<tr><td>448.7990</td><td>quatro_portas</td><td>com_ar_condicionado</td><td>terceiro_quadrimestre</td><td>18</td><td>554.6967</td><td>4.523008</td></tr>\n",
       "\t<tr><td>352.0407</td><td>quatro_portas</td><td>sem_ar_condicionado</td><td>segundo_quadrimestre </td><td>33</td><td>829.5333</td><td>2.966898</td></tr>\n",
       "\t<tr><td>449.4619</td><td>duas_portas  </td><td>com_ar_condicionado</td><td>terceiro_quadrimestre</td><td>20</td><td>665.4351</td><td>9.914482</td></tr>\n",
       "\t<tr><td>416.1510</td><td>quatro_portas</td><td>com_ar_condicionado</td><td>segundo_quadrimestre </td><td>21</td><td>871.5191</td><td>8.555778</td></tr>\n",
       "\t<tr><td>416.4994</td><td>duas_portas  </td><td>com_ar_condicionado</td><td>segundo_quadrimestre </td><td>18</td><td>930.7041</td><td>5.934249</td></tr>\n",
       "\t<tr><td>551.3158</td><td>quatro_portas</td><td>com_ar_condicionado</td><td>primeiro_quadrimestre</td><td>21</td><td>351.5471</td><td>5.557754</td></tr>\n",
       "\t<tr><td>462.1268</td><td>quatro_portas</td><td>com_ar_condicionado</td><td>terceiro_quadrimestre</td><td>18</td><td>501.9411</td><td>6.944755</td></tr>\n",
       "\t<tr><td>515.9573</td><td>duas_portas  </td><td>com_ar_condicionado</td><td>primeiro_quadrimestre</td><td>20</td><td>447.8720</td><td>4.743303</td></tr>\n",
       "\t<tr><td>467.5987</td><td>quatro_portas</td><td>com_ar_condicionado</td><td>primeiro_quadrimestre</td><td>25</td><td>568.2408</td><td>4.723307</td></tr>\n",
       "\t<tr><td>339.5485</td><td>quatro_portas</td><td>sem_ar_condicionado</td><td>segundo_quadrimestre </td><td>29</td><td>930.7041</td><td>4.701089</td></tr>\n",
       "</tbody>\n",
       "</table>\n"
      ],
      "text/latex": [
       "A data.frame: 20 × 7\n",
       "\\begin{tabular}{lllllll}\n",
       " Preco & Portas & Ar\\_Condicionado & Quadrimestre & Idade\\_Locatario & Quilometragem & Dolar\\\\\n",
       " <dbl> & <chr> & <chr> & <chr> & <dbl> & <dbl> & <dbl>\\\\\n",
       "\\hline\n",
       "\t 368.3845 & duas\\_portas   & sem\\_ar\\_condicionado & segundo\\_quadrimestre  & 23 & 957.4428 & 4.411479\\\\\n",
       "\t 446.8502 & quatro\\_portas & com\\_ar\\_condicionado & segundo\\_quadrimestre  & 18 & 829.5333 & 5.630144\\\\\n",
       "\t 414.7277 & duas\\_portas   & com\\_ar\\_condicionado & segundo\\_quadrimestre  & 28 & 923.3002 & 8.805579\\\\\n",
       "\t 434.2911 & quatro\\_portas & com\\_ar\\_condicionado & segundo\\_quadrimestre  & 21 & 871.5191 & 4.260591\\\\\n",
       "\t 436.6527 & quatro\\_portas & com\\_ar\\_condicionado & segundo\\_quadrimestre  & 18 & 930.7041 & 6.934163\\\\\n",
       "\t 457.6580 & duas\\_portas   & com\\_ar\\_condicionado & terceiro\\_quadrimestre & 21 & 554.6967 & 1.611307\\\\\n",
       "\t 490.6943 & quatro\\_portas & com\\_ar\\_condicionado & primeiro\\_quadrimestre & 18 & 501.9411 & 2.578132\\\\\n",
       "\t 474.8818 & duas\\_portas   & com\\_ar\\_condicionado & primeiro\\_quadrimestre & 20 & 665.4351 & 4.666667\\\\\n",
       "\t 458.4624 & quatro\\_portas & com\\_ar\\_condicionado & terceiro\\_quadrimestre & 25 & 568.2408 & 1.684607\\\\\n",
       "\t 412.7194 & duas\\_portas   & com\\_ar\\_condicionado & segundo\\_quadrimestre  & 29 & 930.7041 & 7.338724\\\\\n",
       "\t 448.7990 & quatro\\_portas & com\\_ar\\_condicionado & terceiro\\_quadrimestre & 18 & 554.6967 & 4.523008\\\\\n",
       "\t 352.0407 & quatro\\_portas & sem\\_ar\\_condicionado & segundo\\_quadrimestre  & 33 & 829.5333 & 2.966898\\\\\n",
       "\t 449.4619 & duas\\_portas   & com\\_ar\\_condicionado & terceiro\\_quadrimestre & 20 & 665.4351 & 9.914482\\\\\n",
       "\t 416.1510 & quatro\\_portas & com\\_ar\\_condicionado & segundo\\_quadrimestre  & 21 & 871.5191 & 8.555778\\\\\n",
       "\t 416.4994 & duas\\_portas   & com\\_ar\\_condicionado & segundo\\_quadrimestre  & 18 & 930.7041 & 5.934249\\\\\n",
       "\t 551.3158 & quatro\\_portas & com\\_ar\\_condicionado & primeiro\\_quadrimestre & 21 & 351.5471 & 5.557754\\\\\n",
       "\t 462.1268 & quatro\\_portas & com\\_ar\\_condicionado & terceiro\\_quadrimestre & 18 & 501.9411 & 6.944755\\\\\n",
       "\t 515.9573 & duas\\_portas   & com\\_ar\\_condicionado & primeiro\\_quadrimestre & 20 & 447.8720 & 4.743303\\\\\n",
       "\t 467.5987 & quatro\\_portas & com\\_ar\\_condicionado & primeiro\\_quadrimestre & 25 & 568.2408 & 4.723307\\\\\n",
       "\t 339.5485 & quatro\\_portas & sem\\_ar\\_condicionado & segundo\\_quadrimestre  & 29 & 930.7041 & 4.701089\\\\\n",
       "\\end{tabular}\n"
      ],
      "text/markdown": [
       "\n",
       "A data.frame: 20 × 7\n",
       "\n",
       "| Preco &lt;dbl&gt; | Portas &lt;chr&gt; | Ar_Condicionado &lt;chr&gt; | Quadrimestre &lt;chr&gt; | Idade_Locatario &lt;dbl&gt; | Quilometragem &lt;dbl&gt; | Dolar &lt;dbl&gt; |\n",
       "|---|---|---|---|---|---|---|\n",
       "| 368.3845 | duas_portas   | sem_ar_condicionado | segundo_quadrimestre  | 23 | 957.4428 | 4.411479 |\n",
       "| 446.8502 | quatro_portas | com_ar_condicionado | segundo_quadrimestre  | 18 | 829.5333 | 5.630144 |\n",
       "| 414.7277 | duas_portas   | com_ar_condicionado | segundo_quadrimestre  | 28 | 923.3002 | 8.805579 |\n",
       "| 434.2911 | quatro_portas | com_ar_condicionado | segundo_quadrimestre  | 21 | 871.5191 | 4.260591 |\n",
       "| 436.6527 | quatro_portas | com_ar_condicionado | segundo_quadrimestre  | 18 | 930.7041 | 6.934163 |\n",
       "| 457.6580 | duas_portas   | com_ar_condicionado | terceiro_quadrimestre | 21 | 554.6967 | 1.611307 |\n",
       "| 490.6943 | quatro_portas | com_ar_condicionado | primeiro_quadrimestre | 18 | 501.9411 | 2.578132 |\n",
       "| 474.8818 | duas_portas   | com_ar_condicionado | primeiro_quadrimestre | 20 | 665.4351 | 4.666667 |\n",
       "| 458.4624 | quatro_portas | com_ar_condicionado | terceiro_quadrimestre | 25 | 568.2408 | 1.684607 |\n",
       "| 412.7194 | duas_portas   | com_ar_condicionado | segundo_quadrimestre  | 29 | 930.7041 | 7.338724 |\n",
       "| 448.7990 | quatro_portas | com_ar_condicionado | terceiro_quadrimestre | 18 | 554.6967 | 4.523008 |\n",
       "| 352.0407 | quatro_portas | sem_ar_condicionado | segundo_quadrimestre  | 33 | 829.5333 | 2.966898 |\n",
       "| 449.4619 | duas_portas   | com_ar_condicionado | terceiro_quadrimestre | 20 | 665.4351 | 9.914482 |\n",
       "| 416.1510 | quatro_portas | com_ar_condicionado | segundo_quadrimestre  | 21 | 871.5191 | 8.555778 |\n",
       "| 416.4994 | duas_portas   | com_ar_condicionado | segundo_quadrimestre  | 18 | 930.7041 | 5.934249 |\n",
       "| 551.3158 | quatro_portas | com_ar_condicionado | primeiro_quadrimestre | 21 | 351.5471 | 5.557754 |\n",
       "| 462.1268 | quatro_portas | com_ar_condicionado | terceiro_quadrimestre | 18 | 501.9411 | 6.944755 |\n",
       "| 515.9573 | duas_portas   | com_ar_condicionado | primeiro_quadrimestre | 20 | 447.8720 | 4.743303 |\n",
       "| 467.5987 | quatro_portas | com_ar_condicionado | primeiro_quadrimestre | 25 | 568.2408 | 4.723307 |\n",
       "| 339.5485 | quatro_portas | sem_ar_condicionado | segundo_quadrimestre  | 29 | 930.7041 | 4.701089 |\n",
       "\n"
      ],
      "text/plain": [
       "   Preco    Portas        Ar_Condicionado     Quadrimestre         \n",
       "1  368.3845 duas_portas   sem_ar_condicionado segundo_quadrimestre \n",
       "2  446.8502 quatro_portas com_ar_condicionado segundo_quadrimestre \n",
       "3  414.7277 duas_portas   com_ar_condicionado segundo_quadrimestre \n",
       "4  434.2911 quatro_portas com_ar_condicionado segundo_quadrimestre \n",
       "5  436.6527 quatro_portas com_ar_condicionado segundo_quadrimestre \n",
       "6  457.6580 duas_portas   com_ar_condicionado terceiro_quadrimestre\n",
       "7  490.6943 quatro_portas com_ar_condicionado primeiro_quadrimestre\n",
       "8  474.8818 duas_portas   com_ar_condicionado primeiro_quadrimestre\n",
       "9  458.4624 quatro_portas com_ar_condicionado terceiro_quadrimestre\n",
       "10 412.7194 duas_portas   com_ar_condicionado segundo_quadrimestre \n",
       "11 448.7990 quatro_portas com_ar_condicionado terceiro_quadrimestre\n",
       "12 352.0407 quatro_portas sem_ar_condicionado segundo_quadrimestre \n",
       "13 449.4619 duas_portas   com_ar_condicionado terceiro_quadrimestre\n",
       "14 416.1510 quatro_portas com_ar_condicionado segundo_quadrimestre \n",
       "15 416.4994 duas_portas   com_ar_condicionado segundo_quadrimestre \n",
       "16 551.3158 quatro_portas com_ar_condicionado primeiro_quadrimestre\n",
       "17 462.1268 quatro_portas com_ar_condicionado terceiro_quadrimestre\n",
       "18 515.9573 duas_portas   com_ar_condicionado primeiro_quadrimestre\n",
       "19 467.5987 quatro_portas com_ar_condicionado primeiro_quadrimestre\n",
       "20 339.5485 quatro_portas sem_ar_condicionado segundo_quadrimestre \n",
       "   Idade_Locatario Quilometragem Dolar   \n",
       "1  23              957.4428      4.411479\n",
       "2  18              829.5333      5.630144\n",
       "3  28              923.3002      8.805579\n",
       "4  21              871.5191      4.260591\n",
       "5  18              930.7041      6.934163\n",
       "6  21              554.6967      1.611307\n",
       "7  18              501.9411      2.578132\n",
       "8  20              665.4351      4.666667\n",
       "9  25              568.2408      1.684607\n",
       "10 29              930.7041      7.338724\n",
       "11 18              554.6967      4.523008\n",
       "12 33              829.5333      2.966898\n",
       "13 20              665.4351      9.914482\n",
       "14 21              871.5191      8.555778\n",
       "15 18              930.7041      5.934249\n",
       "16 21              351.5471      5.557754\n",
       "17 18              501.9411      6.944755\n",
       "18 20              447.8720      4.743303\n",
       "19 25              568.2408      4.723307\n",
       "20 29              930.7041      4.701089"
      ]
     },
     "metadata": {},
     "output_type": "display_data"
    }
   ],
   "source": [
    "View(dados)"
   ]
  },
  {
   "cell_type": "markdown",
   "metadata": {
    "pycharm": {
     "name": "#%% md\n"
    }
   },
   "source": [
    "# Pergunta 1\n",
    "\n",
    "*Explore a variável resposta, que é o Preço, e responda:*\n",
    "\n",
    "_Pelo histograma, você diria que a variável Preço segue uma distribuição normal?_\n",
    "\n",
    "*Obs.*: Para verificar a normalidade dde uma dada distribuição podemos utilizar três ferramentas: _o teste Shapiro-Wilk_, o _histograma_ e o _QQ-plot_.\n"
   ]
  },
  {
   "cell_type": "code",
   "execution_count": 26,
   "metadata": {
    "vscode": {
     "languageId": "r"
    },
    "pycharm": {
     "name": "#%%\n"
    }
   },
   "outputs": [
    {
     "data": {
      "image/png": "[encoded data removed]",
      "text/plain": [
       "Plot with title \"Histograma do Preço\""
      ]
     },
     "metadata": {
      "image/png": {
       "height": 420,
       "width": 420
      }
     },
     "output_type": "display_data"
    }
   ],
   "source": [
    "# Histograma da variável preço.\n",
    "hist(dados$Preco,\n",
    "     breaks = 5,\n",
    "     col = \"lightblue\",\n",
    "     main = \"Histograma do Preço\",\n",
    "     xlab = \"Preço\")"
   ]
  },
  {
   "cell_type": "code",
   "execution_count": 27,
   "metadata": {
    "vscode": {
     "languageId": "r"
    },
    "pycharm": {
     "name": "#%%\n"
    }
   },
   "outputs": [
    {
     "data": {
      "image/png": "[encoded data removed]",
      "text/plain": [
       "Plot with title \"Histograma do Preço\""
      ]
     },
     "metadata": {
      "image/png": {
       "height": 420,
       "width": 420
      }
     },
     "output_type": "display_data"
    }
   ],
   "source": [
    "# Histograma da variável preço.\n",
    "hist(dados$Preco,\n",
    "     breaks = 5,\n",
    "     col = \"lightblue\",\n",
    "     main = \"Histograma do Preço\",\n",
    "     xlab = \"Preço\",\n",
    "     freq = FALSE)\n",
    "dens <- density(dados$Preco)\n",
    "lines(dens)"
   ]
  },
  {
   "cell_type": "code",
   "execution_count": 28,
   "metadata": {
    "vscode": {
     "languageId": "r"
    },
    "pycharm": {
     "name": "#%%\n"
    }
   },
   "outputs": [
    {
     "data": {
      "image/png": "[encoded data removed]",
      "text/plain": [
       "Plot with title \"Normal Q-Q Plot\""
      ]
     },
     "metadata": {
      "image/png": {
       "height": 420,
       "width": 420
      }
     },
     "output_type": "display_data"
    }
   ],
   "source": [
    "qqnorm(dados$Preco, pch = 1, frame = FALSE)\n",
    "qqline(dados$Preco, col = \"steelblue\", lwd = 2)"
   ]
  },
  {
   "cell_type": "code",
   "execution_count": 29,
   "metadata": {
    "vscode": {
     "languageId": "r"
    },
    "pycharm": {
     "name": "#%%\n"
    }
   },
   "outputs": [
    {
     "data": {
      "text/plain": [
       "\n",
       "\tShapiro-Wilk normality test\n",
       "\n",
       "data:  dados$Preco\n",
       "W = 0.96559, p-value = 0.6604\n"
      ]
     },
     "metadata": {},
     "output_type": "display_data"
    }
   ],
   "source": [
    "shapiro.test(dados$Preco)"
   ]
  },
  {
   "cell_type": "markdown",
   "metadata": {
    "pycharm": {
     "name": "#%% md\n"
    }
   },
   "source": [
    "# Pergunta 2\n",
    "\n",
    "*Explore a variável resposta, que é o Preço, e responda:*\n",
    "\n",
    "Pelo boxplot do Preço, você consegue visualizar algum outlier?"
   ]
  },
  {
   "cell_type": "code",
   "execution_count": 30,
   "metadata": {
    "vscode": {
     "languageId": "r"
    },
    "pycharm": {
     "name": "#%%\n"
    }
   },
   "outputs": [
    {
     "data": {
      "image/png": "[encoded data removed]",
      "text/plain": [
       "plot without title"
      ]
     },
     "metadata": {
      "image/png": {
       "height": 420,
       "width": 420
      }
     },
     "output_type": "display_data"
    }
   ],
   "source": [
    "boxplot(dados$Preco)"
   ]
  },
  {
   "cell_type": "code",
   "execution_count": 31,
   "metadata": {
    "vscode": {
     "languageId": "r"
    },
    "pycharm": {
     "name": "#%%\n"
    }
   },
   "outputs": [
    {
     "name": "stdout",
     "output_type": "stream",
     "text": [
      "[1] 360.2511\n",
      "[1] 535.3981\n"
     ]
    }
   ],
   "source": [
    "# Teste de Outlier com Filtro de Hampel\n",
    "# Formula = mediana -/+ 3 * DAM (Desvio_Absoluto_Mediano, mad em inglês)\n",
    "limite_inferior <- median(dados$Preco) - 3 * mad(dados$Preco, constant = 1)\n",
    "limite_superior <- median(dados$Preco) + 3 * mad(dados$Preco, constant = 1)\n",
    "print(limite_inferior)\n",
    "print(limite_superior)"
   ]
  },
  {
   "cell_type": "markdown",
   "metadata": {
    "pycharm": {
     "name": "#%% md\n"
    }
   },
   "source": [
    "# Pergunta 3\n",
    "\n",
    "*Explore a variável resposta, que é o Preço, e responda:*\n",
    "\n",
    "_Qual é o valor mediano do Preço e qual a sua interpretação CORRETA?_\n"
   ]
  },
  {
   "cell_type": "code",
   "execution_count": 32,
   "metadata": {
    "vscode": {
     "languageId": "r"
    },
    "pycharm": {
     "name": "#%%\n"
    }
   },
   "outputs": [
    {
     "data": {
      "text/plain": [
       "   Min. 1st Qu.  Median    Mean 3rd Qu.    Max. \n",
       "  339.5   415.8   447.8   440.7   463.5   551.3 "
      ]
     },
     "metadata": {},
     "output_type": "display_data"
    }
   ],
   "source": [
    "# Estatísticas descritivas da variável preço.\n",
    "summary(dados$Preco, digits = 4)"
   ]
  },
  {
   "cell_type": "markdown",
   "metadata": {
    "pycharm": {
     "name": "#%% md\n"
    }
   },
   "source": [
    "# Pergunta 4\n",
    "\n",
    "Explore a relação entre as variáveis Preço e Quadrimestre, e responda:\n",
    "\n",
    "_Através do boxplot, como o Preço se comporta em relação a cada Quadrimestre?_\n"
   ]
  },
  {
   "cell_type": "code",
   "execution_count": 33,
   "metadata": {
    "vscode": {
     "languageId": "r"
    },
    "pycharm": {
     "name": "#%%\n"
    }
   },
   "outputs": [
    {
     "data": {
      "image/png": "[encoded data removed]",
      "text/plain": [
       "plot without title"
      ]
     },
     "metadata": {
      "image/png": {
       "height": 420,
       "width": 420
      }
     },
     "output_type": "display_data"
    }
   ],
   "source": [
    "boxplot(dados$Preco ~ dados$Quadrimestre)"
   ]
  },
  {
   "cell_type": "markdown",
   "metadata": {
    "pycharm": {
     "name": "#%% md\n"
    }
   },
   "source": [
    "# Pergunta 5\n",
    "\n",
    "*Explore a relação entre as variáveis Preço e Quadrimestre, e responda:*\n",
    "\n",
    "_Através de uma ANOVA, existe diferença significativa entre o Preço médio de pelo menos um Quadrimestre em relação aos outros? Como chegou a essa conclusão? Adote 95% de confiança na sua interpretação._\n"
   ]
  },
  {
   "cell_type": "code",
   "execution_count": 34,
   "metadata": {
    "vscode": {
     "languageId": "r"
    },
    "pycharm": {
     "name": "#%%\n"
    }
   },
   "outputs": [
    {
     "data": {
      "text/plain": [
       "             Df Sum Sq Mean Sq F value   Pr(>F)    \n",
       "Quadrimestre  2  32328   16164   15.95 0.000126 ***\n",
       "Residuals    17  17230    1014                     \n",
       "---\n",
       "Signif. codes:  0 '***' 0.001 '**' 0.01 '*' 0.05 '.' 0.1 ' ' 1"
      ]
     },
     "metadata": {},
     "output_type": "display_data"
    }
   ],
   "source": [
    "anova <- aov(Preco ~ Quadrimestre, data = dados)\n",
    "summary(anova)"
   ]
  },
  {
   "cell_type": "markdown",
   "metadata": {
    "pycharm": {
     "name": "#%% md\n"
    }
   },
   "source": [
    "# Pergunta 6\n",
    "\n",
    "*Explore a relação entre as variáveis Preço e Portas, e responda:*\n",
    "\n",
    "_Através de um teste t de Student para amostras independentes, existe diferença significativa entre o preço médio do aluguel do veículo com duas portas quando comparado com o preço médio do veículo de quatro portas? Adote *95%* de confiança ao realizar na sua interpretação._\n"
   ]
  },
  {
   "cell_type": "code",
   "execution_count": 35,
   "metadata": {
    "vscode": {
     "languageId": "r"
    },
    "pycharm": {
     "name": "#%%\n"
    }
   },
   "outputs": [
    {
     "data": {
      "image/png": "[encoded data removed]",
      "text/plain": [
       "plot without title"
      ]
     },
     "metadata": {
      "image/png": {
       "height": 420,
       "width": 420
      }
     },
     "output_type": "display_data"
    }
   ],
   "source": [
    "boxplot(dados$Preco ~ dados$Portas)"
   ]
  },
  {
   "cell_type": "code",
   "execution_count": 36,
   "metadata": {
    "vscode": {
     "languageId": "r"
    },
    "pycharm": {
     "name": "#%%\n"
    }
   },
   "outputs": [
    {
     "data": {
      "text/plain": [
       "\n",
       "\tWelch Two Sample t-test\n",
       "\n",
       "data:  dados$Preco by dados$Portas\n",
       "t = -0.14239, df = 17.221, p-value = 0.8884\n",
       "alternative hypothesis: true difference in means between group duas_portas and group quatro_portas is not equal to 0\n",
       "95 percent confidence interval:\n",
       " -51.48432  44.96827\n",
       "sample estimates:\n",
       "  mean in group duas_portas mean in group quatro_portas \n",
       "                   438.7862                    442.0443 \n"
      ]
     },
     "metadata": {},
     "output_type": "display_data"
    }
   ],
   "source": [
    "#Test t de Student\n",
    "t.test(dados$Preco ~ dados$Portas,\n",
    "       # Amostras nao pareadas.\n",
    "       paired = FALSE,\n",
    "       # teste bilateral\n",
    "       alternative = \"two.sided\",\n",
    "       # 95% de confiança\n",
    "       conf.level = 0.95)"
   ]
  },
  {
   "cell_type": "markdown",
   "metadata": {
    "pycharm": {
     "name": "#%% md\n"
    }
   },
   "source": [
    "# Pergunta 7\n",
    "\n",
    "*Explore a relação entre as variáveis Preço e Quilometragem, e responda:*\n",
    "\n",
    "_Pelo gráfico de dispersão, você identifica que existe relação linear entre o Preço e a Quilometragem? Se sim, a relação é positiva ou negativa?_\n"
   ]
  },
  {
   "cell_type": "code",
   "execution_count": 37,
   "metadata": {
    "vscode": {
     "languageId": "r"
    },
    "pycharm": {
     "name": "#%%\n"
    }
   },
   "outputs": [
    {
     "data": {
      "image/png": "[encoded data removed]",
      "text/plain": [
       "plot without title"
      ]
     },
     "metadata": {
      "image/png": {
       "height": 420,
       "width": 420
      }
     },
     "output_type": "display_data"
    }
   ],
   "source": [
    "plot(y = dados$Preco,\n",
    "     x = dados$Quilometragem,\n",
    "     pch = 16,\n",
    "     xlab = \"Quilometragem\",\n",
    "     ylab = \"Preço\")"
   ]
  },
  {
   "cell_type": "markdown",
   "metadata": {
    "pycharm": {
     "name": "#%% md\n"
    }
   },
   "source": [
    "# Pergunta 8\n",
    "\n",
    "*Explore a relação entre as variáveis Preço e Quilometragem, e responda:*\n",
    "\n",
    "_Obtenha o valor do coeficiente de correlação linear de Pearson entre o Preço e a Quilometragem. Qual a interpretação CORRETA?_\n"
   ]
  },
  {
   "cell_type": "code",
   "execution_count": 38,
   "metadata": {
    "vscode": {
     "languageId": "r"
    },
    "pycharm": {
     "name": "#%%\n"
    }
   },
   "outputs": [
    {
     "data": {
      "text/html": [
       "-0.823156087216225"
      ],
      "text/latex": [
       "-0.823156087216225"
      ],
      "text/markdown": [
       "-0.823156087216225"
      ],
      "text/plain": [
       "[1] -0.8231561"
      ]
     },
     "metadata": {},
     "output_type": "display_data"
    }
   ],
   "source": [
    "cor(dados$Preco, dados$Quilometragem)"
   ]
  },
  {
   "cell_type": "markdown",
   "metadata": {
    "pycharm": {
     "name": "#%% md\n"
    }
   },
   "source": [
    "# Pergunta 9\n",
    "\n",
    "*Explore a relação entre as variáveis Preço e Quilometragem, e responda:*\n",
    "\n",
    "_Se tentarmos utilizar somente a Quilometragem para prever o valor do Preço, o quanto da variação do Preço a variável Quilometragem consegue explicar? Em outras palavras, interprete o R2 da regressão linear do Preço em função da Quilometragem._\n"
   ]
  },
  {
   "cell_type": "code",
   "execution_count": 39,
   "metadata": {
    "vscode": {
     "languageId": "r"
    },
    "pycharm": {
     "name": "#%%\n"
    }
   },
   "outputs": [
    {
     "data": {
      "text/plain": [
       "\n",
       "Call:\n",
       "lm(formula = Preco ~ Quilometragem, data = dados)\n",
       "\n",
       "Residuals:\n",
       "    Min      1Q  Median      3Q     Max \n",
       "-65.477 -18.862   5.824  20.919  40.446 \n",
       "\n",
       "Coefficients:\n",
       "               Estimate Std. Error t value Pr(>|t|)    \n",
       "(Intercept)   592.25689   25.51961  23.208 7.28e-15 ***\n",
       "Quilometragem  -0.21065    0.03425  -6.151 8.29e-06 ***\n",
       "---\n",
       "Signif. codes:  0 '***' 0.001 '**' 0.01 '*' 0.05 '.' 0.1 ' ' 1\n",
       "\n",
       "Residual standard error: 29.79 on 18 degrees of freedom\n",
       "Multiple R-squared:  0.6776,\tAdjusted R-squared:  0.6597 \n",
       "F-statistic: 37.83 on 1 and 18 DF,  p-value: 8.293e-06\n"
      ]
     },
     "metadata": {},
     "output_type": "display_data"
    }
   ],
   "source": [
    "regressao_linear <- lm(Preco ~ Quilometragem, data = dados)\n",
    "summary(regressao_linear)"
   ]
  },
  {
   "cell_type": "markdown",
   "metadata": {
    "pycharm": {
     "name": "#%% md\n"
    }
   },
   "source": [
    "# Pergunta 10\n",
    "\n",
    "*Explore a variável Quilometragem, e responda:*\n",
    "\n",
    "_Qual o valor do primeiro quartil e qual a sua interpretação CORRETA?_\n"
   ]
  },
  {
   "cell_type": "code",
   "execution_count": 40,
   "metadata": {
    "vscode": {
     "languageId": "r"
    },
    "pycharm": {
     "name": "#%%\n"
    }
   },
   "outputs": [
    {
     "data": {
      "text/plain": [
       "   Min. 1st Qu.  Median    Mean 3rd Qu.    Max. \n",
       "  351.5   554.7   747.5   719.3   925.2   957.4 "
      ]
     },
     "metadata": {},
     "output_type": "display_data"
    }
   ],
   "source": [
    "summary(dados$Quilometragem)"
   ]
  },
  {
   "cell_type": "markdown",
   "metadata": {
    "pycharm": {
     "name": "#%% md\n"
    }
   },
   "source": [
    "# Pergunta 11\n",
    "\n",
    "*Explore a variável Quilometragem, e responda:*\n",
    "\n",
    "_Qual o valor do terceiro quartil e qual a sua interpretação CORRETA?_\n"
   ]
  },
  {
   "cell_type": "code",
   "execution_count": 41,
   "metadata": {
    "vscode": {
     "languageId": "r"
    },
    "pycharm": {
     "name": "#%%\n"
    }
   },
   "outputs": [
    {
     "data": {
      "text/plain": [
       "   Min. 1st Qu.  Median    Mean 3rd Qu.    Max. \n",
       "  351.5   554.7   747.5   719.3   925.2   957.4 "
      ]
     },
     "metadata": {},
     "output_type": "display_data"
    }
   ],
   "source": [
    "summary(dados$Quilometragem)"
   ]
  },
  {
   "cell_type": "markdown",
   "metadata": {
    "pycharm": {
     "name": "#%% md\n"
    }
   },
   "source": [
    "# Pergunta 12\n",
    "\n",
    "*Explore a variável Quilometragem e responda:*\n",
    "\n",
    "_Qual é o valor do coeficiente de variação e qual a sua interpretação CORRETA?_\n"
   ]
  },
  {
   "cell_type": "code",
   "execution_count": 42,
   "metadata": {
    "vscode": {
     "languageId": "r"
    },
    "pycharm": {
     "name": "#%%\n"
    }
   },
   "outputs": [
    {
     "data": {
      "text/html": [
       "0.277462786402666"
      ],
      "text/latex": [
       "0.277462786402666"
      ],
      "text/markdown": [
       "0.277462786402666"
      ],
      "text/plain": [
       "[1] 0.2774628"
      ]
     },
     "metadata": {},
     "output_type": "display_data"
    }
   ],
   "source": [
    "sd(dados$Quilometragem) / mean(dados$Quilometragem)"
   ]
  }
 ],
 "metadata": {
  "interpreter": {
   "hash": "369f2c481f4da34e4445cda3fffd2e751bd1c4d706f27375911949ba6bb62e1c"
  },
  "kernelspec": {
   "display_name": "R",
   "language": "R",
   "name": "ir"
  },
  "language_info": {
   "codemirror_mode": "r",
   "file_extension": ".r",
   "mimetype": "text/x-r-source",
   "name": "R",
   "pygments_lexer": "r",
   "version": "4.2.0"
  },
  "orig_nbformat": 4
 },
 "nbformat": 4,
 "nbformat_minor": 2
}