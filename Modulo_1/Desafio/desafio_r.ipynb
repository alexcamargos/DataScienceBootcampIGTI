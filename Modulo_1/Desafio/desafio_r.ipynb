{
 "cells": [
  {
   "cell_type": "markdown",
   "metadata": {
    "pycharm": {
     "name": "#%% md\n"
    }
   },
   "source": [
    "# Bootcamp: Cientista de Dados - Desafio\n",
    "\n",
    "- Data: junho de 2022.\n",
    "\n",
    "## Autor\n",
    "\n",
    "Feito com :heart: por [Alexsander Lopes Camargos](https://github.com/alexcamargos) :wave: Entre em contato!\n",
    "\n",
    "[![GitHub](https://img.shields.io/badge/-AlexCamargos-1ca0f1?style=flat-square&labelColor=1ca0f1&logo=github&logoColor=white&link=https://github.com/alexcamargos)](https://github.com/alexcamargos)\n",
    "[![Twitter Badge](https://img.shields.io/badge/-@alcamargos-1ca0f1?style=flat-square&labelColor=1ca0f1&logo=twitter&logoColor=white&link=https://twitter.com/alcamargos)](https://twitter.com/alcamargos)\n",
    "[![Linkedin Badge](https://img.shields.io/badge/-alexcamargos-1ca0f1?style=flat-square&logo=Linkedin&logoColor=white&link=https://www.linkedin.com/in/alexcamargos/)](https://www.linkedin.com/in/alexcamargos/)\n",
    "[![Gmail Badge](https://img.shields.io/badge/-alcamargos@vivaldi.net-1ca0f1?style=flat-square&labelColor=1ca0f1&logo=Gmail&logoColor=white&link=mailto:alcamargos@vivaldi.net)](mailto:alcamargos@vivaldi.net)\n",
    "\n",
    "## Licença\n",
    "\n",
    "[MIT License](https://choosealicense.com/licenses/mit/)\n",
    "\n",
    "# Módulo 1 - Análise Estatística de Dados\n",
    "\n",
    "## Objetivos\n",
    "\n",
    "Exercitar os seguintes conceitos trabalhados no Módulo:\n",
    "\n",
    "- Análise exploratória\n",
    "- Teste de hipóteses\n",
    "- Correlação\n",
    "- Regressão.\n",
    "\n",
    "## Enunciado\n",
    "\n",
    "O desafio é constituído de um problema de negócio contendo quinze questões, que serão resolvidas utilizando o R. Será disponibilizado código R completo para execução de cada questão, a fim de que o aluno possa direcionar seus esforços no entendimento dos métodos estatísticos e interpretações. Mas àquele interessado em aprender o R, é uma excelente oportunidade e pode contar com apoio do professor.\n",
    "\n",
    "## Atividades\n",
    "\n",
    "Uma empresa que trabalha com vendas em um e-commerce deseja estudar quais características (variáveis) dos seus clientes que impactam no consumo, ou seja, as variáveis que têm relação ao quanto o cliente consome (compra). Para este objetivo, foram selecionados aleatoriamente 29 clientes do banco de dados.\n",
    "\n",
    "Foram selecionadas sete variáveis para este estudo:\n",
    "\n",
    "- _Consumo_ (variável contínua medida em reais) – É a variável resposta, nos diz qual foi o consumo de cada cliente.\n",
    "- _Estado Civil_ (variável categórica com três níveis) – Nos informa se o cliente é Casado, Divorciado ou Solteiro.\n",
    "- _Gênero_ (variável categórica com dois níveis) – Nos informa se o cliente faz parte do público masculino ou do público feminino.\n",
    "- _Idade_ (variável discreta medida em anos) – Nos informa a idade do cliente.\n",
    "- _Renda Mensal_ (variável contínua medida em reais) – Nos informa a renda mensal do cliente.\n",
    "- _Possui Imóvel Próprio_ (variável categórica com dois níveis) – Nos informa se cliente possui imóvel próprio ou não.\n",
    "\n",
    "[Versão em Python](desafio_python.ipynb)\n"
   ]
  },
  {
   "cell_type": "code",
   "execution_count": 1,
   "metadata": {
    "vscode": {
     "languageId": "r"
    },
    "pycharm": {
     "name": "#%%\n"
    }
   },
   "outputs": [
    {
     "name": "stdout",
     "output_type": "stream",
     "text": [
      "[1] \"R version 4.2.0 (2022-04-22 ucrt)\"\n"
     ]
    }
   ],
   "source": [
    "# Versão da Linguagem R\n",
    "print(version$version.string)"
   ]
  },
  {
   "cell_type": "code",
   "execution_count": 2,
   "metadata": {
    "vscode": {
     "languageId": "r"
    },
    "pycharm": {
     "name": "#%%\n"
    }
   },
   "outputs": [],
   "source": [
    "# Carregando a base de dados de dados.\n",
    "dados <- read.csv('dados.csv', row.names='id')"
   ]
  },
  {
   "cell_type": "code",
   "execution_count": 3,
   "outputs": [
    {
     "name": "stdout",
     "output_type": "stream",
     "text": [
      "'data.frame':\t29 obs. of  6 variables:\n",
      " $ Consumo              : int  2595 8470 4007 6734 33628 3903 13444 12560 31176 5435 ...\n",
      " $ Estado_Civil         : chr  \"Divorciado\" \"Casado\" \"Divorciado\" \"Casado\" ...\n",
      " $ Genero               : chr  \"Feminino\" \"Feminino\" \"Masculino\" \"Feminino\" ...\n",
      " $ Idade                : num  20.3 32.1 31.7 37.8 71.2 ...\n",
      " $ Renda_Mensal         : num  1986 3769 2292 2390 8535 ...\n",
      " $ Possui_Imovel_Proprio: chr  \"Sim\" \"Sim\" \"Nao\" \"Sim\" ...\n"
     ]
    }
   ],
   "source": [
    "str(dados)"
   ],
   "metadata": {
    "collapsed": false,
    "pycharm": {
     "name": "#%%\n"
    }
   }
  },
  {
   "cell_type": "code",
   "execution_count": 4,
   "outputs": [],
   "source": [
    "# Convertendo variaveis categóricas para factor.\n",
    "dados$Estado_Civil <- as.factor(dados$Estado_Civil)\n",
    "dados$Genero <- as.factor(dados$Genero)\n",
    "dados$Possui_Imovel_Proprio <- as.factor(dados$Possui_Imovel_Proprio)"
   ],
   "metadata": {
    "collapsed": false,
    "pycharm": {
     "name": "#%%\n"
    }
   }
  },
  {
   "cell_type": "code",
   "execution_count": 5,
   "outputs": [
    {
     "data": {
      "text/plain": "   Consumo Estado_Civil Genero    Idade    Renda_Mensal Possui_Imovel_Proprio\n1   2595   Divorciado   Feminino  20.25858 1985.882     Sim                  \n2   8470   Casado       Feminino  32.11184 3769.248     Sim                  \n3   4007   Divorciado   Masculino 31.74676 2291.881     Nao                  \n4   6734   Casado       Feminino  37.81985 2390.403     Sim                  \n5  33628   Solteiro     Feminino  71.20830 8534.717     Nao                  \n6   3903   Divorciado   Feminino  29.71764 2495.890     Nao                  \n7  13444   Solteiro     Feminino  44.80939 5714.555     Nao                  \n8  12560   Solteiro     Feminino  35.83761 5832.634     Sim                  \n9  31176   Solteiro     Feminino  58.83856 6882.899     Sim                  \n10  5435   Casado       Masculino 39.91780 2099.319     Nao                  \n11 26736   Solteiro     Masculino 58.05506 6342.509     Nao                  \n12  3728   Divorciado   Masculino 21.77821 1941.148     Nao                  \n13  8684   Solteiro     Feminino  31.74676 3575.981     Nao                  \n14  8356   Solteiro     Feminino  37.81985 3589.237     Nao                  \n15 36936   Solteiro     Masculino 71.20830 8534.717     Nao                  \n16  3744   Divorciado   Masculino 18.23853 2740.470     Sim                  \n17 30420   Solteiro     Feminino  61.53872 5714.555     Nao                  \n18  5958   Divorciado   Masculino 35.83761 2390.403     Sim                  \n19  1019   Divorciado   Feminino  20.25858 1635.646     Nao                  \n20 11688   Solteiro     Feminino  39.91780 4364.565     Nao                  \n21  4442   Casado       Masculino 37.91488 1905.538     Nao                  \n22  2640   Solteiro     Masculino 23.35685 2338.309     Sim                  \n23 23888   Solteiro     Masculino 54.99581 5832.634     Sim                  \n24 25844   Solteiro     Masculino 61.29739 6882.899     Nao                  \n25  7430   Casado       Masculino 34.58739 3842.536     Nao                  \n26 10276   Solteiro     Feminino  29.71764 4919.147     Nao                  \n27  3381   Casado       Feminino  19.25850 2063.014     Nao                  \n28  3512   Casado       Masculino 20.25858 2380.558     Nao                  \n29  4957   Casado       Feminino  37.80806 1985.882     Nao                  ",
      "text/html": "<table class=\"dataframe\">\n<caption>A data.frame: 29 × 6</caption>\n<thead>\n\t<tr><th></th><th scope=col>Consumo</th><th scope=col>Estado_Civil</th><th scope=col>Genero</th><th scope=col>Idade</th><th scope=col>Renda_Mensal</th><th scope=col>Possui_Imovel_Proprio</th></tr>\n\t<tr><th></th><th scope=col>&lt;int&gt;</th><th scope=col>&lt;fct&gt;</th><th scope=col>&lt;fct&gt;</th><th scope=col>&lt;dbl&gt;</th><th scope=col>&lt;dbl&gt;</th><th scope=col>&lt;fct&gt;</th></tr>\n</thead>\n<tbody>\n\t<tr><th scope=row>1</th><td> 2595</td><td>Divorciado</td><td>Feminino </td><td>20.25858</td><td>1985.882</td><td>Sim</td></tr>\n\t<tr><th scope=row>2</th><td> 8470</td><td>Casado    </td><td>Feminino </td><td>32.11184</td><td>3769.248</td><td>Sim</td></tr>\n\t<tr><th scope=row>3</th><td> 4007</td><td>Divorciado</td><td>Masculino</td><td>31.74676</td><td>2291.881</td><td>Nao</td></tr>\n\t<tr><th scope=row>4</th><td> 6734</td><td>Casado    </td><td>Feminino </td><td>37.81985</td><td>2390.403</td><td>Sim</td></tr>\n\t<tr><th scope=row>5</th><td>33628</td><td>Solteiro  </td><td>Feminino </td><td>71.20830</td><td>8534.717</td><td>Nao</td></tr>\n\t<tr><th scope=row>6</th><td> 3903</td><td>Divorciado</td><td>Feminino </td><td>29.71764</td><td>2495.890</td><td>Nao</td></tr>\n\t<tr><th scope=row>7</th><td>13444</td><td>Solteiro  </td><td>Feminino </td><td>44.80939</td><td>5714.555</td><td>Nao</td></tr>\n\t<tr><th scope=row>8</th><td>12560</td><td>Solteiro  </td><td>Feminino </td><td>35.83761</td><td>5832.634</td><td>Sim</td></tr>\n\t<tr><th scope=row>9</th><td>31176</td><td>Solteiro  </td><td>Feminino </td><td>58.83856</td><td>6882.899</td><td>Sim</td></tr>\n\t<tr><th scope=row>10</th><td> 5435</td><td>Casado    </td><td>Masculino</td><td>39.91780</td><td>2099.319</td><td>Nao</td></tr>\n\t<tr><th scope=row>11</th><td>26736</td><td>Solteiro  </td><td>Masculino</td><td>58.05506</td><td>6342.509</td><td>Nao</td></tr>\n\t<tr><th scope=row>12</th><td> 3728</td><td>Divorciado</td><td>Masculino</td><td>21.77821</td><td>1941.148</td><td>Nao</td></tr>\n\t<tr><th scope=row>13</th><td> 8684</td><td>Solteiro  </td><td>Feminino </td><td>31.74676</td><td>3575.981</td><td>Nao</td></tr>\n\t<tr><th scope=row>14</th><td> 8356</td><td>Solteiro  </td><td>Feminino </td><td>37.81985</td><td>3589.237</td><td>Nao</td></tr>\n\t<tr><th scope=row>15</th><td>36936</td><td>Solteiro  </td><td>Masculino</td><td>71.20830</td><td>8534.717</td><td>Nao</td></tr>\n\t<tr><th scope=row>16</th><td> 3744</td><td>Divorciado</td><td>Masculino</td><td>18.23853</td><td>2740.470</td><td>Sim</td></tr>\n\t<tr><th scope=row>17</th><td>30420</td><td>Solteiro  </td><td>Feminino </td><td>61.53872</td><td>5714.555</td><td>Nao</td></tr>\n\t<tr><th scope=row>18</th><td> 5958</td><td>Divorciado</td><td>Masculino</td><td>35.83761</td><td>2390.403</td><td>Sim</td></tr>\n\t<tr><th scope=row>19</th><td> 1019</td><td>Divorciado</td><td>Feminino </td><td>20.25858</td><td>1635.646</td><td>Nao</td></tr>\n\t<tr><th scope=row>20</th><td>11688</td><td>Solteiro  </td><td>Feminino </td><td>39.91780</td><td>4364.565</td><td>Nao</td></tr>\n\t<tr><th scope=row>21</th><td> 4442</td><td>Casado    </td><td>Masculino</td><td>37.91488</td><td>1905.538</td><td>Nao</td></tr>\n\t<tr><th scope=row>22</th><td> 2640</td><td>Solteiro  </td><td>Masculino</td><td>23.35685</td><td>2338.309</td><td>Sim</td></tr>\n\t<tr><th scope=row>23</th><td>23888</td><td>Solteiro  </td><td>Masculino</td><td>54.99581</td><td>5832.634</td><td>Sim</td></tr>\n\t<tr><th scope=row>24</th><td>25844</td><td>Solteiro  </td><td>Masculino</td><td>61.29739</td><td>6882.899</td><td>Nao</td></tr>\n\t<tr><th scope=row>25</th><td> 7430</td><td>Casado    </td><td>Masculino</td><td>34.58739</td><td>3842.536</td><td>Nao</td></tr>\n\t<tr><th scope=row>26</th><td>10276</td><td>Solteiro  </td><td>Feminino </td><td>29.71764</td><td>4919.147</td><td>Nao</td></tr>\n\t<tr><th scope=row>27</th><td> 3381</td><td>Casado    </td><td>Feminino </td><td>19.25850</td><td>2063.014</td><td>Nao</td></tr>\n\t<tr><th scope=row>28</th><td> 3512</td><td>Casado    </td><td>Masculino</td><td>20.25858</td><td>2380.558</td><td>Nao</td></tr>\n\t<tr><th scope=row>29</th><td> 4957</td><td>Casado    </td><td>Feminino </td><td>37.80806</td><td>1985.882</td><td>Nao</td></tr>\n</tbody>\n</table>\n",
      "text/markdown": "\nA data.frame: 29 × 6\n\n| <!--/--> | Consumo &lt;int&gt; | Estado_Civil &lt;fct&gt; | Genero &lt;fct&gt; | Idade &lt;dbl&gt; | Renda_Mensal &lt;dbl&gt; | Possui_Imovel_Proprio &lt;fct&gt; |\n|---|---|---|---|---|---|---|\n| 1 |  2595 | Divorciado | Feminino  | 20.25858 | 1985.882 | Sim |\n| 2 |  8470 | Casado     | Feminino  | 32.11184 | 3769.248 | Sim |\n| 3 |  4007 | Divorciado | Masculino | 31.74676 | 2291.881 | Nao |\n| 4 |  6734 | Casado     | Feminino  | 37.81985 | 2390.403 | Sim |\n| 5 | 33628 | Solteiro   | Feminino  | 71.20830 | 8534.717 | Nao |\n| 6 |  3903 | Divorciado | Feminino  | 29.71764 | 2495.890 | Nao |\n| 7 | 13444 | Solteiro   | Feminino  | 44.80939 | 5714.555 | Nao |\n| 8 | 12560 | Solteiro   | Feminino  | 35.83761 | 5832.634 | Sim |\n| 9 | 31176 | Solteiro   | Feminino  | 58.83856 | 6882.899 | Sim |\n| 10 |  5435 | Casado     | Masculino | 39.91780 | 2099.319 | Nao |\n| 11 | 26736 | Solteiro   | Masculino | 58.05506 | 6342.509 | Nao |\n| 12 |  3728 | Divorciado | Masculino | 21.77821 | 1941.148 | Nao |\n| 13 |  8684 | Solteiro   | Feminino  | 31.74676 | 3575.981 | Nao |\n| 14 |  8356 | Solteiro   | Feminino  | 37.81985 | 3589.237 | Nao |\n| 15 | 36936 | Solteiro   | Masculino | 71.20830 | 8534.717 | Nao |\n| 16 |  3744 | Divorciado | Masculino | 18.23853 | 2740.470 | Sim |\n| 17 | 30420 | Solteiro   | Feminino  | 61.53872 | 5714.555 | Nao |\n| 18 |  5958 | Divorciado | Masculino | 35.83761 | 2390.403 | Sim |\n| 19 |  1019 | Divorciado | Feminino  | 20.25858 | 1635.646 | Nao |\n| 20 | 11688 | Solteiro   | Feminino  | 39.91780 | 4364.565 | Nao |\n| 21 |  4442 | Casado     | Masculino | 37.91488 | 1905.538 | Nao |\n| 22 |  2640 | Solteiro   | Masculino | 23.35685 | 2338.309 | Sim |\n| 23 | 23888 | Solteiro   | Masculino | 54.99581 | 5832.634 | Sim |\n| 24 | 25844 | Solteiro   | Masculino | 61.29739 | 6882.899 | Nao |\n| 25 |  7430 | Casado     | Masculino | 34.58739 | 3842.536 | Nao |\n| 26 | 10276 | Solteiro   | Feminino  | 29.71764 | 4919.147 | Nao |\n| 27 |  3381 | Casado     | Feminino  | 19.25850 | 2063.014 | Nao |\n| 28 |  3512 | Casado     | Masculino | 20.25858 | 2380.558 | Nao |\n| 29 |  4957 | Casado     | Feminino  | 37.80806 | 1985.882 | Nao |\n\n",
      "text/latex": "A data.frame: 29 × 6\n\\begin{tabular}{r|llllll}\n  & Consumo & Estado\\_Civil & Genero & Idade & Renda\\_Mensal & Possui\\_Imovel\\_Proprio\\\\\n  & <int> & <fct> & <fct> & <dbl> & <dbl> & <fct>\\\\\n\\hline\n\t1 &  2595 & Divorciado & Feminino  & 20.25858 & 1985.882 & Sim\\\\\n\t2 &  8470 & Casado     & Feminino  & 32.11184 & 3769.248 & Sim\\\\\n\t3 &  4007 & Divorciado & Masculino & 31.74676 & 2291.881 & Nao\\\\\n\t4 &  6734 & Casado     & Feminino  & 37.81985 & 2390.403 & Sim\\\\\n\t5 & 33628 & Solteiro   & Feminino  & 71.20830 & 8534.717 & Nao\\\\\n\t6 &  3903 & Divorciado & Feminino  & 29.71764 & 2495.890 & Nao\\\\\n\t7 & 13444 & Solteiro   & Feminino  & 44.80939 & 5714.555 & Nao\\\\\n\t8 & 12560 & Solteiro   & Feminino  & 35.83761 & 5832.634 & Sim\\\\\n\t9 & 31176 & Solteiro   & Feminino  & 58.83856 & 6882.899 & Sim\\\\\n\t10 &  5435 & Casado     & Masculino & 39.91780 & 2099.319 & Nao\\\\\n\t11 & 26736 & Solteiro   & Masculino & 58.05506 & 6342.509 & Nao\\\\\n\t12 &  3728 & Divorciado & Masculino & 21.77821 & 1941.148 & Nao\\\\\n\t13 &  8684 & Solteiro   & Feminino  & 31.74676 & 3575.981 & Nao\\\\\n\t14 &  8356 & Solteiro   & Feminino  & 37.81985 & 3589.237 & Nao\\\\\n\t15 & 36936 & Solteiro   & Masculino & 71.20830 & 8534.717 & Nao\\\\\n\t16 &  3744 & Divorciado & Masculino & 18.23853 & 2740.470 & Sim\\\\\n\t17 & 30420 & Solteiro   & Feminino  & 61.53872 & 5714.555 & Nao\\\\\n\t18 &  5958 & Divorciado & Masculino & 35.83761 & 2390.403 & Sim\\\\\n\t19 &  1019 & Divorciado & Feminino  & 20.25858 & 1635.646 & Nao\\\\\n\t20 & 11688 & Solteiro   & Feminino  & 39.91780 & 4364.565 & Nao\\\\\n\t21 &  4442 & Casado     & Masculino & 37.91488 & 1905.538 & Nao\\\\\n\t22 &  2640 & Solteiro   & Masculino & 23.35685 & 2338.309 & Sim\\\\\n\t23 & 23888 & Solteiro   & Masculino & 54.99581 & 5832.634 & Sim\\\\\n\t24 & 25844 & Solteiro   & Masculino & 61.29739 & 6882.899 & Nao\\\\\n\t25 &  7430 & Casado     & Masculino & 34.58739 & 3842.536 & Nao\\\\\n\t26 & 10276 & Solteiro   & Feminino  & 29.71764 & 4919.147 & Nao\\\\\n\t27 &  3381 & Casado     & Feminino  & 19.25850 & 2063.014 & Nao\\\\\n\t28 &  3512 & Casado     & Masculino & 20.25858 & 2380.558 & Nao\\\\\n\t29 &  4957 & Casado     & Feminino  & 37.80806 & 1985.882 & Nao\\\\\n\\end{tabular}\n"
     },
     "metadata": {},
     "output_type": "display_data"
    }
   ],
   "source": [
    "View(dados)"
   ],
   "metadata": {
    "collapsed": false,
    "pycharm": {
     "name": "#%%\n"
    }
   }
  },
  {
   "cell_type": "markdown",
   "metadata": {
    "pycharm": {
     "name": "#%% md\n"
    }
   },
   "source": [
    "# Pergunta 1\n",
    "\n",
    "_Explore a variável resposta, que é o Consumo, e responda:_\n",
    "\n",
    "_Pelo histograma, você diria que a variável segue uma distribuição normal?_\n"
   ]
  },
  {
   "cell_type": "code",
   "execution_count": 6,
   "outputs": [
    {
     "data": {
      "text/plain": "Plot with title \"Histograma do Consumo\"",
      "image/png": "[encoded data removed]"
     },
     "metadata": {
      "image/png": {
       "width": 420,
       "height": 420
      }
     },
     "output_type": "display_data"
    }
   ],
   "source": [
    "hist(dados$Consumo,\n",
    "     breaks = 6,\n",
    "     freq = TRUE,\n",
    "     main = 'Histograma do Consumo',\n",
    "     col = 'lightblue',\n",
    "     xlab = 'Consumo',\n",
    "     ylab = 'Frequência')"
   ],
   "metadata": {
    "collapsed": false,
    "pycharm": {
     "name": "#%%\n"
    }
   }
  },
  {
   "cell_type": "code",
   "execution_count": 7,
   "outputs": [
    {
     "data": {
      "text/plain": "Plot with title \"Normal Q-Q Plot\"",
      "image/png": "[encoded data removed]"
     },
     "metadata": {
      "image/png": {
       "width": 420,
       "height": 420
      }
     },
     "output_type": "display_data"
    }
   ],
   "source": [
    "qqnorm(dados$Consumo, pch = 1, col= 'lightblue', frame = FALSE)\n",
    "qqline(dados$Consumo, col = \"red\", lwd = 3)"
   ],
   "metadata": {
    "collapsed": false,
    "pycharm": {
     "name": "#%%\n"
    }
   }
  },
  {
   "cell_type": "code",
   "execution_count": 8,
   "outputs": [
    {
     "data": {
      "text/html": "'Teste de normalidade via Shapiro-Wilk - Estatística W: 0.797737372626002'",
      "text/markdown": "'Teste de normalidade via Shapiro-Wilk - Estatística W: 0.797737372626002'",
      "text/latex": "'Teste de normalidade via Shapiro-Wilk - Estatística W: 0.797737372626002'",
      "text/plain": "[1] \"Teste de normalidade via Shapiro-Wilk - Estatística W: 0.797737372626002\""
     },
     "metadata": {},
     "output_type": "display_data"
    },
    {
     "data": {
      "text/html": "'Teste de normalidade via Shapiro-Wilk - P-value: 7.60962549449483e-05'",
      "text/markdown": "'Teste de normalidade via Shapiro-Wilk - P-value: 7.60962549449483e-05'",
      "text/latex": "'Teste de normalidade via Shapiro-Wilk - P-value: 7.60962549449483e-05'",
      "text/plain": "[1] \"Teste de normalidade via Shapiro-Wilk - P-value: 7.60962549449483e-05\""
     },
     "metadata": {},
     "output_type": "display_data"
    }
   ],
   "source": [
    "# Teste de normalidade via Shapiro-Wilk.\n",
    "shapiro <- shapiro.test(dados$Consumo)\n",
    "stringr::str_interp('Teste de normalidade via Shapiro-Wilk - Estatística W: ${shapiro$statistic}')\n",
    "stringr::str_interp('Teste de normalidade via Shapiro-Wilk - P-value: ${shapiro$p.value}')"
   ],
   "metadata": {
    "collapsed": false,
    "pycharm": {
     "name": "#%%\n"
    }
   }
  },
  {
   "cell_type": "code",
   "execution_count": 9,
   "outputs": [
    {
     "data": {
      "text/html": "'Interpretação do teste de normalidade via Shapiro-Wilk - P-value: 0.05'",
      "text/markdown": "'Interpretação do teste de normalidade via Shapiro-Wilk - P-value: 0.05'",
      "text/latex": "'Interpretação do teste de normalidade via Shapiro-Wilk - P-value: 0.05'",
      "text/plain": "[1] \"Interpretação do teste de normalidade via Shapiro-Wilk - P-value: 0.05\""
     },
     "metadata": {},
     "output_type": "display_data"
    },
    {
     "name": "stdout",
     "output_type": "stream",
     "text": [
      "[1] \"A variável Consumo segue uma distribuição normal.\"\n"
     ]
    }
   ],
   "source": [
    "# Interpretação do teste de normalidade via Shapiro-Wilk.\n",
    "ic <- .95    #95% de confiança\n",
    "alfa <- 1 - ic\n",
    "stringr::str_interp('Interpretação do teste de normalidade via Shapiro-Wilk - P-value: ${alfa}')\n",
    "\n",
    "if (shapiro$p.value <= alfa) {\n",
    "  print('A variável Consumo segue uma distribuição normal.')\n",
    "} else {\n",
    "  print('A variável Consumo não segue uma distribuição normal.')\n",
    "}"
   ],
   "metadata": {
    "collapsed": false,
    "pycharm": {
     "name": "#%%\n"
    }
   }
  },
  {
   "cell_type": "markdown",
   "metadata": {
    "pycharm": {
     "name": "#%% md\n"
    }
   },
   "source": [
    "# Pergunta 2\n",
    "\n",
    "_Explore a variável resposta, que é o Consumo, e responda:_\n",
    "\n",
    "_Pelo boxplot, você consegue visualizar algum outlier?_\n"
   ]
  },
  {
   "cell_type": "code",
   "execution_count": 10,
   "metadata": {
    "vscode": {
     "languageId": "r"
    },
    "pycharm": {
     "name": "#%%\n"
    }
   },
   "outputs": [
    {
     "data": {
      "text/plain": "Plot with title \"Boxplot do Consumo\"",
      "image/png": "[encoded data removed]"
     },
     "metadata": {
      "image/png": {
       "width": 420,
       "height": 420
      }
     },
     "output_type": "display_data"
    }
   ],
   "source": [
    "# Bloxplot da variável Consumo.\n",
    "boxplot(dados$Consumo,\n",
    "        main = 'Boxplot do Consumo',\n",
    "        col = 'lightblue',\n",
    "        xlab = 'Consumo',\n",
    "        ylab = 'Frequência')"
   ]
  },
  {
   "cell_type": "code",
   "execution_count": 11,
   "outputs": [
    {
     "data": {
      "text/html": "<style>\n.list-inline {list-style: none; margin:0; padding: 0}\n.list-inline>li {display: inline-block}\n.list-inline>li:not(:last-child)::after {content: \"\\00b7\"; padding: 0 .5ex}\n</style>\n<ol class=list-inline><li>30420</li><li>31176</li><li>33628</li><li>36936</li></ol>\n",
      "text/markdown": "1. 30420\n2. 31176\n3. 33628\n4. 36936\n\n\n",
      "text/latex": "\\begin{enumerate*}\n\\item 30420\n\\item 31176\n\\item 33628\n\\item 36936\n\\end{enumerate*}\n",
      "text/plain": "[1] 30420 31176 33628 36936"
     },
     "metadata": {},
     "output_type": "display_data"
    }
   ],
   "source": [
    "# Mostrando quem são os outliers para a variável preço.\n",
    "outliers <- boxplot.stats(dados$Consumo)\n",
    "sort(outliers$out)"
   ],
   "metadata": {
    "collapsed": false,
    "pycharm": {
     "name": "#%%\n"
    }
   }
  },
  {
   "cell_type": "markdown",
   "metadata": {
    "pycharm": {
     "name": "#%% md\n"
    }
   },
   "source": [
    "# Pergunta 3\n",
    "\n",
    "_Explore a variável resposta, que é o Consumo, e responda:_\n",
    "\n",
    "_Qual é o valor do primeiro quartil e terceiro quartil?_\n"
   ]
  },
  {
   "cell_type": "code",
   "execution_count": 12,
   "outputs": [
    {
     "name": "stdout",
     "output_type": "stream",
     "text": [
      "  25%   75% \n",
      " 3903 13444 \n"
     ]
    }
   ],
   "source": [
    "# Mostrando o primeiro e terceiro quartil.\n",
    "print(quantile(dados$Consumo, probs = c(0.25, 0.75)))"
   ],
   "metadata": {
    "collapsed": false,
    "pycharm": {
     "name": "#%%\n"
    }
   }
  },
  {
   "cell_type": "markdown",
   "metadata": {
    "pycharm": {
     "name": "#%% md\n"
    }
   },
   "source": [
    "# Pergunta 4\n",
    "\n",
    "_Suspeita-se que a variável Estado Civil está associada com o fato de o cliente Possuir Imóvel Próprio. Investigue a relação entre essas duas variáveis e responda:_\n",
    "\n",
    "_Através do teste qui-quadrado, existe relação significativa entre o Estado Civil e o fato do cliente Possuir Imóvel Próprio? Justifique sua resposta. Adote 90% de confiança ao realizar suas interpretações._\n",
    "\n",
    "IC = 90%\n"
   ]
  },
  {
   "cell_type": "code",
   "execution_count": 13,
   "metadata": {
    "vscode": {
     "languageId": "r"
    },
    "pycharm": {
     "name": "#%%\n"
    }
   },
   "outputs": [
    {
     "data": {
      "text/plain": "            \n             Nao Sim\n  Casado       6   2\n  Divorciado   4   3\n  Solteiro    10   4"
     },
     "metadata": {},
     "output_type": "display_data"
    }
   ],
   "source": [
    "# Gera tabela de contigencia entre Estado_Civil e Possui_Imovel_Proprio.\n",
    "tabela_contigencia <- table(dados$Estado_Civil, dados$Possui_Imovel_Proprio)\n",
    "tabela_contigencia"
   ]
  },
  {
   "cell_type": "code",
   "execution_count": 14,
   "outputs": [
    {
     "name": "stderr",
     "output_type": "stream",
     "text": [
      "Warning message in chisq.test(tabela_contigencia):\n",
      "\"Chi-squared approximation may be incorrect\"\n"
     ]
    },
    {
     "data": {
      "text/html": "'Teste de normalidade via Chi-Squared - Estatística: 0.6329'",
      "text/markdown": "'Teste de normalidade via Chi-Squared - Estatística: 0.6329'",
      "text/latex": "'Teste de normalidade via Chi-Squared - Estatística: 0.6329'",
      "text/plain": "[1] \"Teste de normalidade via Chi-Squared - Estatística: 0.6329\""
     },
     "metadata": {},
     "output_type": "display_data"
    },
    {
     "data": {
      "text/html": "'Teste de normalidade via Chi-Squared - P Valor: 0.7287'",
      "text/markdown": "'Teste de normalidade via Chi-Squared - P Valor: 0.7287'",
      "text/latex": "'Teste de normalidade via Chi-Squared - P Valor: 0.7287'",
      "text/plain": "[1] \"Teste de normalidade via Chi-Squared - P Valor: 0.7287\""
     },
     "metadata": {},
     "output_type": "display_data"
    }
   ],
   "source": [
    "# Teste de qui-quadrado entre Estado Civil e Possui Imovel Proprio.\n",
    "qui_test <- chisq.test(tabela_contigencia)\n",
    "stringr::str_interp('Teste de normalidade via Chi-Squared - Estatística: $[.4f]{qui_test$statistic}')\n",
    "stringr::str_interp('Teste de normalidade via Chi-Squared - P Valor: $[.4f]{qui_test$p.value}')"
   ],
   "metadata": {
    "collapsed": false,
    "pycharm": {
     "name": "#%%\n"
    }
   }
  },
  {
   "cell_type": "code",
   "execution_count": 15,
   "outputs": [
    {
     "data": {
      "text/html": "'Interpretação do teste de normalidade via Chi-Squared - Alpha: 0.1'",
      "text/markdown": "'Interpretação do teste de normalidade via Chi-Squared - Alpha: 0.1'",
      "text/latex": "'Interpretação do teste de normalidade via Chi-Squared - Alpha: 0.1'",
      "text/plain": "[1] \"Interpretação do teste de normalidade via Chi-Squared - Alpha: 0.1\""
     },
     "metadata": {},
     "output_type": "display_data"
    },
    {
     "name": "stdout",
     "output_type": "stream",
     "text": [
      "[1] \"Há evidência de que a correlação entre Estado_Civil e Possui_Imovel_Proprio é significante.\"\n"
     ]
    }
   ],
   "source": [
    "# Interpretação do teste de normalidade via Chi-Squared.\n",
    "ic <- .9    #90% de confiança\n",
    "alpha <- 1 - ic\n",
    "stringr::str_interp('Interpretação do teste de normalidade via Chi-Squared - Alpha: ${alpha}')\n",
    "\n",
    "if (qui_test$p.value <= alpha) {\n",
    "  print('Não há evidência de que a correlação entre Estado_Civil e Possui_Imovel_Proprio é significante.')\n",
    "} else {\n",
    "  print('Há evidência de que a correlação entre Estado_Civil e Possui_Imovel_Proprio é significante.')\n",
    "}"
   ],
   "metadata": {
    "collapsed": false,
    "pycharm": {
     "name": "#%%\n"
    }
   }
  },
  {
   "cell_type": "code",
   "execution_count": 16,
   "outputs": [
    {
     "data": {
      "text/plain": "Plot with title \"Tabela de Contingência\"",
      "image/png": "[encoded data removed]"
     },
     "metadata": {
      "image/png": {
       "width": 420,
       "height": 420
      }
     },
     "output_type": "display_data"
    }
   ],
   "source": [
    "# Plot da tabela de contingencia.\n",
    "plot(tabela_contigencia,\n",
    "     col = 'lightblue',\n",
    "     xlab = 'Estado Civil',\n",
    "     ylab = 'Possui Imóvel Próprio',\n",
    "     main = 'Tabela de Contingência')"
   ],
   "metadata": {
    "collapsed": false,
    "pycharm": {
     "name": "#%%\n"
    }
   }
  },
  {
   "cell_type": "markdown",
   "metadata": {
    "pycharm": {
     "name": "#%% md\n"
    }
   },
   "source": [
    "# Pergunta 5\n",
    "\n",
    "_Explore a relação entre as variáveis Consumo e Possui Imóvel Próprio, e responda:_\n",
    "\n",
    "_Através de um teste t de Student para amostras independentes, existe diferença significativa entre o consumo médio do público que possui imóvel próprio quando comparado com o consumo médio do público não possui imóvel próprio? Adote 95% de confiança ao realizar suas interpretações._\n"
   ]
  },
  {
   "cell_type": "code",
   "execution_count": 17,
   "metadata": {
    "vscode": {
     "languageId": "r"
    },
    "pycharm": {
     "name": "#%%\n"
    }
   },
   "outputs": [
    {
     "data": {
      "text/plain": "Plot with title \"Boxplot do Consumo x Possui Imóvel Próprio\"",
      "image/png": "[encoded data removed]"
     },
     "metadata": {
      "image/png": {
       "width": 420,
       "height": 420
      }
     },
     "output_type": "display_data"
    }
   ],
   "source": [
    "boxplot(dados$Consumo ~ dados$Possui_Imovel_Proprio,\n",
    "        main = 'Boxplot do Consumo x Possui Imóvel Próprio',\n",
    "        col = 'lightblue',\n",
    "        xlab = 'Consumo',\n",
    "        ylab = 'Possui Imóvel Próprio')"
   ]
  },
  {
   "cell_type": "code",
   "execution_count": 18,
   "outputs": [
    {
     "data": {
      "text/html": "'Teste de normalidade via Student - Estatística: 0.3608'",
      "text/markdown": "'Teste de normalidade via Student - Estatística: 0.3608'",
      "text/latex": "'Teste de normalidade via Student - Estatística: 0.3608'",
      "text/plain": "[1] \"Teste de normalidade via Student - Estatística: 0.3608\""
     },
     "metadata": {},
     "output_type": "display_data"
    },
    {
     "data": {
      "text/html": "'Teste de normalidade via Student - P Valor: 0.7226'",
      "text/markdown": "'Teste de normalidade via Student - P Valor: 0.7226'",
      "text/latex": "'Teste de normalidade via Student - P Valor: 0.7226'",
      "text/plain": "[1] \"Teste de normalidade via Student - P Valor: 0.7226\""
     },
     "metadata": {},
     "output_type": "display_data"
    }
   ],
   "source": [
    "test_t <- t.test(dados$Consumo ~ dados$Possui_Imovel_Proprio, alternative = 'two.sided')\n",
    "\n",
    "stringr::str_interp('Teste de normalidade via Student - Estatística: $[.4f]{test_t$statistic}')\n",
    "stringr::str_interp('Teste de normalidade via Student - P Valor: $[.4f]{test_t$p.value}')"
   ],
   "metadata": {
    "collapsed": false,
    "pycharm": {
     "name": "#%%\n"
    }
   }
  },
  {
   "cell_type": "code",
   "execution_count": 19,
   "outputs": [
    {
     "data": {
      "text/html": "'Interpretação do teste de normalidade via Student - Alpha: 0.05'",
      "text/markdown": "'Interpretação do teste de normalidade via Student - Alpha: 0.05'",
      "text/latex": "'Interpretação do teste de normalidade via Student - Alpha: 0.05'",
      "text/plain": "[1] \"Interpretação do teste de normalidade via Student - Alpha: 0.05\""
     },
     "metadata": {},
     "output_type": "display_data"
    },
    {
     "name": "stdout",
     "output_type": "stream",
     "text": [
      "[1] \"Há evidência de que a correlação entre Consumo e Possui_Imovel_Proprio é significante.\"\n"
     ]
    }
   ],
   "source": [
    "# Interpretação do teste de normalidade via Student.\n",
    "ic <- .95    #95% de confiança\n",
    "alpha <- 1 - ic\n",
    "stringr::str_interp('Interpretação do teste de normalidade via Student - Alpha: ${alpha}')\n",
    "\n",
    "if (test_t$p.value <= alpha) {\n",
    "  print('Não há evidência de que a correlação entre Consumo e Possui_Imovel_Proprio é significante.')\n",
    "} else {\n",
    "  print('Há evidência de que a correlação entre Consumo e Possui_Imovel_Proprio é significante.')\n",
    "}"
   ],
   "metadata": {
    "collapsed": false,
    "pycharm": {
     "name": "#%%\n"
    }
   }
  },
  {
   "cell_type": "markdown",
   "source": [
    "# Pergunta 6\n",
    "\n",
    "_Explore a relação entre as variáveis Consumo e Idade, e responda:_\n",
    "\n",
    "_Pelo gráfico de dispersão, você identifica que existe relação linear entre o Consumo e a Idade? Se sim, a relação é positiva ou negativa?_\n"
   ],
   "metadata": {
    "collapsed": false,
    "pycharm": {
     "name": "#%% md\n"
    }
   }
  },
  {
   "cell_type": "code",
   "execution_count": 20,
   "metadata": {
    "vscode": {
     "languageId": "r"
    },
    "pycharm": {
     "name": "#%%\n"
    }
   },
   "outputs": [
    {
     "data": {
      "text/plain": "Plot with title \"Gráfico de Dispersão do Consumo x Idade\"",
      "image/png": "[encoded data removed]"
     },
     "metadata": {
      "image/png": {
       "width": 420,
       "height": 420
      }
     },
     "output_type": "display_data"
    }
   ],
   "source": [
    "plot(y = dados$Consumo,\n",
    "     x = dados$Idade,\n",
    "     main = 'Gráfico de Dispersão do Consumo x Idade',\n",
    "     col = 'lightblue',\n",
    "     xlab = 'Idade',\n",
    "     ylab = 'Consumo',\n",
    "     pch = 16)"
   ]
  },
  {
   "cell_type": "markdown",
   "metadata": {
    "pycharm": {
     "name": "#%% md\n"
    }
   },
   "source": [
    "# Pergunta 7\n",
    "\n",
    "_Explore a relação entre as variáveis Consumo e Idade, e responda:_\n",
    "\n",
    "_Obtenha o valor do coeficiente de correlação linear de Pearson entre o Consumo e a Idade e interprete. Marque a alternativa CORRETA._\n"
   ]
  },
  {
   "cell_type": "code",
   "execution_count": 21,
   "outputs": [
    {
     "data": {
      "text/html": "'Coeficiente de correlacao: 0.9399'",
      "text/markdown": "'Coeficiente de correlacao: 0.9399'",
      "text/latex": "'Coeficiente de correlacao: 0.9399'",
      "text/plain": "[1] \"Coeficiente de correlacao: 0.9399\""
     },
     "metadata": {},
     "output_type": "display_data"
    }
   ],
   "source": [
    "# Coeficiente de correlacao entre as variáveis Consumo e Idade.\n",
    "correlacao_consumo_idade <- cor(dados$Consumo, dados$Idade)\n",
    "stringr::str_interp('Coeficiente de correlacao: $[.4f]{correlacao_consumo_idade}')"
   ],
   "metadata": {
    "collapsed": false,
    "pycharm": {
     "name": "#%%\n"
    }
   }
  },
  {
   "cell_type": "markdown",
   "metadata": {
    "pycharm": {
     "name": "#%% md\n"
    }
   },
   "source": [
    "# Pergunta 9\n",
    "\n",
    "_Explore a relação entre as variáveis Consumo e Idade, e responda:_\n",
    "\n",
    "_Execute um teste de normalidade para regressão linear entre Consumo e Idade e, de acordo com os resultados, informe se os resíduos seguem ou não seguem uma distribuição normal._\n",
    "\n",
    "Adote 95% de confiança.\n"
   ]
  },
  {
   "cell_type": "code",
   "execution_count": 22,
   "outputs": [
    {
     "data": {
      "text/plain": "\nCall:\nlm(formula = Consumo ~ Idade, data = dados)\n\nResiduals:\n    Min      1Q  Median      3Q     Max \n-7376.9 -2561.4   754.3  2758.7  6011.5 \n\nCoefficients:\n             Estimate Std. Error t value Pr(>|t|)    \n(Intercept) -13248.72    1895.14  -6.991 1.63e-07 ***\nIdade          652.86      45.64  14.304 4.04e-14 ***\n---\nSignif. codes:  0 '***' 0.001 '**' 0.01 '*' 0.05 '.' 0.1 ' ' 1\n\nResidual standard error: 3793 on 27 degrees of freedom\nMultiple R-squared:  0.8834,\tAdjusted R-squared:  0.8791 \nF-statistic: 204.6 on 1 and 27 DF,  p-value: 4.042e-14\n"
     },
     "metadata": {},
     "output_type": "display_data"
    }
   ],
   "source": [
    "#Ajuste regressao linear do Consumo em funcao da Idade\n",
    "model <- lm(Consumo ~ Idade, data = dados)\n",
    "summary(model)"
   ],
   "metadata": {
    "collapsed": false,
    "pycharm": {
     "name": "#%%\n"
    }
   }
  },
  {
   "cell_type": "code",
   "execution_count": 23,
   "outputs": [
    {
     "data": {
      "text/plain": "   Min. 1st Qu.  Median    Mean 3rd Qu.    Max. \n-7376.9 -2561.4   754.3     0.0  2758.7  6011.5 "
     },
     "metadata": {},
     "output_type": "display_data"
    }
   ],
   "source": [
    "# Analise descritiva dos resíduos.\n",
    "summary(model$residuals)"
   ],
   "metadata": {
    "collapsed": false,
    "pycharm": {
     "name": "#%%\n"
    }
   }
  },
  {
   "cell_type": "code",
   "execution_count": 24,
   "outputs": [
    {
     "data": {
      "text/plain": "Plot with title \"Histograma dos Resíduos\"",
      "image/png": "[encoded data removed]"
     },
     "metadata": {
      "image/png": {
       "width": 420,
       "height": 420
      }
     },
     "output_type": "display_data"
    }
   ],
   "source": [
    "# Histograma dos resíduos.\n",
    "hist(model$residuals,\n",
    "     main = 'Histograma dos Resíduos',\n",
    "     col = 'lightblue',\n",
    "     xlab = 'Resíduos',\n",
    "     ylab = 'Frequência')\n"
   ],
   "metadata": {
    "collapsed": false,
    "pycharm": {
     "name": "#%%\n"
    }
   }
  },
  {
   "cell_type": "code",
   "execution_count": 25,
   "outputs": [
    {
     "data": {
      "text/html": "'Interpretação do teste de normalidade via Student - Alpha: 0.05'",
      "text/markdown": "'Interpretação do teste de normalidade via Student - Alpha: 0.05'",
      "text/latex": "'Interpretação do teste de normalidade via Student - Alpha: 0.05'",
      "text/plain": "[1] \"Interpretação do teste de normalidade via Student - Alpha: 0.05\""
     },
     "metadata": {},
     "output_type": "display_data"
    },
    {
     "name": "stdout",
     "output_type": "stream",
     "text": [
      "[1] \"Há evidência de que os resíduos seguem uma distribuição normal.\"\n"
     ]
    }
   ],
   "source": [
    "# Teste de normalidade dos resíduos.\n",
    "residuals <- t.test(model$residuals)\n",
    "\n",
    "# Interpretação do teste de normalidade via Student.\n",
    "ic <- .95    #95% de confiança\n",
    "alpha <- 1 - ic\n",
    "stringr::str_interp('Interpretação do teste de normalidade via Student - Alpha: ${alpha}')\n",
    "\n",
    "# Interpretação do teste de normalidade dos resíduos.\n",
    "if (residuals$statistic <= alpha) {\n",
    "  print('Há evidência de que os resíduos seguem uma distribuição normal.')\n",
    "} else {\n",
    "  print('Não há evidência de que os resíduos seguem uma distribuição normal.')\n",
    "}"
   ],
   "metadata": {
    "collapsed": false,
    "pycharm": {
     "name": "#%%\n"
    }
   }
  },
  {
   "cell_type": "markdown",
   "metadata": {
    "pycharm": {
     "name": "#%% md\n"
    }
   },
   "source": [
    "# Pergunta 10\n",
    "\n",
    "_Explore a variável Renda Mensal e responda:_\n",
    "\n",
    "_Qual o valor do primeiro quartil e qual a sua interpretação CORRETA?_\n"
   ]
  },
  {
   "cell_type": "code",
   "execution_count": 26,
   "metadata": {
    "vscode": {
     "languageId": "r"
    },
    "pycharm": {
     "name": "#%%\n"
    }
   },
   "outputs": [
    {
     "data": {
      "text/html": "'Primeiro Quartil: 2291.88'",
      "text/markdown": "'Primeiro Quartil: 2291.88'",
      "text/latex": "'Primeiro Quartil: 2291.88'",
      "text/plain": "[1] \"Primeiro Quartil: 2291.88\""
     },
     "metadata": {},
     "output_type": "display_data"
    }
   ],
   "source": [
    "# Primeiro Quartil da Renda Mensal.\n",
    "quartil_1 <- quantile(dados$Renda_Mensal, prob = 0.25)\n",
    "stringr::str_interp('Primeiro Quartil: $[.2f]{quartil_1}')"
   ]
  },
  {
   "cell_type": "markdown",
   "metadata": {
    "pycharm": {
     "name": "#%% md\n"
    }
   },
   "source": [
    "# Pergunta 11\n",
    "\n",
    "_Explore a variável Renda Mensal e responda:_\n",
    "\n",
    "_Qual o valor da mediana e qual a sua interpretação CORRETA?_\n"
   ]
  },
  {
   "cell_type": "code",
   "execution_count": 27,
   "metadata": {
    "vscode": {
     "languageId": "r"
    },
    "pycharm": {
     "name": "#%%\n"
    }
   },
   "outputs": [
    {
     "data": {
      "text/html": "'Mediana: 3575.98'",
      "text/markdown": "'Mediana: 3575.98'",
      "text/latex": "'Mediana: 3575.98'",
      "text/plain": "[1] \"Mediana: 3575.98\""
     },
     "metadata": {},
     "output_type": "display_data"
    }
   ],
   "source": [
    "# Mediana da Renda Mensal.\n",
    "mediana <- median(dados$Renda_Mensal)\n",
    "stringr::str_interp('Mediana: $[.2f]{mediana}')"
   ]
  },
  {
   "cell_type": "markdown",
   "metadata": {
    "pycharm": {
     "name": "#%% md\n"
    }
   },
   "source": [
    "# Pergunta 12\n",
    "\n",
    "_Ajuste uma Regressão linear do Consumo em função da Idade e Renda Mensal, e responda:_\n",
    "\n",
    "_O modelo de regressão linear ajustado é válido?_"
   ]
  },
  {
   "cell_type": "code",
   "execution_count": 28,
   "outputs": [
    {
     "data": {
      "text/plain": "\nCall:\nlm(formula = Consumo ~ Idade + Renda_Mensal, data = dados)\n\nResiduals:\n    Min      1Q  Median      3Q     Max \n-5245.5 -1653.1  -797.9  1787.4  5906.7 \n\nCoefficients:\n               Estimate Std. Error t value Pr(>|t|)    \n(Intercept)  -1.191e+04  1.315e+03  -9.054 1.61e-09 ***\nIdade         3.481e+02  6.226e+01   5.591 7.11e-06 ***\nRenda_Mensal  2.625e+00  4.643e-01   5.653 6.05e-06 ***\n---\nSignif. codes:  0 '***' 0.001 '**' 0.01 '*' 0.05 '.' 0.1 ' ' 1\n\nResidual standard error: 2589 on 26 degrees of freedom\nMultiple R-squared:  0.9477,\tAdjusted R-squared:  0.9437 \nF-statistic: 235.6 on 2 and 26 DF,  p-value: < 2.2e-16\n"
     },
     "metadata": {},
     "output_type": "display_data"
    }
   ],
   "source": [
    "# Modelo de regressão linear da variável Consumo em função das variáveis Idade e Renda_Mensal.\n",
    "rl_consumo_idade_renda_mensal <- lm(Consumo ~ Idade + Renda_Mensal, data=dados)\n",
    "summary(rl_consumo_idade_renda_mensal)"
   ],
   "metadata": {
    "collapsed": false,
    "pycharm": {
     "name": "#%%\n"
    }
   }
  },
  {
   "cell_type": "code",
   "execution_count": 29,
   "outputs": [
    {
     "data": {
      "text/plain": "   Min. 1st Qu.  Median    Mean 3rd Qu.    Max. \n-5245.5 -1653.1  -797.9     0.0  1787.4  5906.8 "
     },
     "metadata": {},
     "output_type": "display_data"
    }
   ],
   "source": [
    "# Estatística descritiva dos resíduos da regressão linear da variável Consumo em função das variáveis Idade e Renda_Mensal.\n",
    "summary(rl_consumo_idade_renda_mensal$residuals)"
   ],
   "metadata": {
    "collapsed": false,
    "pycharm": {
     "name": "#%%\n"
    }
   }
  },
  {
   "cell_type": "code",
   "execution_count": 30,
   "outputs": [
    {
     "data": {
      "text/html": "'Teste de Shapiro-Wilk - Estatística: 0.9678'",
      "text/markdown": "'Teste de Shapiro-Wilk - Estatística: 0.9678'",
      "text/latex": "'Teste de Shapiro-Wilk - Estatística: 0.9678'",
      "text/plain": "[1] \"Teste de Shapiro-Wilk - Estatística: 0.9678\""
     },
     "metadata": {},
     "output_type": "display_data"
    },
    {
     "data": {
      "text/html": "'Teste de Shapiro-Wilk - P Valor: 0.5005'",
      "text/markdown": "'Teste de Shapiro-Wilk - P Valor: 0.5005'",
      "text/latex": "'Teste de Shapiro-Wilk - P Valor: 0.5005'",
      "text/plain": "[1] \"Teste de Shapiro-Wilk - P Valor: 0.5005\""
     },
     "metadata": {},
     "output_type": "display_data"
    }
   ],
   "source": [
    "# Teste de Shapiro-Wilk para os resíduos da regressão linear da variável Consumo em função das variáveis Idade e Renda_Mensal.\n",
    "shapiro_consumo_idade_renda_mensal <- shapiro.test(rl_consumo_idade_renda_mensal$residuals)\n",
    "stringr::str_interp('Teste de Shapiro-Wilk - Estatística: $[.4f]{shapiro_consumo_idade_renda_mensal$statistic}')\n",
    "stringr::str_interp('Teste de Shapiro-Wilk - P Valor: $[.4f]{shapiro_consumo_idade_renda_mensal$p.value}')"
   ],
   "metadata": {
    "collapsed": false,
    "pycharm": {
     "name": "#%%\n"
    }
   }
  },
  {
   "cell_type": "markdown",
   "source": [
    "# Pergunta 13\n",
    "\n",
    "_Ajuste uma Regressão linear do Consumo em função da Idade e Renda Mensal, e responda:_\n",
    "\n",
    "_Marque a alternativa com a interpretação CORRETA do coeficiente Beta da variável Idade._\n"
   ],
   "metadata": {
    "collapsed": false,
    "pycharm": {
     "name": "#%% md\n"
    }
   }
  },
  {
   "cell_type": "code",
   "execution_count": 31,
   "outputs": [
    {
     "data": {
      "text/html": "'Coeficiente Beta da variável Idade: 348.1150'",
      "text/markdown": "'Coeficiente Beta da variável Idade: 348.1150'",
      "text/latex": "'Coeficiente Beta da variável Idade: 348.1150'",
      "text/plain": "[1] \"Coeficiente Beta da variável Idade: 348.1150\""
     },
     "metadata": {},
     "output_type": "display_data"
    }
   ],
   "source": [
    "# Coeficiente Beta da variável Idade.\n",
    "stringr::str_interp('Coeficiente Beta da variável Idade: $[.4f]{rl_consumo_idade_renda_mensal$coefficients[\"Idade\"]}')"
   ],
   "metadata": {
    "collapsed": false,
    "pycharm": {
     "name": "#%%\n"
    }
   }
  },
  {
   "cell_type": "markdown",
   "metadata": {
    "pycharm": {
     "name": "#%% md\n"
    }
   },
   "source": [
    "# Pergunta 14\n",
    "\n",
    "_Ajuste uma Regressão linear do Consumo em função da Idade e Renda Mensal, e responda:_\n",
    "\n",
    "_Marque a alternativa com a interpretação CORRETA do coeficiente Beta da variável Renda Mensal._\n"
   ]
  },
  {
   "cell_type": "code",
   "execution_count": 32,
   "metadata": {
    "vscode": {
     "languageId": "r"
    },
    "pycharm": {
     "name": "#%%\n"
    }
   },
   "outputs": [
    {
     "data": {
      "text/html": "'Coeficiente Beta da variável Idade: 2.6246'",
      "text/markdown": "'Coeficiente Beta da variável Idade: 2.6246'",
      "text/latex": "'Coeficiente Beta da variável Idade: 2.6246'",
      "text/plain": "[1] \"Coeficiente Beta da variável Idade: 2.6246\""
     },
     "metadata": {},
     "output_type": "display_data"
    }
   ],
   "source": [
    "stringr::str_interp('Coeficiente Beta da variável Idade: $[.4f]{rl_consumo_idade_renda_mensal$coefficients[\"Renda_Mensal\"]}')"
   ]
  },
  {
   "cell_type": "markdown",
   "metadata": {
    "pycharm": {
     "name": "#%% md\n"
    }
   },
   "source": [
    "# Pergunta 15\n",
    "\n",
    "_Ajuste uma Regressão linear do Consumo em função da Idade e Renda Mensal, e responda:_\n",
    "\n",
    "_Como os valores t são obtidos?_\n",
    "\n",
    "`coluna t value`\n"
   ]
  },
  {
   "cell_type": "code",
   "execution_count": 33,
   "outputs": [
    {
     "data": {
      "text/plain": "\nCall:\nlm(formula = Consumo ~ Idade + Renda_Mensal, data = dados)\n\nResiduals:\n    Min      1Q  Median      3Q     Max \n-5245.5 -1653.1  -797.9  1787.4  5906.7 \n\nCoefficients:\n               Estimate Std. Error t value Pr(>|t|)    \n(Intercept)  -1.191e+04  1.315e+03  -9.054 1.61e-09 ***\nIdade         3.481e+02  6.226e+01   5.591 7.11e-06 ***\nRenda_Mensal  2.625e+00  4.643e-01   5.653 6.05e-06 ***\n---\nSignif. codes:  0 '***' 0.001 '**' 0.01 '*' 0.05 '.' 0.1 ' ' 1\n\nResidual standard error: 2589 on 26 degrees of freedom\nMultiple R-squared:  0.9477,\tAdjusted R-squared:  0.9437 \nF-statistic: 235.6 on 2 and 26 DF,  p-value: < 2.2e-16\n"
     },
     "metadata": {},
     "output_type": "display_data"
    }
   ],
   "source": [
    "# Valores t dos resíduos da regressão linear da variável Consumo em função das variáveis Idade e Renda_Mensal.\n",
    "summary(rl_consumo_idade_renda_mensal)"
   ],
   "metadata": {
    "collapsed": false,
    "pycharm": {
     "name": "#%%\n"
    }
   }
  }
 ],
 "metadata": {
  "interpreter": {
   "hash": "369f2c481f4da34e4445cda3fffd2e751bd1c4d706f27375911949ba6bb62e1c"
  },
  "kernelspec": {
   "display_name": "R",
   "language": "R",
   "name": "ir"
  },
  "language_info": {
   "codemirror_mode": "r",
   "file_extension": ".r",
   "mimetype": "text/x-r-source",
   "name": "R",
   "pygments_lexer": "r",
   "version": "4.2.0"
  },
  "orig_nbformat": 4
 },
 "nbformat": 4,
 "nbformat_minor": 2
}