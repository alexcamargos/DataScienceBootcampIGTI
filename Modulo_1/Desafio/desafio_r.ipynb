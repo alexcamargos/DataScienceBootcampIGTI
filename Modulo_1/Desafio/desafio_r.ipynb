{
 "cells": [
  {
   "cell_type": "markdown",
   "metadata": {
    "pycharm": {
     "name": "#%% md\n"
    }
   },
   "source": [
    "# Bootcamp: Cientista de Dados - Desafio\n",
    "\n",
    "- Data: junho de 2022.\n",
    "\n",
    "## Autor\n",
    "\n",
    "Feito com :heart: por [Alexsander Lopes Camargos](https://github.com/alexcamargos) :wave: Entre em contato!\n",
    "\n",
    "[![GitHub](https://img.shields.io/badge/-AlexCamargos-1ca0f1?style=flat-square&labelColor=1ca0f1&logo=github&logoColor=white&link=https://github.com/alexcamargos)](https://github.com/alexcamargos)\n",
    "[![Twitter Badge](https://img.shields.io/badge/-@alcamargos-1ca0f1?style=flat-square&labelColor=1ca0f1&logo=twitter&logoColor=white&link=https://twitter.com/alcamargos)](https://twitter.com/alcamargos)\n",
    "[![Linkedin Badge](https://img.shields.io/badge/-alexcamargos-1ca0f1?style=flat-square&logo=Linkedin&logoColor=white&link=https://www.linkedin.com/in/alexcamargos/)](https://www.linkedin.com/in/alexcamargos/)\n",
    "[![Gmail Badge](https://img.shields.io/badge/-alcamargos@vivaldi.net-1ca0f1?style=flat-square&labelColor=1ca0f1&logo=Gmail&logoColor=white&link=mailto:alcamargos@vivaldi.net)](mailto:alcamargos@vivaldi.net)\n",
    "\n",
    "## Licença\n",
    "\n",
    "[MIT License](https://choosealicense.com/licenses/mit/)\n",
    "\n",
    "# Módulo 1 - Análise Estatística de Dados\n",
    "\n",
    "## Objetivos\n",
    "\n",
    "Exercitar os seguintes conceitos trabalhados no Módulo:\n",
    "\n",
    "- Análise exploratória\n",
    "- Teste de hipóteses\n",
    "- Correlação\n",
    "- Regressão.\n",
    "\n",
    "## Enunciado\n",
    "\n",
    "O desafio é constituído de um problema de negócio contendo quinze questões, que serão resolvidas utilizando o R. Será disponibilizado código R completo para execução de cada questão, a fim de que o aluno possa direcionar seus esforços no entendimento dos métodos estatísticos e interpretações. Mas àquele interessado em aprender o R, é uma excelente oportunidade e pode contar com apoio do professor.\n",
    "\n",
    "## Atividades\n",
    "\n",
    "Uma empresa que trabalha com vendas em um e-commerce deseja estudar quais características (variáveis) dos seus clientes que impactam no consumo, ou seja, as variáveis que têm relação ao quanto o cliente consome (compra). Para este objetivo, foram selecionados aleatoriamente 29 clientes do banco de dados.\n",
    "\n",
    "Foram selecionadas sete variáveis para este estudo:\n",
    "\n",
    "- _Consumo_ (variável contínua medida em reais) – É a variável resposta, nos diz qual foi o consumo de cada cliente.\n",
    "- _Estado Civil_ (variável categórica com três níveis) – Nos informa se o cliente é Casado, Divorciado ou Solteiro.\n",
    "- _Gênero_ (variável categórica com dois níveis) – Nos informa se o cliente faz parte do público masculino ou do público feminino.\n",
    "- _Idade_ (variável discreta medida em anos) – Nos informa a idade do cliente.\n",
    "- _Renda Mensal_ (variável contínua medida em reais) – Nos informa a renda mensal do cliente.\n",
    "- _Possui Imóvel Próprio_ (variável categórica com dois níveis) – Nos informa se cliente possui imóvel próprio ou não.\n"
   ]
  },
  {
   "cell_type": "code",
   "execution_count": 1,
   "metadata": {
    "vscode": {
     "languageId": "r"
    },
    "pycharm": {
     "name": "#%%\n"
    }
   },
   "outputs": [
    {
     "name": "stdout",
     "output_type": "stream",
     "text": [
      "[1] \"R version 4.2.0 (2022-04-22 ucrt)\"\n"
     ]
    }
   ],
   "source": [
    "# Versão da Linguagem R\n",
    "print(version$version.string)"
   ]
  },
  {
   "cell_type": "code",
   "execution_count": 4,
   "metadata": {
    "vscode": {
     "languageId": "r"
    },
    "pycharm": {
     "name": "#%%\n"
    }
   },
   "outputs": [
    {
     "data": {
      "text/html": [
       "<table class=\"dataframe\">\n",
       "<caption>A data.frame: 29 × 7</caption>\n",
       "<thead>\n",
       "\t<tr><th scope=col>id</th><th scope=col>Consumo</th><th scope=col>Estado_Civil</th><th scope=col>Genero</th><th scope=col>Idade</th><th scope=col>Renda_Mensal</th><th scope=col>Possui_Imovel_Proprio</th></tr>\n",
       "\t<tr><th scope=col>&lt;int&gt;</th><th scope=col>&lt;int&gt;</th><th scope=col>&lt;chr&gt;</th><th scope=col>&lt;chr&gt;</th><th scope=col>&lt;dbl&gt;</th><th scope=col>&lt;dbl&gt;</th><th scope=col>&lt;chr&gt;</th></tr>\n",
       "</thead>\n",
       "<tbody>\n",
       "\t<tr><td> 1</td><td> 2595</td><td>Divorciado</td><td>Feminino </td><td>20.25858</td><td>1985.882</td><td>Sim</td></tr>\n",
       "\t<tr><td> 2</td><td> 8470</td><td>Casado    </td><td>Feminino </td><td>32.11184</td><td>3769.248</td><td>Sim</td></tr>\n",
       "\t<tr><td> 3</td><td> 4007</td><td>Divorciado</td><td>Masculino</td><td>31.74676</td><td>2291.881</td><td>Nao</td></tr>\n",
       "\t<tr><td> 4</td><td> 6734</td><td>Casado    </td><td>Feminino </td><td>37.81985</td><td>2390.403</td><td>Sim</td></tr>\n",
       "\t<tr><td> 5</td><td>33628</td><td>Solteiro  </td><td>Feminino </td><td>71.20830</td><td>8534.717</td><td>Nao</td></tr>\n",
       "\t<tr><td> 6</td><td> 3903</td><td>Divorciado</td><td>Feminino </td><td>29.71764</td><td>2495.890</td><td>Nao</td></tr>\n",
       "\t<tr><td> 7</td><td>13444</td><td>Solteiro  </td><td>Feminino </td><td>44.80939</td><td>5714.555</td><td>Nao</td></tr>\n",
       "\t<tr><td> 8</td><td>12560</td><td>Solteiro  </td><td>Feminino </td><td>35.83761</td><td>5832.634</td><td>Sim</td></tr>\n",
       "\t<tr><td> 9</td><td>31176</td><td>Solteiro  </td><td>Feminino </td><td>58.83856</td><td>6882.899</td><td>Sim</td></tr>\n",
       "\t<tr><td>10</td><td> 5435</td><td>Casado    </td><td>Masculino</td><td>39.91780</td><td>2099.319</td><td>Nao</td></tr>\n",
       "\t<tr><td>11</td><td>26736</td><td>Solteiro  </td><td>Masculino</td><td>58.05506</td><td>6342.509</td><td>Nao</td></tr>\n",
       "\t<tr><td>12</td><td> 3728</td><td>Divorciado</td><td>Masculino</td><td>21.77821</td><td>1941.148</td><td>Nao</td></tr>\n",
       "\t<tr><td>13</td><td> 8684</td><td>Solteiro  </td><td>Feminino </td><td>31.74676</td><td>3575.981</td><td>Nao</td></tr>\n",
       "\t<tr><td>14</td><td> 8356</td><td>Solteiro  </td><td>Feminino </td><td>37.81985</td><td>3589.237</td><td>Nao</td></tr>\n",
       "\t<tr><td>15</td><td>36936</td><td>Solteiro  </td><td>Masculino</td><td>71.20830</td><td>8534.717</td><td>Nao</td></tr>\n",
       "\t<tr><td>16</td><td> 3744</td><td>Divorciado</td><td>Masculino</td><td>18.23853</td><td>2740.470</td><td>Sim</td></tr>\n",
       "\t<tr><td>17</td><td>30420</td><td>Solteiro  </td><td>Feminino </td><td>61.53872</td><td>5714.555</td><td>Nao</td></tr>\n",
       "\t<tr><td>18</td><td> 5958</td><td>Divorciado</td><td>Masculino</td><td>35.83761</td><td>2390.403</td><td>Sim</td></tr>\n",
       "\t<tr><td>19</td><td> 1019</td><td>Divorciado</td><td>Feminino </td><td>20.25858</td><td>1635.646</td><td>Nao</td></tr>\n",
       "\t<tr><td>20</td><td>11688</td><td>Solteiro  </td><td>Feminino </td><td>39.91780</td><td>4364.565</td><td>Nao</td></tr>\n",
       "\t<tr><td>21</td><td> 4442</td><td>Casado    </td><td>Masculino</td><td>37.91488</td><td>1905.538</td><td>Nao</td></tr>\n",
       "\t<tr><td>22</td><td> 2640</td><td>Solteiro  </td><td>Masculino</td><td>23.35685</td><td>2338.309</td><td>Sim</td></tr>\n",
       "\t<tr><td>23</td><td>23888</td><td>Solteiro  </td><td>Masculino</td><td>54.99581</td><td>5832.634</td><td>Sim</td></tr>\n",
       "\t<tr><td>24</td><td>25844</td><td>Solteiro  </td><td>Masculino</td><td>61.29739</td><td>6882.899</td><td>Nao</td></tr>\n",
       "\t<tr><td>25</td><td> 7430</td><td>Casado    </td><td>Masculino</td><td>34.58739</td><td>3842.536</td><td>Nao</td></tr>\n",
       "\t<tr><td>26</td><td>10276</td><td>Solteiro  </td><td>Feminino </td><td>29.71764</td><td>4919.147</td><td>Nao</td></tr>\n",
       "\t<tr><td>27</td><td> 3381</td><td>Casado    </td><td>Feminino </td><td>19.25850</td><td>2063.014</td><td>Nao</td></tr>\n",
       "\t<tr><td>28</td><td> 3512</td><td>Casado    </td><td>Masculino</td><td>20.25858</td><td>2380.558</td><td>Nao</td></tr>\n",
       "\t<tr><td>29</td><td> 4957</td><td>Casado    </td><td>Feminino </td><td>37.80806</td><td>1985.882</td><td>Nao</td></tr>\n",
       "</tbody>\n",
       "</table>\n"
      ],
      "text/latex": [
       "A data.frame: 29 × 7\n",
       "\\begin{tabular}{lllllll}\n",
       " id & Consumo & Estado\\_Civil & Genero & Idade & Renda\\_Mensal & Possui\\_Imovel\\_Proprio\\\\\n",
       " <int> & <int> & <chr> & <chr> & <dbl> & <dbl> & <chr>\\\\\n",
       "\\hline\n",
       "\t  1 &  2595 & Divorciado & Feminino  & 20.25858 & 1985.882 & Sim\\\\\n",
       "\t  2 &  8470 & Casado     & Feminino  & 32.11184 & 3769.248 & Sim\\\\\n",
       "\t  3 &  4007 & Divorciado & Masculino & 31.74676 & 2291.881 & Nao\\\\\n",
       "\t  4 &  6734 & Casado     & Feminino  & 37.81985 & 2390.403 & Sim\\\\\n",
       "\t  5 & 33628 & Solteiro   & Feminino  & 71.20830 & 8534.717 & Nao\\\\\n",
       "\t  6 &  3903 & Divorciado & Feminino  & 29.71764 & 2495.890 & Nao\\\\\n",
       "\t  7 & 13444 & Solteiro   & Feminino  & 44.80939 & 5714.555 & Nao\\\\\n",
       "\t  8 & 12560 & Solteiro   & Feminino  & 35.83761 & 5832.634 & Sim\\\\\n",
       "\t  9 & 31176 & Solteiro   & Feminino  & 58.83856 & 6882.899 & Sim\\\\\n",
       "\t 10 &  5435 & Casado     & Masculino & 39.91780 & 2099.319 & Nao\\\\\n",
       "\t 11 & 26736 & Solteiro   & Masculino & 58.05506 & 6342.509 & Nao\\\\\n",
       "\t 12 &  3728 & Divorciado & Masculino & 21.77821 & 1941.148 & Nao\\\\\n",
       "\t 13 &  8684 & Solteiro   & Feminino  & 31.74676 & 3575.981 & Nao\\\\\n",
       "\t 14 &  8356 & Solteiro   & Feminino  & 37.81985 & 3589.237 & Nao\\\\\n",
       "\t 15 & 36936 & Solteiro   & Masculino & 71.20830 & 8534.717 & Nao\\\\\n",
       "\t 16 &  3744 & Divorciado & Masculino & 18.23853 & 2740.470 & Sim\\\\\n",
       "\t 17 & 30420 & Solteiro   & Feminino  & 61.53872 & 5714.555 & Nao\\\\\n",
       "\t 18 &  5958 & Divorciado & Masculino & 35.83761 & 2390.403 & Sim\\\\\n",
       "\t 19 &  1019 & Divorciado & Feminino  & 20.25858 & 1635.646 & Nao\\\\\n",
       "\t 20 & 11688 & Solteiro   & Feminino  & 39.91780 & 4364.565 & Nao\\\\\n",
       "\t 21 &  4442 & Casado     & Masculino & 37.91488 & 1905.538 & Nao\\\\\n",
       "\t 22 &  2640 & Solteiro   & Masculino & 23.35685 & 2338.309 & Sim\\\\\n",
       "\t 23 & 23888 & Solteiro   & Masculino & 54.99581 & 5832.634 & Sim\\\\\n",
       "\t 24 & 25844 & Solteiro   & Masculino & 61.29739 & 6882.899 & Nao\\\\\n",
       "\t 25 &  7430 & Casado     & Masculino & 34.58739 & 3842.536 & Nao\\\\\n",
       "\t 26 & 10276 & Solteiro   & Feminino  & 29.71764 & 4919.147 & Nao\\\\\n",
       "\t 27 &  3381 & Casado     & Feminino  & 19.25850 & 2063.014 & Nao\\\\\n",
       "\t 28 &  3512 & Casado     & Masculino & 20.25858 & 2380.558 & Nao\\\\\n",
       "\t 29 &  4957 & Casado     & Feminino  & 37.80806 & 1985.882 & Nao\\\\\n",
       "\\end{tabular}\n"
      ],
      "text/markdown": [
       "\n",
       "A data.frame: 29 × 7\n",
       "\n",
       "| id &lt;int&gt; | Consumo &lt;int&gt; | Estado_Civil &lt;chr&gt; | Genero &lt;chr&gt; | Idade &lt;dbl&gt; | Renda_Mensal &lt;dbl&gt; | Possui_Imovel_Proprio &lt;chr&gt; |\n",
       "|---|---|---|---|---|---|---|\n",
       "|  1 |  2595 | Divorciado | Feminino  | 20.25858 | 1985.882 | Sim |\n",
       "|  2 |  8470 | Casado     | Feminino  | 32.11184 | 3769.248 | Sim |\n",
       "|  3 |  4007 | Divorciado | Masculino | 31.74676 | 2291.881 | Nao |\n",
       "|  4 |  6734 | Casado     | Feminino  | 37.81985 | 2390.403 | Sim |\n",
       "|  5 | 33628 | Solteiro   | Feminino  | 71.20830 | 8534.717 | Nao |\n",
       "|  6 |  3903 | Divorciado | Feminino  | 29.71764 | 2495.890 | Nao |\n",
       "|  7 | 13444 | Solteiro   | Feminino  | 44.80939 | 5714.555 | Nao |\n",
       "|  8 | 12560 | Solteiro   | Feminino  | 35.83761 | 5832.634 | Sim |\n",
       "|  9 | 31176 | Solteiro   | Feminino  | 58.83856 | 6882.899 | Sim |\n",
       "| 10 |  5435 | Casado     | Masculino | 39.91780 | 2099.319 | Nao |\n",
       "| 11 | 26736 | Solteiro   | Masculino | 58.05506 | 6342.509 | Nao |\n",
       "| 12 |  3728 | Divorciado | Masculino | 21.77821 | 1941.148 | Nao |\n",
       "| 13 |  8684 | Solteiro   | Feminino  | 31.74676 | 3575.981 | Nao |\n",
       "| 14 |  8356 | Solteiro   | Feminino  | 37.81985 | 3589.237 | Nao |\n",
       "| 15 | 36936 | Solteiro   | Masculino | 71.20830 | 8534.717 | Nao |\n",
       "| 16 |  3744 | Divorciado | Masculino | 18.23853 | 2740.470 | Sim |\n",
       "| 17 | 30420 | Solteiro   | Feminino  | 61.53872 | 5714.555 | Nao |\n",
       "| 18 |  5958 | Divorciado | Masculino | 35.83761 | 2390.403 | Sim |\n",
       "| 19 |  1019 | Divorciado | Feminino  | 20.25858 | 1635.646 | Nao |\n",
       "| 20 | 11688 | Solteiro   | Feminino  | 39.91780 | 4364.565 | Nao |\n",
       "| 21 |  4442 | Casado     | Masculino | 37.91488 | 1905.538 | Nao |\n",
       "| 22 |  2640 | Solteiro   | Masculino | 23.35685 | 2338.309 | Sim |\n",
       "| 23 | 23888 | Solteiro   | Masculino | 54.99581 | 5832.634 | Sim |\n",
       "| 24 | 25844 | Solteiro   | Masculino | 61.29739 | 6882.899 | Nao |\n",
       "| 25 |  7430 | Casado     | Masculino | 34.58739 | 3842.536 | Nao |\n",
       "| 26 | 10276 | Solteiro   | Feminino  | 29.71764 | 4919.147 | Nao |\n",
       "| 27 |  3381 | Casado     | Feminino  | 19.25850 | 2063.014 | Nao |\n",
       "| 28 |  3512 | Casado     | Masculino | 20.25858 | 2380.558 | Nao |\n",
       "| 29 |  4957 | Casado     | Feminino  | 37.80806 | 1985.882 | Nao |\n",
       "\n"
      ],
      "text/plain": [
       "   id Consumo Estado_Civil Genero    Idade    Renda_Mensal\n",
       "1   1  2595   Divorciado   Feminino  20.25858 1985.882    \n",
       "2   2  8470   Casado       Feminino  32.11184 3769.248    \n",
       "3   3  4007   Divorciado   Masculino 31.74676 2291.881    \n",
       "4   4  6734   Casado       Feminino  37.81985 2390.403    \n",
       "5   5 33628   Solteiro     Feminino  71.20830 8534.717    \n",
       "6   6  3903   Divorciado   Feminino  29.71764 2495.890    \n",
       "7   7 13444   Solteiro     Feminino  44.80939 5714.555    \n",
       "8   8 12560   Solteiro     Feminino  35.83761 5832.634    \n",
       "9   9 31176   Solteiro     Feminino  58.83856 6882.899    \n",
       "10 10  5435   Casado       Masculino 39.91780 2099.319    \n",
       "11 11 26736   Solteiro     Masculino 58.05506 6342.509    \n",
       "12 12  3728   Divorciado   Masculino 21.77821 1941.148    \n",
       "13 13  8684   Solteiro     Feminino  31.74676 3575.981    \n",
       "14 14  8356   Solteiro     Feminino  37.81985 3589.237    \n",
       "15 15 36936   Solteiro     Masculino 71.20830 8534.717    \n",
       "16 16  3744   Divorciado   Masculino 18.23853 2740.470    \n",
       "17 17 30420   Solteiro     Feminino  61.53872 5714.555    \n",
       "18 18  5958   Divorciado   Masculino 35.83761 2390.403    \n",
       "19 19  1019   Divorciado   Feminino  20.25858 1635.646    \n",
       "20 20 11688   Solteiro     Feminino  39.91780 4364.565    \n",
       "21 21  4442   Casado       Masculino 37.91488 1905.538    \n",
       "22 22  2640   Solteiro     Masculino 23.35685 2338.309    \n",
       "23 23 23888   Solteiro     Masculino 54.99581 5832.634    \n",
       "24 24 25844   Solteiro     Masculino 61.29739 6882.899    \n",
       "25 25  7430   Casado       Masculino 34.58739 3842.536    \n",
       "26 26 10276   Solteiro     Feminino  29.71764 4919.147    \n",
       "27 27  3381   Casado       Feminino  19.25850 2063.014    \n",
       "28 28  3512   Casado       Masculino 20.25858 2380.558    \n",
       "29 29  4957   Casado       Feminino  37.80806 1985.882    \n",
       "   Possui_Imovel_Proprio\n",
       "1  Sim                  \n",
       "2  Sim                  \n",
       "3  Nao                  \n",
       "4  Sim                  \n",
       "5  Nao                  \n",
       "6  Nao                  \n",
       "7  Nao                  \n",
       "8  Sim                  \n",
       "9  Sim                  \n",
       "10 Nao                  \n",
       "11 Nao                  \n",
       "12 Nao                  \n",
       "13 Nao                  \n",
       "14 Nao                  \n",
       "15 Nao                  \n",
       "16 Sim                  \n",
       "17 Nao                  \n",
       "18 Sim                  \n",
       "19 Nao                  \n",
       "20 Nao                  \n",
       "21 Nao                  \n",
       "22 Sim                  \n",
       "23 Sim                  \n",
       "24 Nao                  \n",
       "25 Nao                  \n",
       "26 Nao                  \n",
       "27 Nao                  \n",
       "28 Nao                  \n",
       "29 Nao                  "
      ]
     },
     "metadata": {},
     "output_type": "display_data"
    }
   ],
   "source": [
    "# Carregando a base de dados de dados.\n",
    "dados <- read.csv('dados.csv')\n",
    "\n",
    "View(dados)"
   ]
  },
  {
   "cell_type": "code",
   "execution_count": 9,
   "metadata": {
    "vscode": {
     "languageId": "r"
    },
    "pycharm": {
     "name": "#%%\n"
    }
   },
   "outputs": [
    {
     "ename": "ERROR",
     "evalue": "Error in heatmap(dados): 'x' deve ser uma matriz numérica\n",
     "output_type": "error",
     "traceback": [
      "Error in heatmap(dados): 'x' deve ser uma matriz numérica\nTraceback:\n",
      "1. heatmap(dados)",
      "2. stop(\"'x' must be a numeric matrix\")"
     ]
    }
   ],
   "source": [
    "heatmap(dados) "
   ]
  },
  {
   "cell_type": "code",
   "execution_count": 15,
   "metadata": {
    "vscode": {
     "languageId": "r"
    },
    "pycharm": {
     "name": "#%%\n"
    }
   },
   "outputs": [
    {
     "data": {
      "image/png": "[encoded data removed]",
      "text/plain": [
       "<Figure size 864x432 with 2 Axes>"
      ]
     },
     "metadata": {},
     "output_type": "display_data"
    }
   ],
   "source": [
    "# Correlação entre as colunas que contem informações numéricas.\n",
    "# https://www.tylervigen.com/spurious-correlations\n",
    "heatmap = sns.heatmap(dados.corr(),\n",
    "                      vmin=-1,\n",
    "                      vmax=1,\n",
    "                      annot=True,\n",
    "                      cmap='BrBG',\n",
    "                      center=0)\n",
    "heatmap.set_xticklabels(heatmap.get_xticklabels(), rotation=45, ha='right')\n"
   ]
  },
  {
   "cell_type": "markdown",
   "metadata": {
    "pycharm": {
     "name": "#%% md\n"
    }
   },
   "source": [
    "# Pergunta 1\n",
    "\n",
    "_Explore a variável resposta, que é o Consumo, e responda:_\n",
    "\n",
    "_Pelo histograma, você diria que a variável segue uma distribuição normal?_\n"
   ]
  },
  {
   "cell_type": "code",
   "execution_count": 16,
   "metadata": {
    "vscode": {
     "languageId": "r"
    },
    "pycharm": {
     "name": "#%%\n"
    }
   },
   "outputs": [],
   "source": [
    "pass"
   ]
  },
  {
   "cell_type": "markdown",
   "metadata": {
    "pycharm": {
     "name": "#%% md\n"
    }
   },
   "source": [
    "# Pergunta 2\n",
    "\n",
    "_Explore a variável resposta, que é o Consumo, e responda:_\n",
    "\n",
    "_Pelo boxplot, você consegue visualizar algum outlier?_\n"
   ]
  },
  {
   "cell_type": "code",
   "execution_count": 17,
   "metadata": {
    "vscode": {
     "languageId": "r"
    },
    "pycharm": {
     "name": "#%%\n"
    }
   },
   "outputs": [],
   "source": [
    "pass"
   ]
  },
  {
   "cell_type": "markdown",
   "metadata": {
    "pycharm": {
     "name": "#%% md\n"
    }
   },
   "source": [
    "# Pergunta 3\n",
    "\n",
    "_Explore a variável resposta, que é o Consumo, e responda:_\n",
    "\n",
    "_Qual é o valor do primeiro quartil e terceiro quartil?_\n"
   ]
  },
  {
   "cell_type": "code",
   "execution_count": 18,
   "metadata": {
    "vscode": {
     "languageId": "r"
    },
    "pycharm": {
     "name": "#%%\n"
    }
   },
   "outputs": [],
   "source": [
    "pass"
   ]
  },
  {
   "cell_type": "markdown",
   "metadata": {
    "pycharm": {
     "name": "#%% md\n"
    }
   },
   "source": [
    "# Pergunta 4\n",
    "\n",
    "_Suspeita-se que a variável Estado Civil está associada com o fato de o cliente Possuir Imóvel Próprio. Investigue a relação entre essas duas variáveis e responda:_\n",
    "\n",
    "_Através do teste qui-quadrado, existe relação significativa entre o Estado Civil e o fato do cliente Possuir Imóvel Próprio? Justifique sua resposta. Adote 90% de confiança ao realizar suas interpretações._\n",
    "\n",
    "IC = 90%\n"
   ]
  },
  {
   "cell_type": "code",
   "execution_count": 19,
   "metadata": {
    "vscode": {
     "languageId": "r"
    },
    "pycharm": {
     "name": "#%%\n"
    }
   },
   "outputs": [],
   "source": [
    "pass"
   ]
  },
  {
   "cell_type": "markdown",
   "metadata": {
    "pycharm": {
     "name": "#%% md\n"
    }
   },
   "source": [
    "# Pergunta 5\n",
    "\n",
    "_Explore a relação entre as variáveis Consumo e Possui Imóvel Próprio, e responda:_\n",
    "\n",
    "_Através de um teste t de Student para amostras independentes, existe diferença significativa entre o consumo médio do público que possui imóvel próprio quando comparado com o consumo médio do público não possui imóvel próprio? Adote 95% de confiança ao realizar suas interpretações._\n"
   ]
  },
  {
   "cell_type": "code",
   "execution_count": 20,
   "metadata": {
    "vscode": {
     "languageId": "r"
    },
    "pycharm": {
     "name": "#%%\n"
    }
   },
   "outputs": [],
   "source": [
    "pass"
   ]
  },
  {
   "cell_type": "markdown",
   "metadata": {
    "pycharm": {
     "name": "#%% md\n"
    }
   },
   "source": [
    "# Pergunta 6\n",
    "\n",
    "_Explore a relação entre as variáveis Consumo e Idade, e responda:_\n",
    "\n",
    "_Pelo gráfico de dispersão, você identifica que existe relação linear entre o Consumo e a Idade? Se sim, a relação é positiva ou negativa?_\n"
   ]
  },
  {
   "cell_type": "code",
   "execution_count": 21,
   "metadata": {
    "vscode": {
     "languageId": "r"
    },
    "pycharm": {
     "name": "#%%\n"
    }
   },
   "outputs": [],
   "source": [
    "pass"
   ]
  },
  {
   "cell_type": "markdown",
   "metadata": {
    "pycharm": {
     "name": "#%% md\n"
    }
   },
   "source": [
    "# Pergunta 7\n",
    "\n",
    "_Explore a relação entre as variáveis Consumo e Idade, e responda:_\n",
    "\n",
    "_Obtenha o valor do coeficiente de correlação linear de Pearson entre o Consumo e a Idade e interprete. Marque a alternativa CORRETA._\n"
   ]
  },
  {
   "cell_type": "code",
   "execution_count": 22,
   "metadata": {
    "vscode": {
     "languageId": "r"
    },
    "pycharm": {
     "name": "#%%\n"
    }
   },
   "outputs": [],
   "source": [
    "pass"
   ]
  },
  {
   "cell_type": "markdown",
   "metadata": {
    "pycharm": {
     "name": "#%% md\n"
    }
   },
   "source": [
    "# Pergunta 9\n",
    "\n",
    "_Explore a relação entre as variáveis Consumo e Idade, e responda:_\n",
    "\n",
    "_Execute um teste de normalidade para regressão linear entre Consumo e Idade e, de acordo com os resultados, informe se os resíduos seguem ou não seguem uma distribuição normal. Adote 95% de confiança._\n"
   ]
  },
  {
   "cell_type": "code",
   "execution_count": 23,
   "metadata": {
    "vscode": {
     "languageId": "r"
    },
    "pycharm": {
     "name": "#%%\n"
    }
   },
   "outputs": [],
   "source": [
    "pass"
   ]
  },
  {
   "cell_type": "markdown",
   "metadata": {
    "pycharm": {
     "name": "#%% md\n"
    }
   },
   "source": [
    "# Pergunta 10\n",
    "\n",
    "_Explore a variável Renda Mensal e responda:_\n",
    "\n",
    "_Qual o valor do primeiro quartil e qual a sua interpretação CORRETA?_\n"
   ]
  },
  {
   "cell_type": "code",
   "execution_count": 24,
   "metadata": {
    "vscode": {
     "languageId": "r"
    },
    "pycharm": {
     "name": "#%%\n"
    }
   },
   "outputs": [],
   "source": [
    "pass"
   ]
  },
  {
   "cell_type": "markdown",
   "metadata": {
    "pycharm": {
     "name": "#%% md\n"
    }
   },
   "source": [
    "# Pergunta 11\n",
    "\n",
    "_Explore a variável Renda Mensal e responda:_\n",
    "\n",
    "_Qual o valor da mediana e qual a sua interpretação CORRETA?_\n"
   ]
  },
  {
   "cell_type": "code",
   "execution_count": 25,
   "metadata": {
    "vscode": {
     "languageId": "r"
    },
    "pycharm": {
     "name": "#%%\n"
    }
   },
   "outputs": [],
   "source": [
    "pass"
   ]
  },
  {
   "cell_type": "markdown",
   "metadata": {
    "pycharm": {
     "name": "#%% md\n"
    }
   },
   "source": [
    "# Pergunta 12\n",
    "\n",
    "_Ajuste uma Regressão linear do Consumo em função da Idade e Renda Mensal, e responda:_\n",
    "\n",
    "_O modelo de regressão linear ajustado é válido?_\n"
   ]
  },
  {
   "cell_type": "code",
   "execution_count": 26,
   "metadata": {
    "vscode": {
     "languageId": "r"
    },
    "pycharm": {
     "name": "#%%\n"
    }
   },
   "outputs": [],
   "source": [
    "pass"
   ]
  },
  {
   "cell_type": "markdown",
   "metadata": {
    "pycharm": {
     "name": "#%% md\n"
    }
   },
   "source": [
    "# Pergunta 13\n",
    "\n",
    "_Ajuste uma Regressão linear do Consumo em função da Idade e Renda Mensal, e responda:_\n",
    "\n",
    "_Marque a alternativa com a interpretação CORRETA do coeficiente Beta da variável Idade._\n"
   ]
  },
  {
   "cell_type": "code",
   "execution_count": 27,
   "metadata": {
    "vscode": {
     "languageId": "r"
    },
    "pycharm": {
     "name": "#%%\n"
    }
   },
   "outputs": [],
   "source": [
    "pass"
   ]
  },
  {
   "cell_type": "markdown",
   "metadata": {
    "pycharm": {
     "name": "#%% md\n"
    }
   },
   "source": [
    "# Pergunta 14\n",
    "\n",
    "_Ajuste uma Regressão linear do Consumo em função da Idade e Renda Mensal, e responda:_\n",
    "\n",
    "_Marque a alternativa com a interpretação CORRETA do coeficiente Beta da variável Renda Mensal._\n"
   ]
  },
  {
   "cell_type": "code",
   "execution_count": 28,
   "metadata": {
    "vscode": {
     "languageId": "r"
    },
    "pycharm": {
     "name": "#%%\n"
    }
   },
   "outputs": [],
   "source": [
    "pass"
   ]
  },
  {
   "cell_type": "markdown",
   "metadata": {
    "pycharm": {
     "name": "#%% md\n"
    }
   },
   "source": [
    "# Pergunta 15\n",
    "\n",
    "_Ajuste uma Regressão linear do Consumo em função da Idade e Renda Mensal, e responda:_\n",
    "\n",
    "_Como os valores t são obtidos?_\n",
    "\n",
    "`coluna t value`\n"
   ]
  },
  {
   "cell_type": "code",
   "execution_count": 29,
   "metadata": {
    "vscode": {
     "languageId": "r"
    },
    "pycharm": {
     "name": "#%%\n"
    }
   },
   "outputs": [],
   "source": [
    "pass"
   ]
  }
 ],
 "metadata": {
  "interpreter": {
   "hash": "369f2c481f4da34e4445cda3fffd2e751bd1c4d706f27375911949ba6bb62e1c"
  },
  "kernelspec": {
   "display_name": "R",
   "language": "R",
   "name": "ir"
  },
  "language_info": {
   "codemirror_mode": "r",
   "file_extension": ".r",
   "mimetype": "text/x-r-source",
   "name": "R",
   "pygments_lexer": "r",
   "version": "4.2.0"
  },
  "orig_nbformat": 4
 },
 "nbformat": 4,
 "nbformat_minor": 2
}