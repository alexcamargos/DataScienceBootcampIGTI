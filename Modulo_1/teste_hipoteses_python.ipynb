{
 "cells": [
  {
   "cell_type": "markdown",
   "metadata": {
    "collapsed": false,
    "pycharm": {
     "name": "#%% md\n"
    }
   },
   "source": [
    "# Bootcamp: Cientista de Dados: Teste de Hipótese\n",
    "\n",
    "- Data: junho de 2022.\n",
    "\n",
    "## Autor\n",
    "\n",
    "Feito por [Alexsander Lopes Camargos](https://github.com/alexcamargos). Entre em contato!\n",
    "\n",
    "[![GitHub](https://img.shields.io/badge/-AlexCamargos-1ca0f1?style=flat-square&labelColor=1ca0f1&logo=github&logoColor=white&link=https://github.com/alexcamargos)](https://github.com/alexcamargos)\n",
    "[![Twitter Badge](https://img.shields.io/badge/-@alcamargos-1ca0f1?style=flat-square&labelColor=1ca0f1&logo=twitter&logoColor=white&link=https://twitter.com/alcamargos)](https://twitter.com/alcamargos)\n",
    "[![Linkedin Badge](https://img.shields.io/badge/-alexcamargos-1ca0f1?style=flat-square&logo=Linkedin&logoColor=white&link=https://www.linkedin.com/in/alexcamargos/)](https://www.linkedin.com/in/alexcamargos/)\n",
    "[![Gmail Badge](https://img.shields.io/badge/-alcamargos@vivaldi.net-1ca0f1?style=flat-square&labelColor=1ca0f1&logo=Gmail&logoColor=white&link=mailto:alcamargos@vivaldi.net)](mailto:alcamargos@vivaldi.net)\n",
    "\n",
    "## Licença\n",
    "\n",
    "[MIT License](https://choosealicense.com/licenses/mit/)\n",
    "\n",
    "# Hipóteses Estatísticas (Teste de hipótese)\n",
    "\n",
    "O teste de hipóteses fornecem ferramentas que nos permitem rejeitar ou não rejeitar uma hipótese estatística através da evidência fornecida pela amostra. É uma metodologia estatística que nos auxilia a tomar decisões sobre uma ou mais populações baseado na informação obtida da amostra. Nos permite verificar se os dados da amostra trazem evidência que apoiem ou não uma hipótese estatística formulada.\n",
    "\n",
    "Ao tentarmos tomar decisões, é conveniente a formulação de suposições ou de conjeturas sobre as populações de interesse, que, em geral, consistem em considerações sobre parâmetros (_μ_,_σ2_,_p_) das mesmas. Essas suposições, que podem ser ou não verdadeiras, são denominadas *Hipóteses Estatísticas*.\n",
    "\n",
    "Em muitas situações práticas o interesse do pesquisador é verificar a veracidade sobre um ou mais parâmetros populacionais (_μ_,_σ2_,_p_) ou sobre a distribuição de uma variável aleatória.\n",
    "\n",
    "Exemplos:\n",
    "- A produtividade média de café, no estado de Minas Gerais, é de 31,6 sacas de 60 kg por hectare;\n",
    "- A proporção de peças defeituosas na unidade de fabricação X é de 10%;\n",
    "- A propaganda produz efeito positivo nas vendas;\n",
    "- Os métodos de ensino produzem resultados diferentes de aprendizagem.\n",
    "\n",
    "Um dos primeiros trabalhos sobre testes foi publicado em 1710 por [John Arbuthnot](https://pt.wikipedia.org/wiki/John_Arbuthnot) e um dos primeiros procedimentos estatísticos que chega perto de um teste, no sentido moderno foi proposto por [Karl Pearson](https://pt.wikipedia.org/wiki/Karl_Pearson) em 1900. Esse foi o famoso teste do [Qui-quadrado (Chi-squared)](https://pt.wikipedia.org/wiki/Qui-quadrado), utilizado para comparar uma distribuição de frequência observada com uma distribuição teoricamente assumida. A ideia de testar hipóteses foi posteriormente codificada e elaborada por [Ronald Aylmer Fisher](https://pt.wikipedia.org/wiki/Ronald_Fisher) (1925), que considerou os dados como um vetor de variáveis aleatórias que pertenciam a uma distribuição de probabilidades.\n",
    "\n",
    "# Teste de hipótese aplicados a churn de clientes\n",
    "\n",
    "Saber por que um cliente abandona ou deixa de comprar o seu produto é fundamental para garantir um crescimento sustentável a longo prazo para a sua empresa. No entanto, e em meio a tantas métricas que compõe essa categoria de análise, o churn talvez seja a mais básica, e também a mais fundamental como ponto de partida por representar o número total de clientes cancelados. Parece complexo, mas não é.\n",
    "\n",
    "![Como reduzir o churn dentro da sua empresa](churn.jpg)\n",
    "\n",
    "## O que significa churn?\n",
    "\n",
    "Para colocarmos de maneira simples: _churn_ diz respeito aos casos onde um cliente ou utilizador para de comprar ou usar o produto ou serviço de uma empresa. Ou seja, representa o número total de clientes cancelados. Pense assim: de toda a sua carteira de clientes, ao longo dos últimos meses, quantos deles realmente desistiram do seu produto ou serviço? Esse é o seu churn.\n",
    "\n",
    "Na prática, o churn de clientes atrasa o crescimento da empresa de forma direta por isso, é uma métrica muito importante. Além disso, como já sabemos, é muito mais barato trabalhar para reter clientes atuais do que para conquistar novos clientes. Portanto, é uma perda que, na maioria das vezes, poderia ter sido evitada.\n",
    "\n",
    "As empresas devem definir um método para calcular o churn e fazer isso de maneira frequente. Monitorar o churn permite identificar possíveis problemas operacionais e técnicos e desenhar melhores estratégias de fidelização.\n",
    "\n",
    "## Existe uma fórmula certa para calcular churn?\n",
    "\n",
    "Existem algumas formas diferentes que podem ser usadas para calcular o churn de uma empresa. A maneira mais comum é dividir o número total de clientes que a empresa tem no começo de um determinado período pelo número de clientes perdidos durante esse mesmo tempo. A taxa de churn pode ser representada de outras formas, como, por exemplo, pelo número total de clientes que a empresa perdeu num determinado período, como também pela porcentagem de clientes perdidos num período comparado com o número total de clientes que a empresa possuí.\n",
    "\n",
    "# Data Acquisition\n",
    "Os dados originais são do [IBM Developer](https://developer.ibm.com/), e reporta um problema tipico de empresas de telecom. O dataset completo pode ser encontrado [aqui](telecom_customer_churn.csv). Apesar de não existir uma descrição exata, o nome das colunas permite entendermos bem o problema.\n",
    "\n",
    "## Pacotes e bibliotecas utilizadas\n",
    "- [Matplotlib](https://matplotlib.org/) — Biblioteca para plotagem de gráficos.\n",
    "- [pandas](https://pandas.pydata.org/) — Biblioteca para manipulação de dados.\n",
    "- [seaborn](https://seaborn.pydata.org/) — Biblioteca para visualização de dados.\n",
    "- [SciPy](https://scipy.org/) - Biblioteca para cálculos matemáticos.\n",
    "\n",
    "## Importando as bibliotecas"
   ]
  },
  {
   "cell_type": "code",
   "execution_count": 1,
   "metadata": {
    "collapsed": false,
    "pycharm": {
     "name": "#%%\n"
    }
   },
   "outputs": [],
   "source": [
    "# matplotlib — Biblioteca para plotagem de gráficos\n",
    "import matplotlib.pyplot as plt\n",
    "\n",
    "# pandas — Biblioteca para manipulação de dados\n",
    "import pandas as pd\n",
    "\n",
    "# seaborn — Biblioteca para visualização de dados\n",
    "import seaborn as sns\n",
    "\n",
    "# scipy — Biblioteca para cálculos estatísticos\n",
    "from scipy import stats as st"
   ]
  },
  {
   "cell_type": "code",
   "execution_count": 2,
   "metadata": {
    "collapsed": false,
    "pycharm": {
     "name": "#%%\n"
    }
   },
   "outputs": [],
   "source": [
    "# Salvando os gráficos junto (inline) com o notebook.\n",
    "%matplotlib inline"
   ]
  },
  {
   "cell_type": "code",
   "execution_count": 3,
   "metadata": {
    "collapsed": false,
    "pycharm": {
     "name": "#%%\n"
    }
   },
   "outputs": [],
   "source": [
    "# Configurando a exibição dos gráficos para o notebook.\n",
    "sns.set_theme(style='whitegrid', context='notebook')\n",
    "\n",
    "# Tamanho padrão dos gráficos.\n",
    "sns.set(rc={'figure.figsize': (12, 6)})"
   ]
  },
  {
   "cell_type": "markdown",
   "metadata": {
    "collapsed": false,
    "pycharm": {
     "name": "#%% md\n"
    }
   },
   "source": [
    "## Importando o dataset"
   ]
  },
  {
   "cell_type": "code",
   "execution_count": 4,
   "metadata": {},
   "outputs": [],
   "source": [
    "DATA_PATH = r'datasets\\telecom_customer_churn.csv'"
   ]
  },
  {
   "cell_type": "code",
   "execution_count": 5,
   "metadata": {
    "collapsed": false,
    "pycharm": {
     "name": "#%%\n"
    }
   },
   "outputs": [
    {
     "data": {
      "text/html": [
       "<div>\n",
       "<style scoped>\n",
       "    .dataframe tbody tr th:only-of-type {\n",
       "        vertical-align: middle;\n",
       "    }\n",
       "\n",
       "    .dataframe tbody tr th {\n",
       "        vertical-align: top;\n",
       "    }\n",
       "\n",
       "    .dataframe thead th {\n",
       "        text-align: right;\n",
       "    }\n",
       "</style>\n",
       "<table border=\"1\" class=\"dataframe\">\n",
       "  <thead>\n",
       "    <tr style=\"text-align: right;\">\n",
       "      <th></th>\n",
       "      <th>customerID</th>\n",
       "      <th>gender</th>\n",
       "      <th>SeniorCitizen</th>\n",
       "      <th>Partner</th>\n",
       "      <th>Dependents</th>\n",
       "      <th>tenure</th>\n",
       "      <th>PhoneService</th>\n",
       "      <th>MultipleLines</th>\n",
       "      <th>InternetService</th>\n",
       "      <th>OnlineSecurity</th>\n",
       "      <th>...</th>\n",
       "      <th>DeviceProtection</th>\n",
       "      <th>TechSupport</th>\n",
       "      <th>StreamingTV</th>\n",
       "      <th>StreamingMovies</th>\n",
       "      <th>Contract</th>\n",
       "      <th>PaperlessBilling</th>\n",
       "      <th>PaymentMethod</th>\n",
       "      <th>MonthlyCharges</th>\n",
       "      <th>TotalCharges</th>\n",
       "      <th>Churn</th>\n",
       "    </tr>\n",
       "  </thead>\n",
       "  <tbody>\n",
       "    <tr>\n",
       "      <th>6385</th>\n",
       "      <td>0702-PGIBZ</td>\n",
       "      <td>Male</td>\n",
       "      <td>0</td>\n",
       "      <td>No</td>\n",
       "      <td>Yes</td>\n",
       "      <td>4</td>\n",
       "      <td>Yes</td>\n",
       "      <td>Yes</td>\n",
       "      <td>Fiber optic</td>\n",
       "      <td>No</td>\n",
       "      <td>...</td>\n",
       "      <td>No</td>\n",
       "      <td>No</td>\n",
       "      <td>Yes</td>\n",
       "      <td>Yes</td>\n",
       "      <td>Month-to-month</td>\n",
       "      <td>Yes</td>\n",
       "      <td>Electronic check</td>\n",
       "      <td>101.70</td>\n",
       "      <td>364.55</td>\n",
       "      <td>Yes</td>\n",
       "    </tr>\n",
       "    <tr>\n",
       "      <th>2497</th>\n",
       "      <td>5702-SKUOB</td>\n",
       "      <td>Female</td>\n",
       "      <td>0</td>\n",
       "      <td>Yes</td>\n",
       "      <td>No</td>\n",
       "      <td>4</td>\n",
       "      <td>Yes</td>\n",
       "      <td>No</td>\n",
       "      <td>No</td>\n",
       "      <td>No internet service</td>\n",
       "      <td>...</td>\n",
       "      <td>No internet service</td>\n",
       "      <td>No internet service</td>\n",
       "      <td>No internet service</td>\n",
       "      <td>No internet service</td>\n",
       "      <td>Month-to-month</td>\n",
       "      <td>No</td>\n",
       "      <td>Mailed check</td>\n",
       "      <td>19.60</td>\n",
       "      <td>93.45</td>\n",
       "      <td>No</td>\n",
       "    </tr>\n",
       "    <tr>\n",
       "      <th>6888</th>\n",
       "      <td>3191-CSNMG</td>\n",
       "      <td>Female</td>\n",
       "      <td>0</td>\n",
       "      <td>Yes</td>\n",
       "      <td>Yes</td>\n",
       "      <td>3</td>\n",
       "      <td>Yes</td>\n",
       "      <td>No</td>\n",
       "      <td>Fiber optic</td>\n",
       "      <td>No</td>\n",
       "      <td>...</td>\n",
       "      <td>No</td>\n",
       "      <td>No</td>\n",
       "      <td>Yes</td>\n",
       "      <td>No</td>\n",
       "      <td>Month-to-month</td>\n",
       "      <td>Yes</td>\n",
       "      <td>Electronic check</td>\n",
       "      <td>80.70</td>\n",
       "      <td>239.45</td>\n",
       "      <td>No</td>\n",
       "    </tr>\n",
       "    <tr>\n",
       "      <th>190</th>\n",
       "      <td>7100-FQPRV</td>\n",
       "      <td>Male</td>\n",
       "      <td>0</td>\n",
       "      <td>Yes</td>\n",
       "      <td>Yes</td>\n",
       "      <td>43</td>\n",
       "      <td>Yes</td>\n",
       "      <td>Yes</td>\n",
       "      <td>DSL</td>\n",
       "      <td>Yes</td>\n",
       "      <td>...</td>\n",
       "      <td>No</td>\n",
       "      <td>Yes</td>\n",
       "      <td>No</td>\n",
       "      <td>Yes</td>\n",
       "      <td>One year</td>\n",
       "      <td>Yes</td>\n",
       "      <td>Credit card (automatic)</td>\n",
       "      <td>71.90</td>\n",
       "      <td>3173.35</td>\n",
       "      <td>No</td>\n",
       "    </tr>\n",
       "    <tr>\n",
       "      <th>4784</th>\n",
       "      <td>1622-HSHSF</td>\n",
       "      <td>Female</td>\n",
       "      <td>0</td>\n",
       "      <td>No</td>\n",
       "      <td>No</td>\n",
       "      <td>1</td>\n",
       "      <td>Yes</td>\n",
       "      <td>No</td>\n",
       "      <td>No</td>\n",
       "      <td>No internet service</td>\n",
       "      <td>...</td>\n",
       "      <td>No internet service</td>\n",
       "      <td>No internet service</td>\n",
       "      <td>No internet service</td>\n",
       "      <td>No internet service</td>\n",
       "      <td>Month-to-month</td>\n",
       "      <td>Yes</td>\n",
       "      <td>Mailed check</td>\n",
       "      <td>19.55</td>\n",
       "      <td>19.55</td>\n",
       "      <td>No</td>\n",
       "    </tr>\n",
       "    <tr>\n",
       "      <th>4093</th>\n",
       "      <td>2476-YGEFM</td>\n",
       "      <td>Female</td>\n",
       "      <td>0</td>\n",
       "      <td>No</td>\n",
       "      <td>No</td>\n",
       "      <td>29</td>\n",
       "      <td>Yes</td>\n",
       "      <td>Yes</td>\n",
       "      <td>Fiber optic</td>\n",
       "      <td>No</td>\n",
       "      <td>...</td>\n",
       "      <td>No</td>\n",
       "      <td>No</td>\n",
       "      <td>No</td>\n",
       "      <td>No</td>\n",
       "      <td>Month-to-month</td>\n",
       "      <td>Yes</td>\n",
       "      <td>Credit card (automatic)</td>\n",
       "      <td>76.00</td>\n",
       "      <td>2215.25</td>\n",
       "      <td>No</td>\n",
       "    </tr>\n",
       "    <tr>\n",
       "      <th>2184</th>\n",
       "      <td>4695-WJZUE</td>\n",
       "      <td>Female</td>\n",
       "      <td>1</td>\n",
       "      <td>No</td>\n",
       "      <td>No</td>\n",
       "      <td>2</td>\n",
       "      <td>Yes</td>\n",
       "      <td>Yes</td>\n",
       "      <td>Fiber optic</td>\n",
       "      <td>No</td>\n",
       "      <td>...</td>\n",
       "      <td>Yes</td>\n",
       "      <td>No</td>\n",
       "      <td>No</td>\n",
       "      <td>Yes</td>\n",
       "      <td>Month-to-month</td>\n",
       "      <td>Yes</td>\n",
       "      <td>Electronic check</td>\n",
       "      <td>88.55</td>\n",
       "      <td>179.25</td>\n",
       "      <td>Yes</td>\n",
       "    </tr>\n",
       "    <tr>\n",
       "      <th>3129</th>\n",
       "      <td>7080-TNUWP</td>\n",
       "      <td>Male</td>\n",
       "      <td>0</td>\n",
       "      <td>Yes</td>\n",
       "      <td>No</td>\n",
       "      <td>70</td>\n",
       "      <td>Yes</td>\n",
       "      <td>Yes</td>\n",
       "      <td>Fiber optic</td>\n",
       "      <td>No</td>\n",
       "      <td>...</td>\n",
       "      <td>Yes</td>\n",
       "      <td>No</td>\n",
       "      <td>Yes</td>\n",
       "      <td>No</td>\n",
       "      <td>One year</td>\n",
       "      <td>Yes</td>\n",
       "      <td>Bank transfer (automatic)</td>\n",
       "      <td>95.00</td>\n",
       "      <td>6602.9</td>\n",
       "      <td>No</td>\n",
       "    </tr>\n",
       "    <tr>\n",
       "      <th>3975</th>\n",
       "      <td>2860-RANUS</td>\n",
       "      <td>Female</td>\n",
       "      <td>1</td>\n",
       "      <td>No</td>\n",
       "      <td>No</td>\n",
       "      <td>20</td>\n",
       "      <td>Yes</td>\n",
       "      <td>Yes</td>\n",
       "      <td>Fiber optic</td>\n",
       "      <td>No</td>\n",
       "      <td>...</td>\n",
       "      <td>No</td>\n",
       "      <td>No</td>\n",
       "      <td>No</td>\n",
       "      <td>Yes</td>\n",
       "      <td>Month-to-month</td>\n",
       "      <td>Yes</td>\n",
       "      <td>Credit card (automatic)</td>\n",
       "      <td>85.80</td>\n",
       "      <td>1727.5</td>\n",
       "      <td>Yes</td>\n",
       "    </tr>\n",
       "    <tr>\n",
       "      <th>6016</th>\n",
       "      <td>4250-ZBWLV</td>\n",
       "      <td>Male</td>\n",
       "      <td>0</td>\n",
       "      <td>No</td>\n",
       "      <td>No</td>\n",
       "      <td>68</td>\n",
       "      <td>Yes</td>\n",
       "      <td>Yes</td>\n",
       "      <td>Fiber optic</td>\n",
       "      <td>No</td>\n",
       "      <td>...</td>\n",
       "      <td>Yes</td>\n",
       "      <td>Yes</td>\n",
       "      <td>Yes</td>\n",
       "      <td>Yes</td>\n",
       "      <td>One year</td>\n",
       "      <td>No</td>\n",
       "      <td>Electronic check</td>\n",
       "      <td>108.45</td>\n",
       "      <td>7176.55</td>\n",
       "      <td>Yes</td>\n",
       "    </tr>\n",
       "  </tbody>\n",
       "</table>\n",
       "<p>10 rows × 21 columns</p>\n",
       "</div>"
      ],
      "text/plain": [
       "      customerID  gender  SeniorCitizen Partner Dependents  tenure  \\\n",
       "6385  0702-PGIBZ    Male              0      No        Yes       4   \n",
       "2497  5702-SKUOB  Female              0     Yes         No       4   \n",
       "6888  3191-CSNMG  Female              0     Yes        Yes       3   \n",
       "190   7100-FQPRV    Male              0     Yes        Yes      43   \n",
       "4784  1622-HSHSF  Female              0      No         No       1   \n",
       "4093  2476-YGEFM  Female              0      No         No      29   \n",
       "2184  4695-WJZUE  Female              1      No         No       2   \n",
       "3129  7080-TNUWP    Male              0     Yes         No      70   \n",
       "3975  2860-RANUS  Female              1      No         No      20   \n",
       "6016  4250-ZBWLV    Male              0      No         No      68   \n",
       "\n",
       "     PhoneService MultipleLines InternetService       OnlineSecurity  ...  \\\n",
       "6385          Yes           Yes     Fiber optic                   No  ...   \n",
       "2497          Yes            No              No  No internet service  ...   \n",
       "6888          Yes            No     Fiber optic                   No  ...   \n",
       "190           Yes           Yes             DSL                  Yes  ...   \n",
       "4784          Yes            No              No  No internet service  ...   \n",
       "4093          Yes           Yes     Fiber optic                   No  ...   \n",
       "2184          Yes           Yes     Fiber optic                   No  ...   \n",
       "3129          Yes           Yes     Fiber optic                   No  ...   \n",
       "3975          Yes           Yes     Fiber optic                   No  ...   \n",
       "6016          Yes           Yes     Fiber optic                   No  ...   \n",
       "\n",
       "         DeviceProtection          TechSupport          StreamingTV  \\\n",
       "6385                   No                   No                  Yes   \n",
       "2497  No internet service  No internet service  No internet service   \n",
       "6888                   No                   No                  Yes   \n",
       "190                    No                  Yes                   No   \n",
       "4784  No internet service  No internet service  No internet service   \n",
       "4093                   No                   No                   No   \n",
       "2184                  Yes                   No                   No   \n",
       "3129                  Yes                   No                  Yes   \n",
       "3975                   No                   No                   No   \n",
       "6016                  Yes                  Yes                  Yes   \n",
       "\n",
       "          StreamingMovies        Contract PaperlessBilling  \\\n",
       "6385                  Yes  Month-to-month              Yes   \n",
       "2497  No internet service  Month-to-month               No   \n",
       "6888                   No  Month-to-month              Yes   \n",
       "190                   Yes        One year              Yes   \n",
       "4784  No internet service  Month-to-month              Yes   \n",
       "4093                   No  Month-to-month              Yes   \n",
       "2184                  Yes  Month-to-month              Yes   \n",
       "3129                   No        One year              Yes   \n",
       "3975                  Yes  Month-to-month              Yes   \n",
       "6016                  Yes        One year               No   \n",
       "\n",
       "                  PaymentMethod MonthlyCharges  TotalCharges Churn  \n",
       "6385           Electronic check         101.70        364.55   Yes  \n",
       "2497               Mailed check          19.60         93.45    No  \n",
       "6888           Electronic check          80.70        239.45    No  \n",
       "190     Credit card (automatic)          71.90       3173.35    No  \n",
       "4784               Mailed check          19.55         19.55    No  \n",
       "4093    Credit card (automatic)          76.00       2215.25    No  \n",
       "2184           Electronic check          88.55        179.25   Yes  \n",
       "3129  Bank transfer (automatic)          95.00        6602.9    No  \n",
       "3975    Credit card (automatic)          85.80        1727.5   Yes  \n",
       "6016           Electronic check         108.45       7176.55   Yes  \n",
       "\n",
       "[10 rows x 21 columns]"
      ]
     },
     "execution_count": 5,
     "metadata": {},
     "output_type": "execute_result"
    }
   ],
   "source": [
    "# Carregando os dados.\n",
    "dados = pd.read_csv(DATA_PATH)\n",
    "dados.sample(10)"
   ]
  },
  {
   "cell_type": "code",
   "execution_count": 6,
   "metadata": {
    "collapsed": false,
    "pycharm": {
     "name": "#%%\n"
    }
   },
   "outputs": [
    {
     "name": "stdout",
     "output_type": "stream",
     "text": [
      "Nossa base de dados tem 7043 linhas e 21 colunas.\n"
     ]
    }
   ],
   "source": [
    "# Descobrindo as dimensões do dataset.\n",
    "print(f'Nossa base de dados tem {dados.shape[0]} linhas e {dados.shape[1]} colunas.')"
   ]
  },
  {
   "cell_type": "code",
   "execution_count": 7,
   "metadata": {
    "collapsed": false,
    "pycharm": {
     "name": "#%%\n"
    }
   },
   "outputs": [
    {
     "name": "stdout",
     "output_type": "stream",
     "text": [
      "Index(['customerID', 'gender', 'SeniorCitizen', 'Partner', 'Dependents',\n",
      "       'tenure', 'PhoneService', 'MultipleLines', 'InternetService',\n",
      "       'OnlineSecurity', 'OnlineBackup', 'DeviceProtection', 'TechSupport',\n",
      "       'StreamingTV', 'StreamingMovies', 'Contract', 'PaperlessBilling',\n",
      "       'PaymentMethod', 'MonthlyCharges', 'TotalCharges', 'Churn'],\n",
      "      dtype='object')\n"
     ]
    }
   ],
   "source": [
    "# Visualizando os nomes das colunas.\n",
    "print(dados.columns)"
   ]
  },
  {
   "cell_type": "markdown",
   "metadata": {
    "collapsed": false,
    "pycharm": {
     "name": "#%% md\n"
    }
   },
   "source": [
    "Para melhor visualização, e para podermos consultar os dados no futuro, caso seja necessário, vamos criar um dataframe auxiliar contendo as informações sobre o tipo dos dados e se existe ou não informações faltantes."
   ]
  },
  {
   "cell_type": "code",
   "execution_count": 8,
   "metadata": {
    "collapsed": false,
    "pycharm": {
     "name": "#%%\n"
    }
   },
   "outputs": [
    {
     "name": "stdout",
     "output_type": "stream",
     "text": [
      "<class 'pandas.core.frame.DataFrame'>\n",
      "RangeIndex: 7043 entries, 0 to 7042\n",
      "Data columns (total 21 columns):\n",
      " #   Column            Non-Null Count  Dtype  \n",
      "---  ------            --------------  -----  \n",
      " 0   customerID        7043 non-null   object \n",
      " 1   gender            7043 non-null   object \n",
      " 2   SeniorCitizen     7043 non-null   int64  \n",
      " 3   Partner           7043 non-null   object \n",
      " 4   Dependents        7043 non-null   object \n",
      " 5   tenure            7043 non-null   int64  \n",
      " 6   PhoneService      7043 non-null   object \n",
      " 7   MultipleLines     7043 non-null   object \n",
      " 8   InternetService   7043 non-null   object \n",
      " 9   OnlineSecurity    7043 non-null   object \n",
      " 10  OnlineBackup      7043 non-null   object \n",
      " 11  DeviceProtection  7043 non-null   object \n",
      " 12  TechSupport       7043 non-null   object \n",
      " 13  StreamingTV       7043 non-null   object \n",
      " 14  StreamingMovies   7043 non-null   object \n",
      " 15  Contract          7043 non-null   object \n",
      " 16  PaperlessBilling  7043 non-null   object \n",
      " 17  PaymentMethod     7043 non-null   object \n",
      " 18  MonthlyCharges    7043 non-null   float64\n",
      " 19  TotalCharges      7043 non-null   object \n",
      " 20  Churn             7043 non-null   object \n",
      "dtypes: float64(1), int64(2), object(18)\n",
      "memory usage: 1.1+ MB\n"
     ]
    }
   ],
   "source": [
    "# Explorando o dataset.\n",
    "dados.info()"
   ]
  },
  {
   "cell_type": "markdown",
   "metadata": {
    "collapsed": false,
    "pycharm": {
     "name": "#%% md\n"
    }
   },
   "source": []
  },
  {
   "cell_type": "code",
   "execution_count": 9,
   "metadata": {
    "collapsed": false,
    "pycharm": {
     "name": "#%%\n"
    }
   },
   "outputs": [],
   "source": [
    "# Convertendo o tipo das colunas MonthlyCharges e TotalCharges para numérico.\n",
    "dados.loc[:, 'TotalCharges'] = pd.to_numeric(dados['TotalCharges'], errors='coerce')"
   ]
  },
  {
   "cell_type": "code",
   "execution_count": 10,
   "metadata": {
    "collapsed": false,
    "pycharm": {
     "name": "#%%\n"
    }
   },
   "outputs": [],
   "source": [
    "# Convertendo as variáveis categóricas.\n",
    "dados[['gender',\n",
    "       'Partner',\n",
    "       'Dependents',\n",
    "       'PhoneService',\n",
    "       'MultipleLines',\n",
    "       'InternetService',\n",
    "       'OnlineSecurity',\n",
    "       'OnlineBackup',\n",
    "       'DeviceProtection',\n",
    "       'TechSupport',\n",
    "       'StreamingTV',\n",
    "       'StreamingMovies',\n",
    "       'Contract',\n",
    "       'PaperlessBilling',\n",
    "       'PaymentMethod']] = dados[['gender',\n",
    "                                  'Partner',\n",
    "                                  'Dependents',\n",
    "                                  'PhoneService',\n",
    "                                  'MultipleLines',\n",
    "                                  'InternetService',\n",
    "                                  'OnlineSecurity',\n",
    "                                  'OnlineBackup',\n",
    "                                  'DeviceProtection',\n",
    "                                  'TechSupport',\n",
    "                                  'StreamingTV',\n",
    "                                  'StreamingMovies',\n",
    "                                  'Contract',\n",
    "                                  'PaperlessBilling',\n",
    "                                  'PaymentMethod']].astype('category')"
   ]
  },
  {
   "cell_type": "code",
   "execution_count": 11,
   "metadata": {
    "collapsed": false,
    "pycharm": {
     "name": "#%%\n"
    }
   },
   "outputs": [
    {
     "data": {
      "text/html": [
       "<div>\n",
       "<style scoped>\n",
       "    .dataframe tbody tr th:only-of-type {\n",
       "        vertical-align: middle;\n",
       "    }\n",
       "\n",
       "    .dataframe tbody tr th {\n",
       "        vertical-align: top;\n",
       "    }\n",
       "\n",
       "    .dataframe thead th {\n",
       "        text-align: right;\n",
       "    }\n",
       "</style>\n",
       "<table border=\"1\" class=\"dataframe\">\n",
       "  <thead>\n",
       "    <tr style=\"text-align: right;\">\n",
       "      <th></th>\n",
       "      <th>Tipo</th>\n",
       "      <th>Nulo</th>\n",
       "      <th>Percentual</th>\n",
       "      <th>Tamanho</th>\n",
       "      <th>Unicos</th>\n",
       "    </tr>\n",
       "  </thead>\n",
       "  <tbody>\n",
       "    <tr>\n",
       "      <th>customerID</th>\n",
       "      <td>object</td>\n",
       "      <td>0</td>\n",
       "      <td>0.0</td>\n",
       "      <td>7043</td>\n",
       "      <td>7043</td>\n",
       "    </tr>\n",
       "    <tr>\n",
       "      <th>gender</th>\n",
       "      <td>category</td>\n",
       "      <td>0</td>\n",
       "      <td>0.0</td>\n",
       "      <td>7043</td>\n",
       "      <td>2</td>\n",
       "    </tr>\n",
       "    <tr>\n",
       "      <th>SeniorCitizen</th>\n",
       "      <td>int64</td>\n",
       "      <td>0</td>\n",
       "      <td>0.0</td>\n",
       "      <td>7043</td>\n",
       "      <td>2</td>\n",
       "    </tr>\n",
       "    <tr>\n",
       "      <th>Partner</th>\n",
       "      <td>category</td>\n",
       "      <td>0</td>\n",
       "      <td>0.0</td>\n",
       "      <td>7043</td>\n",
       "      <td>2</td>\n",
       "    </tr>\n",
       "    <tr>\n",
       "      <th>Dependents</th>\n",
       "      <td>category</td>\n",
       "      <td>0</td>\n",
       "      <td>0.0</td>\n",
       "      <td>7043</td>\n",
       "      <td>2</td>\n",
       "    </tr>\n",
       "    <tr>\n",
       "      <th>tenure</th>\n",
       "      <td>int64</td>\n",
       "      <td>0</td>\n",
       "      <td>0.0</td>\n",
       "      <td>7043</td>\n",
       "      <td>73</td>\n",
       "    </tr>\n",
       "    <tr>\n",
       "      <th>PhoneService</th>\n",
       "      <td>category</td>\n",
       "      <td>0</td>\n",
       "      <td>0.0</td>\n",
       "      <td>7043</td>\n",
       "      <td>2</td>\n",
       "    </tr>\n",
       "    <tr>\n",
       "      <th>MultipleLines</th>\n",
       "      <td>category</td>\n",
       "      <td>0</td>\n",
       "      <td>0.0</td>\n",
       "      <td>7043</td>\n",
       "      <td>3</td>\n",
       "    </tr>\n",
       "    <tr>\n",
       "      <th>InternetService</th>\n",
       "      <td>category</td>\n",
       "      <td>0</td>\n",
       "      <td>0.0</td>\n",
       "      <td>7043</td>\n",
       "      <td>3</td>\n",
       "    </tr>\n",
       "    <tr>\n",
       "      <th>OnlineSecurity</th>\n",
       "      <td>category</td>\n",
       "      <td>0</td>\n",
       "      <td>0.0</td>\n",
       "      <td>7043</td>\n",
       "      <td>3</td>\n",
       "    </tr>\n",
       "    <tr>\n",
       "      <th>OnlineBackup</th>\n",
       "      <td>category</td>\n",
       "      <td>0</td>\n",
       "      <td>0.0</td>\n",
       "      <td>7043</td>\n",
       "      <td>3</td>\n",
       "    </tr>\n",
       "    <tr>\n",
       "      <th>DeviceProtection</th>\n",
       "      <td>category</td>\n",
       "      <td>0</td>\n",
       "      <td>0.0</td>\n",
       "      <td>7043</td>\n",
       "      <td>3</td>\n",
       "    </tr>\n",
       "    <tr>\n",
       "      <th>TechSupport</th>\n",
       "      <td>category</td>\n",
       "      <td>0</td>\n",
       "      <td>0.0</td>\n",
       "      <td>7043</td>\n",
       "      <td>3</td>\n",
       "    </tr>\n",
       "    <tr>\n",
       "      <th>StreamingTV</th>\n",
       "      <td>category</td>\n",
       "      <td>0</td>\n",
       "      <td>0.0</td>\n",
       "      <td>7043</td>\n",
       "      <td>3</td>\n",
       "    </tr>\n",
       "    <tr>\n",
       "      <th>StreamingMovies</th>\n",
       "      <td>category</td>\n",
       "      <td>0</td>\n",
       "      <td>0.0</td>\n",
       "      <td>7043</td>\n",
       "      <td>3</td>\n",
       "    </tr>\n",
       "    <tr>\n",
       "      <th>Contract</th>\n",
       "      <td>category</td>\n",
       "      <td>0</td>\n",
       "      <td>0.0</td>\n",
       "      <td>7043</td>\n",
       "      <td>3</td>\n",
       "    </tr>\n",
       "    <tr>\n",
       "      <th>PaperlessBilling</th>\n",
       "      <td>category</td>\n",
       "      <td>0</td>\n",
       "      <td>0.0</td>\n",
       "      <td>7043</td>\n",
       "      <td>2</td>\n",
       "    </tr>\n",
       "    <tr>\n",
       "      <th>PaymentMethod</th>\n",
       "      <td>category</td>\n",
       "      <td>0</td>\n",
       "      <td>0.0</td>\n",
       "      <td>7043</td>\n",
       "      <td>4</td>\n",
       "    </tr>\n",
       "    <tr>\n",
       "      <th>MonthlyCharges</th>\n",
       "      <td>float64</td>\n",
       "      <td>0</td>\n",
       "      <td>0.0</td>\n",
       "      <td>7043</td>\n",
       "      <td>1585</td>\n",
       "    </tr>\n",
       "    <tr>\n",
       "      <th>TotalCharges</th>\n",
       "      <td>float64</td>\n",
       "      <td>11</td>\n",
       "      <td>0.0</td>\n",
       "      <td>7043</td>\n",
       "      <td>6530</td>\n",
       "    </tr>\n",
       "    <tr>\n",
       "      <th>Churn</th>\n",
       "      <td>object</td>\n",
       "      <td>0</td>\n",
       "      <td>0.0</td>\n",
       "      <td>7043</td>\n",
       "      <td>2</td>\n",
       "    </tr>\n",
       "  </tbody>\n",
       "</table>\n",
       "</div>"
      ],
      "text/plain": [
       "                      Tipo  Nulo  Percentual  Tamanho  Unicos\n",
       "customerID          object     0         0.0     7043    7043\n",
       "gender            category     0         0.0     7043       2\n",
       "SeniorCitizen        int64     0         0.0     7043       2\n",
       "Partner           category     0         0.0     7043       2\n",
       "Dependents        category     0         0.0     7043       2\n",
       "tenure               int64     0         0.0     7043      73\n",
       "PhoneService      category     0         0.0     7043       2\n",
       "MultipleLines     category     0         0.0     7043       3\n",
       "InternetService   category     0         0.0     7043       3\n",
       "OnlineSecurity    category     0         0.0     7043       3\n",
       "OnlineBackup      category     0         0.0     7043       3\n",
       "DeviceProtection  category     0         0.0     7043       3\n",
       "TechSupport       category     0         0.0     7043       3\n",
       "StreamingTV       category     0         0.0     7043       3\n",
       "StreamingMovies   category     0         0.0     7043       3\n",
       "Contract          category     0         0.0     7043       3\n",
       "PaperlessBilling  category     0         0.0     7043       2\n",
       "PaymentMethod     category     0         0.0     7043       4\n",
       "MonthlyCharges     float64     0         0.0     7043    1585\n",
       "TotalCharges       float64    11         0.0     7043    6530\n",
       "Churn               object     0         0.0     7043       2"
      ]
     },
     "execution_count": 11,
     "metadata": {},
     "output_type": "execute_result"
    }
   ],
   "source": [
    "# Verificando o tipo dos dados para cada coluna e se existe algum valor nulo.\n",
    "null_data = pd.DataFrame({'Tipo': dados.dtypes,\n",
    "                          'Nulo': dados.isna().sum(),\n",
    "                          'Percentual': round(dados.isna().sum() / dados.shape[0], 2),\n",
    "                          'Tamanho': dados.shape[0],\n",
    "                          'Unicos':dados.nunique()})\n",
    "null_data"
   ]
  },
  {
   "cell_type": "markdown",
   "metadata": {
    "collapsed": false,
    "pycharm": {
     "name": "#%% md\n"
    }
   },
   "source": [
    "Criando gráficos de barras para melhor visualizar todas as colunas categóricas."
   ]
  },
  {
   "cell_type": "code",
   "execution_count": 12,
   "metadata": {
    "collapsed": false,
    "pycharm": {
     "name": "#%%\n"
    }
   },
   "outputs": [
    {
     "data": {
      "image/png": "[encoded data removed]",
      "text/plain": [
       "<Figure size 1080x1800 with 15 Axes>"
      ]
     },
     "metadata": {},
     "output_type": "display_data"
    }
   ],
   "source": [
    "# Configurando a exibição múltipla dos gráficos.\n",
    "total_plots = len(dados.select_dtypes(include=['category']).columns)\n",
    "total_column = 3\n",
    "total_rows = total_plots // total_column\n",
    "fig, axs = plt.subplots(nrows=total_rows, ncols=total_column, figsize=(5*total_column, 5*total_rows), constrained_layout=True)\n",
    "\n",
    "# Para cada coluna categórica, criamos um gráfico de barras.\n",
    "for index, column in enumerate(dados.select_dtypes(include=['category']).columns):\n",
    "    row = index // total_column\n",
    "    position = index % total_column\n",
    "    plot = sns.countplot(x=column, data=dados, ax=axs[row][position])\n",
    "    plot.set_title(f'Coluna Categórica: {column}')\n",
    "    plot.set_xlabel('')\n",
    "    plot.set_xticklabels(plot.get_xticklabels(), rotation=45, ha='right')"
   ]
  },
  {
   "cell_type": "code",
   "execution_count": 13,
   "metadata": {
    "collapsed": false,
    "pycharm": {
     "name": "#%%\n"
    }
   },
   "outputs": [],
   "source": [
    "def test_normal_shapiro_wilk(data, alfa=0.05):\n",
    "    \"\"\"Aplica o Teste de Shapiro-Wilk para verificar se os dados são normalmente distribuídos.\"\"\"\n",
    "\n",
    "    statistic_w, p_value = st.shapiro(data)\n",
    "\n",
    "    if len(data) > 5_000:\n",
    "        if statistic_w < alfa:\n",
    "            return False\n",
    "\n",
    "    if p_value < alfa:\n",
    "        return False\n",
    "\n",
    "    return True"
   ]
  },
  {
   "cell_type": "code",
   "execution_count": 14,
   "metadata": {
    "collapsed": false,
    "pycharm": {
     "name": "#%%\n"
    }
   },
   "outputs": [],
   "source": [
    "def test_equal_variances(data_01, data_02, alfa=0.05):\n",
    "    \"\"\"Aplica o teste de Levene para determinar se os dados têm a mesma variância.\"\"\"\n",
    "\n",
    "    statistic, p_value = st.levene(data_01, data_02)\n",
    "\n",
    "    if p_value < alfa:\n",
    "        return False\n",
    "\n",
    "    return True"
   ]
  },
  {
   "cell_type": "code",
   "execution_count": 15,
   "metadata": {
    "collapsed": false,
    "pycharm": {
     "name": "#%%\n"
    }
   },
   "outputs": [],
   "source": [
    "def hypothesis_testing(data_01, data_02):\n",
    "    \"\"\"Aplica o melhor teste de hipótese baseado nas características dos dados.\"\"\"\n",
    "\n",
    "    if test_normal_shapiro_wilk(data_01) and test_normal_shapiro_wilk(data_02):\n",
    "        if test_equal_variances(data_01, data_02):\n",
    "            return st.ttest_ind(data_01, data_02)\n",
    "\n",
    "        return st.ttest_ind(data_01, data_02, equal_var=False)\n",
    "\n",
    "    return st.mannwhitneyu(data_01, data_02)"
   ]
  },
  {
   "cell_type": "markdown",
   "metadata": {
    "collapsed": false,
    "pycharm": {
     "name": "#%% md\n"
    }
   },
   "source": [
    "## Tipos de contratos"
   ]
  },
  {
   "cell_type": "code",
   "execution_count": 16,
   "metadata": {
    "collapsed": false,
    "pycharm": {
     "name": "#%%\n"
    }
   },
   "outputs": [],
   "source": [
    "def summary_contract(data):\n",
    "    \"\"\"Resume as informações da coluna Contract.\"\"\"\n",
    "\n",
    "    contracts_type = data['Contract'].value_counts()\n",
    "\n",
    "    contract_per_month = contracts_type['Month-to-month']\n",
    "    contract_one_year = contracts_type['One year']\n",
    "    contract_two_year = contracts_type['Two year']\n",
    "\n",
    "    contract_per_month_percentage = round((contract_per_month / data.shape[0]) * 100, 2)\n",
    "    contract_one_year_percentage = round((contract_one_year / data.shape[0]) * 100, 2)\n",
    "    contract_two_year_percentage = round((contract_two_year / data.shape[0]) * 100, 2)\n",
    "\n",
    "    print(f'Percentual de clientes com contrato por mês: {contract_per_month_percentage}%')\n",
    "    print(f'Percentual de clientes com contrato de um ano: {contract_one_year_percentage}%')\n",
    "    print(f'Percentual de clientes com contrato de dois anos: {contract_two_year_percentage}%')"
   ]
  },
  {
   "cell_type": "code",
   "execution_count": 17,
   "metadata": {
    "collapsed": false,
    "pycharm": {
     "name": "#%%\n"
    }
   },
   "outputs": [
    {
     "name": "stdout",
     "output_type": "stream",
     "text": [
      "Total de clientes: 7043\n",
      "Percentual de clientes com contrato por mês: 55.02%\n",
      "Percentual de clientes com contrato de um ano: 20.91%\n",
      "Percentual de clientes com contrato de dois anos: 24.07%\n"
     ]
    }
   ],
   "source": [
    "# Descobrindo a percentagem dos relacionamentos existentes para todos os clientes.\n",
    "print(f'Total de clientes: {dados.shape[0]}')\n",
    "\n",
    "summary_contract(dados)"
   ]
  },
  {
   "cell_type": "code",
   "execution_count": 18,
   "metadata": {
    "collapsed": false,
    "pycharm": {
     "name": "#%%\n"
    }
   },
   "outputs": [
    {
     "name": "stdout",
     "output_type": "stream",
     "text": [
      "Total de clientes churn: 1869\n",
      "Percentual de clientes com contrato por mês: 88.55%\n",
      "Percentual de clientes com contrato de um ano: 8.88%\n",
      "Percentual de clientes com contrato de dois anos: 2.57%\n"
     ]
    }
   ],
   "source": [
    "# Descobrindo a percentagem dos relacionamentos existentes para os clientes churn.\n",
    "client_churn = dados[dados['Churn'] == 'Yes']\n",
    "print(f'Total de clientes churn: {client_churn.shape[0]}')\n",
    "\n",
    "summary_contract(client_churn)"
   ]
  },
  {
   "cell_type": "code",
   "execution_count": 19,
   "metadata": {
    "collapsed": false,
    "pycharm": {
     "name": "#%%\n"
    }
   },
   "outputs": [
    {
     "name": "stdout",
     "output_type": "stream",
     "text": [
      "Total de clientes: 7043\n",
      "Total de clientes não churn: 5174\n",
      "Total de clientes churn: 1869\n",
      "\n",
      "Percentual de clientes com contrato por mês: 42.91%\n",
      "Percentual de clientes com contrato de um ano: 25.26%\n",
      "Percentual de clientes com contrato de dois anos: 31.83%\n"
     ]
    }
   ],
   "source": [
    "# Descobrindo a percentagem dos relacionamentos existentes para os clientes não churn.\n",
    "client_not_churn = dados[dados['Churn'] == 'No']\n",
    "print(f'Total de clientes: {dados.shape[0]}')\n",
    "print(f'Total de clientes não churn: {client_not_churn.shape[0]}')\n",
    "print(f'Total de clientes churn: {client_churn.shape[0]}\\n')\n",
    "\n",
    "summary_contract(client_not_churn)"
   ]
  },
  {
   "cell_type": "code",
   "execution_count": 20,
   "metadata": {
    "collapsed": false,
    "pycharm": {
     "name": "#%%\n"
    }
   },
   "outputs": [],
   "source": [
    "a = client_not_churn['Contract'].value_counts().sort_values(ascending=False)\n",
    "b = client_not_churn['Contract'].value_counts(normalize=True).sort_values(ascending=False).values * 100"
   ]
  },
  {
   "cell_type": "code",
   "execution_count": 21,
   "metadata": {
    "collapsed": false,
    "pycharm": {
     "name": "#%%\n"
    }
   },
   "outputs": [
    {
     "data": {
      "text/plain": [
       "['2220 (43%)', '1647 (32%)', '1307 (25%)']"
      ]
     },
     "execution_count": 21,
     "metadata": {},
     "output_type": "execute_result"
    }
   ],
   "source": [
    "[f'{value[0]} ({value[1]:.0f}%)' for value in zip(a, b)]"
   ]
  },
  {
   "cell_type": "code",
   "execution_count": 22,
   "metadata": {
    "collapsed": false,
    "pycharm": {
     "name": "#%%\n"
    }
   },
   "outputs": [],
   "source": [
    "def compare_plot(df, ax_plot, variable, title, palette='pastel', x_label=''):\n",
    "    \"\"\" Cria um gráfico de barras para comparação visual de valores.\"\"\"\n",
    "\n",
    "    sns.countplot(x=variable, data=df, ax=ax_plot, palette=palette)\n",
    "\n",
    "    ax_plot.set_title(title)\n",
    "    ax_plot.set_xlabel(x_label)\n",
    "    ax_plot.set_xticklabels(ax_plot.get_xticklabels(), rotation=45, ha='right')\n",
    "\n",
    "    abs_values = df[variable].value_counts().sort_values(ascending=False)\n",
    "    rel_values = df[variable].value_counts(normalize=True).sort_values(ascending=False).values * 100\n",
    "    bar_label = [f'{value[0]} ({value[1]:.0f}%)' for value in zip(abs_values, rel_values)]\n",
    "\n",
    "    ax_plot.bar_label(container=ax_plot.containers[0], labels=bar_label, fontsize=10.5)\n"
   ]
  },
  {
   "cell_type": "code",
   "execution_count": 23,
   "metadata": {
    "collapsed": false,
    "pycharm": {
     "name": "#%%\n"
    }
   },
   "outputs": [
    {
     "data": {
      "image/png": "[encoded data removed]",
      "text/plain": [
       "<Figure size 864x432 with 3 Axes>"
      ]
     },
     "metadata": {},
     "output_type": "display_data"
    }
   ],
   "source": [
    "# Gráfico de barras para visualizar os tipos de contratos.\n",
    "fig, (ax_1, ax_2, ax_3) = plt.subplots(nrows=1, ncols=3, constrained_layout=True)\n",
    "\n",
    "# Todos os clientes.\n",
    "compare_plot(dados, ax_1, 'Contract', 'Todos os clientes')\n",
    "\n",
    "# Clientes churn.\n",
    "compare_plot(client_churn, ax_2, 'Contract', 'Clientes churn')\n",
    "\n",
    "# Clientes não churn.\n",
    "compare_plot(client_not_churn, ax_3, 'Contract', 'Clientes não churn')"
   ]
  },
  {
   "cell_type": "markdown",
   "metadata": {
    "collapsed": false,
    "pycharm": {
     "name": "#%% md\n"
    }
   },
   "source": [
    "## Teste de Hipótese de tipos de contrato - Clientes Churn\n",
    "\n",
    "- H₀ — Clientes com contratos curtos permanecem ativos por mais tempo.\n",
    "- H₁ — Clientes com contratos longos permanecem ativos por mais tempo."
   ]
  },
  {
   "cell_type": "code",
   "execution_count": 24,
   "metadata": {
    "collapsed": false,
    "pycharm": {
     "name": "#%%\n"
    }
   },
   "outputs": [
    {
     "name": "stdout",
     "output_type": "stream",
     "text": [
      "Tempo médio de permanência para clientes com contratos curtos: 14.02 meses\n",
      "Tempo médio de permanência para clientes com contratos longos: 48.62 meses\n"
     ]
    }
   ],
   "source": [
    "# Clientes churn com contratos curtos.\n",
    "churn_sort = client_churn[client_churn['Contract'] == 'Month-to-month']\n",
    "churn_sort_mean_tenure = churn_sort['tenure'].mean()\n",
    "print(f'Tempo médio de permanência para clientes com contratos curtos: {churn_sort_mean_tenure:.2f} meses')\n",
    "permanancia = ''\n",
    "# Clientes churn com contratos longos.\n",
    "churn_log = client_churn[client_churn['Contract'] != 'Month-to-month']\n",
    "churn_log_mean_tenure = churn_log['tenure'].mean()\n",
    "print(f'Tempo médio de permanência para clientes com contratos longos: {churn_log_mean_tenure:.2f} meses')"
   ]
  },
  {
   "cell_type": "code",
   "execution_count": 25,
   "metadata": {
    "collapsed": false,
    "pycharm": {
     "name": "#%%\n"
    }
   },
   "outputs": [
    {
     "name": "stdout",
     "output_type": "stream",
     "text": [
      "Interpretação do teste de hipotesete: Alfa = 0.05\n",
      "Rejeitamos H₀, os tempos médios de permanência para clientes com contratos curtos e longos são diferentes.\n"
     ]
    }
   ],
   "source": [
    "# Aplicando o teste de hipótese para tipos de contratos.\n",
    "grupo_01 = churn_sort['tenure']\n",
    "grupo_02 = churn_log['tenure']\n",
    "statistic, p_value = hypothesis_testing(grupo_01, grupo_02)\n",
    "\n",
    "ic = .95    # Intervalo de confiança de 95%.\n",
    "alfa = (1 - ic)\n",
    "print(f'Interpretação do teste de hipótese: Alfa = {alfa:.2f}')\n",
    "\n",
    "# Interpretação do resultado do teste de hipótese.\n",
    "if p_value < alfa:\n",
    "    print('Rejeitamos H₀, os tempos médios de permanência para clientes com contratos curtos e longos são diferentes.')\n",
    "else:\n",
    "    print('Não rejeitamos H₁, os tempos médios de permanência para clientes com contratos curtos e longos são iguais.')"
   ]
  },
  {
   "cell_type": "markdown",
   "metadata": {
    "collapsed": false,
    "pycharm": {
     "name": "#%% md\n"
    }
   },
   "source": [
    "## Teste de Hipótese de tipos de contrato - Clientes Ativos\n",
    "\n",
    "- H₀ — Com contratos curtos os clientes permanecem ativos por mais tempo.\n",
    "- H₁ — Com contratos longos os clientes permanecem ativos por mais tempo."
   ]
  },
  {
   "cell_type": "code",
   "execution_count": 26,
   "metadata": {
    "collapsed": false,
    "pycharm": {
     "name": "#%%\n"
    }
   },
   "outputs": [
    {
     "name": "stdout",
     "output_type": "stream",
     "text": [
      "Tempo médio de permanência para clientes não churn com contratos curtos: 21.03 meses\n",
      "Tempo médio de permanência para clientes não churn com contratos longos: 50.00 meses\n"
     ]
    }
   ],
   "source": [
    "# Clientes não churn com contratos curtos.\n",
    "not_churn_sort = client_not_churn[client_not_churn['Contract'] == 'Month-to-month']\n",
    "not_churn_sort_mean_tenure = not_churn_sort['tenure'].mean()\n",
    "print(f'Tempo médio de permanência para clientes não churn com contratos curtos: {not_churn_sort_mean_tenure:.2f} meses')\n",
    "\n",
    "# Clientes não churn com contratos longos.\n",
    "not_churn_log = client_not_churn[client_not_churn['Contract'] != 'Month-to-month']\n",
    "not_churn_log_mean_tenure = not_churn_log['tenure'].mean()\n",
    "print(f'Tempo médio de permanência para clientes não churn com contratos longos: {not_churn_log_mean_tenure:.2f} meses')"
   ]
  },
  {
   "cell_type": "code",
   "execution_count": 27,
   "metadata": {
    "collapsed": false,
    "pycharm": {
     "name": "#%%\n"
    }
   },
   "outputs": [
    {
     "name": "stdout",
     "output_type": "stream",
     "text": [
      "Interpretação do teste de hipotesete: Alfa = 0.05\n",
      "Rejeitamos H₀, os tempos médios de permanência para clientes não churn com contratos curtos e longos são diferentes.\n"
     ]
    }
   ],
   "source": [
    "# Aplicando o teste de hipótese para tipos de contratos.\n",
    "grupo_01 = not_churn_sort['tenure']\n",
    "grupo_02 = not_churn_log['tenure']\n",
    "statistic, p_value = hypothesis_testing(grupo_01, grupo_02)\n",
    "\n",
    "ic = .95    # Intervalo de confiança de 95%.\n",
    "alfa = (1 - ic)\n",
    "print(f'Interpretação do teste de hipótese: Alfa = {alfa:.2f}')\n",
    "\n",
    "if p_value < alfa:\n",
    "    print('Rejeitamos H₀, os tempos médios de permanência para clientes não churn com contratos curtos e longos são diferentes.')\n",
    "else:\n",
    "    print('Não rejeitamos H₁, os tempos médios de permanência para clientes não churn com contratos curtos e longos são iguais.')"
   ]
  },
  {
   "cell_type": "markdown",
   "metadata": {
    "collapsed": false,
    "pycharm": {
     "name": "#%% md\n"
    }
   },
   "source": [
    "# Identificando fatores que possam influenciar o tempo de permanência.\n",
    "\n",
    "Existe algum fator que pode influenciar o tempo de permanência dos clientes?\n",
    "\n",
    "Talvez, o cenário ideal, seja buscar clientes que tenham parceiros, visto que tendo duas pessoas utilizando os serviços, caso uma não use a outra pode usar, evitando assim o cancelamento.\n",
    "\n",
    "## Proporção de clientes ativos com parceiros"
   ]
  },
  {
   "cell_type": "code",
   "execution_count": 28,
   "metadata": {
    "collapsed": false,
    "pycharm": {
     "name": "#%%\n"
    }
   },
   "outputs": [
    {
     "name": "stdout",
     "output_type": "stream",
     "text": [
      "Porcentagem de clientes ativos com parceiros: 52.82%\n",
      "Porcentagem de clientes churn com parceiros: 35.79%\n"
     ]
    }
   ],
   "source": [
    "# Porcentagem de clientes não churn com parceiros\n",
    "not_churn_partner = client_not_churn[client_not_churn['Partner'] == 'Yes']\n",
    "not_churn_partner_percent = not_churn_partner['tenure'].shape[0] / client_not_churn['tenure'].shape[0]* 100\n",
    "print(f'Porcentagem de clientes ativos com parceiros: {not_churn_partner_percent:.2f}%')\n",
    "\n",
    "# Porcentagem de clientes churn sem parceiros.\n",
    "churn_partner = client_churn[client_churn['Partner'] == 'Yes']\n",
    "churn_partner_percent = churn_partner['tenure'].shape[0] / client_churn['tenure'].shape[0] * 100\n",
    "print(f'Porcentagem de clientes churn com parceiros: {churn_partner_percent:.2f}%')"
   ]
  },
  {
   "cell_type": "code",
   "execution_count": 29,
   "metadata": {
    "collapsed": false,
    "pycharm": {
     "name": "#%%\n"
    }
   },
   "outputs": [
    {
     "name": "stdout",
     "output_type": "stream",
     "text": [
      "Tempo médio de permanência para clientes não churn com parceiros: 45.79 meses\n",
      "Tempo médio de permanência para clientes churn sem parceiros: 13.18 meses\n"
     ]
    }
   ],
   "source": [
    "# Tempo médio de permanência de clientes não churn com parceiros.\n",
    "not_churn_partner_mean_tenure = not_churn_partner['tenure'].mean()\n",
    "print(f'Tempo médio de permanência para clientes não churn com parceiros: {not_churn_partner_mean_tenure:.2f} meses')\n",
    "\n",
    "# Tempo médio de permanência de clientes churn sem parceiros.\n",
    "churn_partner = client_churn[client_churn['Partner'] == 'No']\n",
    "churn_partner_mean_tenure = churn_partner['tenure'].mean()\n",
    "print(f'Tempo médio de permanência para clientes churn sem parceiros: {churn_partner_mean_tenure:.2f} meses')"
   ]
  },
  {
   "cell_type": "markdown",
   "metadata": {
    "collapsed": false,
    "pycharm": {
     "name": "#%% md\n"
    }
   },
   "source": [
    "## Teste de Hipótese clientes com/sem parceiros — Clientes Churn\n",
    "\n",
    "- H₀ — clientes sem parceiro ficam mais tempo\n",
    "- H₁ — clientes com parceiro ficam mais tempo"
   ]
  },
  {
   "cell_type": "code",
   "execution_count": 30,
   "metadata": {
    "collapsed": false,
    "pycharm": {
     "name": "#%%\n"
    }
   },
   "outputs": [
    {
     "name": "stdout",
     "output_type": "stream",
     "text": [
      "Tempo médio de permanência para clientes churn com parceiros: 26.59 meses\n",
      "Tempo médio de permanência para clientes churn sem parceiros: 13.18 meses\n"
     ]
    }
   ],
   "source": [
    "# Clientes churn com parceiros.\n",
    "churn_partner_yes = client_churn[client_churn['Partner'] == 'Yes']\n",
    "churn_partner_yes_mean_tenure = churn_partner_yes['tenure'].mean()\n",
    "print(f'Tempo médio de permanência para clientes churn com parceiros: {churn_partner_yes_mean_tenure:.2f} meses')\n",
    "\n",
    "# Clientes churn sem parceiros.\n",
    "churn_partner_no = client_churn[client_churn['Partner'] == 'No']\n",
    "churn_partner_no_mean_tenure = churn_partner['tenure'].mean()\n",
    "print(f'Tempo médio de permanência para clientes churn sem parceiros: {churn_partner_no_mean_tenure:.2f} meses')"
   ]
  },
  {
   "cell_type": "code",
   "execution_count": 31,
   "metadata": {
    "collapsed": false,
    "pycharm": {
     "name": "#%%\n"
    }
   },
   "outputs": [
    {
     "name": "stdout",
     "output_type": "stream",
     "text": [
      "Interpretação do teste de hipotesete: Alfa = 0.05\n",
      "Rejeitamos H₀, os tempos médios de permanência para clientes churn com parceiros e sem parceiros são diferentes.\n"
     ]
    }
   ],
   "source": [
    "# Aplicando o teste de hipótese para tipos de contratos.\n",
    "grupo_01 = churn_partner_yes['tenure']\n",
    "grupo_02 = churn_partner_no['tenure']\n",
    "statistic, p_value = hypothesis_testing(grupo_01, grupo_02)\n",
    "\n",
    "ic = .95    # Intervalo de confiança de 95%.\n",
    "alfa = (1 - ic)\n",
    "print(f'Interpretação do teste de hipótese: Alfa = {alfa:.2f}')\n",
    "\n",
    "if p_value < alfa:\n",
    "    print('Rejeitamos H₀, os tempos médios de permanência para clientes churn com parceiros e sem parceiros são diferentes.')\n",
    "else:\n",
    "    print('Não rejeitamos H₁, os tempos médios de permanência para clientes churn com parceiros e sem parceiros são iguais.')"
   ]
  },
  {
   "cell_type": "markdown",
   "metadata": {
    "collapsed": false,
    "pycharm": {
     "name": "#%% md\n"
    }
   },
   "source": [
    "## Teste de Hipótese clientes com/sem parceiros — Clientes Ativos\n",
    "\n",
    "- H₀ — clientes sem parceiro ficam mais tempo\n",
    "- H₁ — clientes com parceiro ficam mais tempo"
   ]
  },
  {
   "cell_type": "code",
   "execution_count": 32,
   "metadata": {
    "collapsed": false,
    "pycharm": {
     "name": "#%%\n"
    }
   },
   "outputs": [
    {
     "name": "stdout",
     "output_type": "stream",
     "text": [
      "Tempo médio de permanência para clientes não churn com parceiros: 45.79 meses\n",
      "Tempo médio de permanência para clientes não churn sem parceiros: 28.36 meses\n"
     ]
    }
   ],
   "source": [
    "# Clientes não churn com parceiros.\n",
    "not_churn_partner_yes = client_not_churn[client_not_churn['Partner'] == 'Yes']\n",
    "not_churn_partner_yes_mean_tenure = not_churn_partner_yes['tenure'].mean()\n",
    "print(f'Tempo médio de permanência para clientes não churn com parceiros: {not_churn_partner_yes_mean_tenure:.2f} meses')\n",
    "\n",
    "# Clientes churn sem parceiros.\n",
    "not_churn_partner_no = client_not_churn[client_not_churn['Partner'] == 'No']\n",
    "not_churn_partner_no_mean_tenure = not_churn_partner_no['tenure'].mean()\n",
    "print(f'Tempo médio de permanência para clientes não churn sem parceiros: {not_churn_partner_no_mean_tenure:.2f} meses')"
   ]
  },
  {
   "cell_type": "code",
   "execution_count": 33,
   "metadata": {
    "collapsed": false,
    "pycharm": {
     "name": "#%%\n"
    }
   },
   "outputs": [
    {
     "name": "stdout",
     "output_type": "stream",
     "text": [
      "Interpretação do teste de hipotesete: Alfa = 0.05\n",
      "Rejeitamos H₀, os tempos médios de permanência para clientes não churn com parceiros e sem parceiros são diferentes.\n"
     ]
    }
   ],
   "source": [
    "# Aplicando o teste de hipótese para clientes com/sem parceiros.\n",
    "grupo_01 = not_churn_partner_yes['tenure']\n",
    "grupo_02 = not_churn_partner_no['tenure']\n",
    "statistic, p_value = hypothesis_testing(grupo_01, grupo_02)\n",
    "\n",
    "ic = .95    # Intervalo de confiança de 95%.\n",
    "alfa = (1 - ic)\n",
    "print(f'Interpretação do teste de hipótese: Alfa = {alfa:.2f}')\n",
    "\n",
    "if p_value < alfa:\n",
    "    print('Rejeitamos H₀, os tempos médios de permanência para clientes não churn com parceiros e sem parceiros são diferentes.')\n",
    "else:\n",
    "    print('Não rejeitamos H₁, os tempos médios de permanência para clientes não churn com parceiros e sem parceiros são iguais.')"
   ]
  },
  {
   "cell_type": "markdown",
   "metadata": {
    "collapsed": false,
    "pycharm": {
     "name": "#%% md\n"
    }
   },
   "source": [
    "Se clientes com parceiros permanecem por mais tempo, será que esta análise se aplica para clientes com dependentes? Vamos aos testes!\n",
    "\n",
    "## Proporção de clientes com dependentes\n"
   ]
  },
  {
   "cell_type": "code",
   "execution_count": 34,
   "metadata": {
    "collapsed": false,
    "pycharm": {
     "name": "#%%\n"
    }
   },
   "outputs": [
    {
     "name": "stdout",
     "output_type": "stream",
     "text": [
      "Porcentagem de clientes não churn com dependentes: 34.48%\n",
      "Porcentagem de clientes churn com dependentes: 17.44%\n"
     ]
    }
   ],
   "source": [
    "# Porcentagem de clientes não churn com dependentes.\n",
    "not_churn_dependent_yes = client_not_churn[client_not_churn['Dependents'] == 'Yes']\n",
    "not_churn_dependent_yes_percent = not_churn_dependent_yes['tenure'].shape[0] / client_not_churn['tenure'].shape[0]* 100\n",
    "print(f'Porcentagem de clientes não churn com dependentes: {not_churn_dependent_yes_percent:.2f}%')\n",
    "\n",
    "# Porcentagem de clientes churn com dependentes.\n",
    "churn_dependent_yes = client_churn[client_churn['Dependents'] == 'Yes']\n",
    "churn_dependent_yes_percent = churn_dependent_yes['tenure'].shape[0]/ client_churn['tenure'].shape[0] * 100\n",
    "print(f'Porcentagem de clientes churn com dependentes: {churn_dependent_yes_percent:.2f}%')"
   ]
  },
  {
   "cell_type": "code",
   "execution_count": 35,
   "metadata": {
    "collapsed": false,
    "pycharm": {
     "name": "#%%\n"
    }
   },
   "outputs": [
    {
     "name": "stdout",
     "output_type": "stream",
     "text": [
      "Tempo médio de permanência para clientes não churn com dependentes: 41.35 meses\n",
      "Tempo médio de permanência para clientes churn com dependentes: 22.03 meses\n"
     ]
    }
   ],
   "source": [
    "# Tempo médio de permanência de clientes não churn com parceiros.\n",
    "not_churn_dependent_yes_mean_tenure = not_churn_dependent_yes['tenure'].mean()\n",
    "print(f'Tempo médio de permanência para clientes não churn com dependentes: {not_churn_dependent_yes_mean_tenure:.2f} meses')\n",
    "\n",
    "# Tempo médio de permanência de clientes churn com parceiros.\n",
    "churn_dependent_yes_mean_tenure = churn_dependent_yes['tenure'].mean()\n",
    "print(f'Tempo médio de permanência para clientes churn com dependentes: {churn_dependent_yes_mean_tenure:.2f} meses')"
   ]
  },
  {
   "cell_type": "markdown",
   "metadata": {
    "collapsed": false,
    "pycharm": {
     "name": "#%% md\n"
    }
   },
   "source": [
    "## Teste de Hipótese para clientes com/sem dependentes — Clientes Churn\n",
    "\n",
    "H₀ — clientes com pagamento não automático ficam mais tempo\n",
    "H₁ — clientes com pagamento automático ficam mais tempo"
   ]
  },
  {
   "cell_type": "code",
   "execution_count": 36,
   "metadata": {
    "collapsed": false,
    "pycharm": {
     "name": "#%%\n"
    }
   },
   "outputs": [
    {
     "name": "stdout",
     "output_type": "stream",
     "text": [
      "Tempo médio de permanência para clientes não churn com dependentes: 41.35 meses\n",
      "Tempo médio de permanência para clientes churn sem dependentes: 17.12 meses\n"
     ]
    }
   ],
   "source": [
    "# Clientes não churn com dependentes.\n",
    "not_churn_dependent_yes = client_not_churn[client_not_churn['Dependents'] == 'Yes']\n",
    "not_churn_dependent_yes_mean_tenure = not_churn_dependent_yes['tenure'].mean()\n",
    "print(f'Tempo médio de permanência para clientes não churn com dependentes: {not_churn_dependent_yes_mean_tenure:.2f} meses')\n",
    "\n",
    "# Clientes churn sem dependentes.\n",
    "churn_dependent_no = client_churn[client_churn['Dependents'] == 'No']\n",
    "churn_dependent_no_mean_tenure = churn_dependent_no['tenure'].mean()\n",
    "print(f'Tempo médio de permanência para clientes churn sem dependentes: {churn_dependent_no_mean_tenure:.2f} meses')"
   ]
  },
  {
   "cell_type": "code",
   "execution_count": 37,
   "metadata": {
    "collapsed": false,
    "pycharm": {
     "name": "#%%\n"
    }
   },
   "outputs": [
    {
     "name": "stdout",
     "output_type": "stream",
     "text": [
      "Interpretação do teste de hipotesete: Alfa = 0.05\n",
      "Rejeitamos H₀, os tempos médios de permanência para clientes não churn com dependentes e sem dependentes são diferentes.\n"
     ]
    }
   ],
   "source": [
    "# Aplicando o teste de hipótese para clientes com/sem dependentes.\n",
    "grupo_01 = not_churn_dependent_yes['tenure']\n",
    "grupo_02 = churn_dependent_no['tenure']\n",
    "statistic, p_value = hypothesis_testing(grupo_01, grupo_02)\n",
    "\n",
    "ic = .95    # Intervalo de confiança de 95%.\n",
    "alfa = (1 - ic)\n",
    "print(f'Interpretação do teste de hipótese: Alfa = {alfa:.2f}')\n",
    "\n",
    "if p_value < alfa:\n",
    "    print('Rejeitamos H₀, os tempos médios de permanência para clientes não churn com dependentes e sem dependentes são diferentes.')\n",
    "else:\n",
    "    print('Não rejeitamos H₁, os tempos médios de permanência para clientes não churn com dependentes e sem dependentes são iguais.')"
   ]
  },
  {
   "cell_type": "markdown",
   "metadata": {
    "collapsed": false,
    "pycharm": {
     "name": "#%% md\n"
    }
   },
   "source": [
    "Será que o o tipo de pagamento escolhido influencia o tempo de permanência do cliente? Vamos testa!"
   ]
  },
  {
   "cell_type": "code",
   "execution_count": 38,
   "metadata": {
    "collapsed": false,
    "pycharm": {
     "name": "#%%\n"
    }
   },
   "outputs": [
    {
     "data": {
      "image/png": "[encoded data removed]",
      "text/plain": [
       "<Figure size 864x432 with 3 Axes>"
      ]
     },
     "metadata": {},
     "output_type": "display_data"
    }
   ],
   "source": [
    "# Visualizando as categorias de pagamentos.\n",
    "fig, (ax_1, ax_2, ax_3) = plt.subplots(nrows=1, ncols=3, constrained_layout=True)\n",
    "\n",
    "# Todos os clientes.\n",
    "compare_plot(client_not_churn, ax_1, 'PaymentMethod', 'Todos os clientes')\n",
    "\n",
    "# Clientes churn.\n",
    "compare_plot(client_churn, ax_2, 'PaymentMethod', 'Clientes churn')\n",
    "\n",
    "# Clientes não churn.\n",
    "compare_plot(client_not_churn, ax_3, 'PaymentMethod', 'Clientes não churn')"
   ]
  },
  {
   "cell_type": "code",
   "execution_count": 39,
   "metadata": {
    "collapsed": false,
    "pycharm": {
     "name": "#%%\n"
    }
   },
   "outputs": [
    {
     "name": "stdout",
     "output_type": "stream",
     "text": [
      "Tempo médio de permanência para clientes não churn com pagamento automático: 46.62 meses\n",
      "Tempo médio de permanência para clientes churn com pagamento manual: 14.82 meses\n"
     ]
    }
   ],
   "source": [
    "# Clientes não churn com pagamento automático.\n",
    "client_not_churn_payment_automatic = client_not_churn[\n",
    "    (client_not_churn['PaymentMethod'] == 'Credit card (automatic)') |\n",
    "    (client_not_churn['PaymentMethod'] == 'Bank transfer (automatic)')]\n",
    "\n",
    "client_not_churn_payment_automatic_mean_tenure = client_not_churn_payment_automatic['tenure'].mean()\n",
    "print(f'Tempo médio de permanência para clientes não churn com pagamento automático: {client_not_churn_payment_automatic_mean_tenure:.2f} meses')\n",
    "\n",
    "# Clientes churn com pagamento manual.\n",
    "client_churn_payment_manual = client_churn[\n",
    "    (client_churn['PaymentMethod'] == 'Mailed check') |\n",
    "    (client_churn['PaymentMethod'] == 'Electronic check')]\n",
    "\n",
    "client_churn_payment_manual_mean_tenure = client_churn_payment_manual['tenure'].mean()\n",
    "print(f'Tempo médio de permanência para clientes churn com pagamento manual: {client_churn_payment_manual_mean_tenure:.2f} meses')"
   ]
  },
  {
   "cell_type": "code",
   "execution_count": 40,
   "metadata": {
    "collapsed": false,
    "pycharm": {
     "name": "#%%\n"
    }
   },
   "outputs": [
    {
     "name": "stdout",
     "output_type": "stream",
     "text": [
      "Interpretação do teste de hipotesete: Alfa = 0.05\n",
      "Rejeitamos H₀, os tempos médios de permanência para clientes não churn com pagamento automático e clientes churn com pagamento manual são diferentes.\n"
     ]
    }
   ],
   "source": [
    "# Aplicando o teste de hipótese para tipo de pagamento.\n",
    "grupo_01 = client_not_churn_payment_automatic['tenure']\n",
    "grupo_02 = client_churn_payment_manual['tenure']\n",
    "statistic, p_value = hypothesis_testing(grupo_01, grupo_02)\n",
    "\n",
    "ic = .95  # Intervalo de confiança de 95%.\n",
    "alfa = (1 - ic)\n",
    "print(f'Interpretação do teste de hipótese: Alfa = {alfa:.2f}')\n",
    "\n",
    "if p_value < alfa:\n",
    "    print(\n",
    "        'Rejeitamos H₀, os tempos médios de permanência para clientes '\n",
    "        'não churn com pagamento automático e clientes churn com pagamento manual são diferentes.')\n",
    "else:\n",
    "    print(\n",
    "        'Não rejeitamos H₁, os tempos médios de permanência para clientes'\n",
    "        ' não churn com pagamento automático e clientes churn com pagamento manual são iguais.')"
   ]
  }
 ],
 "metadata": {
  "kernelspec": {
   "display_name": "Python 3.10.4 ('.venv': venv)",
   "language": "python",
   "name": "python3"
  },
  "language_info": {
   "codemirror_mode": {
    "name": "ipython",
    "version": 3
   },
   "file_extension": ".py",
   "mimetype": "text/x-python",
   "name": "python",
   "nbconvert_exporter": "python",
   "pygments_lexer": "ipython3",
   "version": "3.10.4"
  },
  "vscode": {
   "interpreter": {
    "hash": "d9d409e2473ccbf52161dd51bcee38f007c7dd5b35a2f323878e84394693ac67"
   }
  }
 },
 "nbformat": 4,
 "nbformat_minor": 0
}
